{
 "cells": [
  {
   "cell_type": "code",
   "execution_count": 4,
   "id": "17e79858",
   "metadata": {},
   "outputs": [],
   "source": [
    "import pandas as pd"
   ]
  },
  {
   "cell_type": "code",
   "execution_count": 8,
   "id": "bf8a7af7",
   "metadata": {},
   "outputs": [],
   "source": [
    "# CSV files\n",
    "df = pd.read_csv('new_extracted_data_chavez_time_10.csv')\n",
    "#df1 = pd.read_csv('')\n",
    "#df2 = pd.read_csv('')\n",
    "#df3 = pd.read_csv('')\n",
    "#df4 = pd.read_csv('')\n",
    "#df5 = pd.read_csv('')\n",
    "#df6 = pd.read_csv('')"
   ]
  },
  {
   "cell_type": "code",
   "execution_count": 6,
   "id": "f15d291b",
   "metadata": {},
   "outputs": [],
   "source": [
    "#df = pd.concat([df, df1], axis=0, ignore_index=True)"
   ]
  },
  {
   "cell_type": "code",
   "execution_count": 11,
   "id": "4e3b0dcd",
   "metadata": {},
   "outputs": [],
   "source": [
    "df.to_csv(\"final_10.csv\") # Nov 22 7:27pm (Chavez)"
   ]
  }
 ],
 "metadata": {
  "kernelspec": {
   "display_name": "Python 3",
   "language": "python",
   "name": "python3"
  },
  "language_info": {
   "codemirror_mode": {
    "name": "ipython",
    "version": 3
   },
   "file_extension": ".py",
   "mimetype": "text/x-python",
   "name": "python",
   "nbconvert_exporter": "python",
   "pygments_lexer": "ipython3",
   "version": "3.8.8"
  }
 },
 "nbformat": 4,
 "nbformat_minor": 5
}
