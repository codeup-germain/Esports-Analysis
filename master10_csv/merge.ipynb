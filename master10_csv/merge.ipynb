{
 "cells": [
  {
   "cell_type": "code",
   "execution_count": 2,
   "id": "8630c8d3",
   "metadata": {},
   "outputs": [],
   "source": [
    "import pandas as pd"
   ]
  },
  {
   "cell_type": "code",
   "execution_count": 3,
   "id": "803fffa1",
   "metadata": {},
   "outputs": [],
   "source": [
    "df = pd.read_csv('min_10_start_3700_end_4173_.csv')\n",
    "df2 = pd.read_csv('pro_players_10min')\n",
    "df3 = pd.read_csv('min_10_start_1500_end_1515_.csv')\n",
    "df4 = pd.read_csv('new_extracted_data_chavez_time_10.csv')"
   ]
  },
  {
   "cell_type": "code",
   "execution_count": null,
   "id": "0a226946",
   "metadata": {},
   "outputs": [],
   "source": [
    "df = pd.concat([df, df2], axis=0, ignore_index=True)\n",
    "\n",
    "df = pd.concat([df, df3], axis=0, ignore_index=True)\n",
    "\n",
    "df = pd.concat([df, df4], axis=0, ignore_index=True)\n",
    "\n",
    "df = df.drop(columns=['Unnamed: 0'])"
   ]
  },
  {
   "cell_type": "code",
   "execution_count": null,
   "id": "08439263",
   "metadata": {},
   "outputs": [],
   "source": [
    "df.to_csv('final_15.csv')"
   ]
  }
 ],
 "metadata": {
  "kernelspec": {
   "display_name": "Python 3",
   "language": "python",
   "name": "python3"
  },
  "language_info": {
   "codemirror_mode": {
    "name": "ipython",
    "version": 3
   },
   "file_extension": ".py",
   "mimetype": "text/x-python",
   "name": "python",
   "nbconvert_exporter": "python",
   "pygments_lexer": "ipython3",
   "version": "3.8.8"
  }
 },
 "nbformat": 4,
 "nbformat_minor": 5
}
