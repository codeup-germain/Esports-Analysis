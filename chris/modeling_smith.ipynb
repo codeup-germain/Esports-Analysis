{
 "cells": [
  {
   "cell_type": "markdown",
   "id": "28112fe6",
   "metadata": {},
   "source": [
    "# Modeling"
   ]
  },
  {
   "cell_type": "markdown",
   "id": "e0bcff02",
   "metadata": {},
   "source": [
    "Begin writing a function that creates and attempts to optimize a Random Forest Classifier model. It will utilize cross-validation and grid search. Once this is complete and functional, we can begin adding other algorithms."
   ]
  },
  {
   "cell_type": "code",
   "execution_count": 1,
   "id": "3a4c3e9f",
   "metadata": {},
   "outputs": [],
   "source": [
    "import numpy as np\n",
    "import pandas as pd\n",
    "from sklearn.model_selection import cross_val_score, GridSearchCV, train_test_split, cross_validate\n",
    "from sklearn.ensemble import RandomForestClassifier\n",
    "import prepare\n",
    "import acquire"
   ]
  },
  {
   "cell_type": "markdown",
   "id": "4d75ff0c",
   "metadata": {},
   "source": [
    "# Get Some Data"
   ]
  },
  {
   "cell_type": "code",
   "execution_count": 2,
   "id": "5a5b38df",
   "metadata": {},
   "outputs": [
    {
     "data": {
      "text/html": [
       "<div>\n",
       "<style scoped>\n",
       "    .dataframe tbody tr th:only-of-type {\n",
       "        vertical-align: middle;\n",
       "    }\n",
       "\n",
       "    .dataframe tbody tr th {\n",
       "        vertical-align: top;\n",
       "    }\n",
       "\n",
       "    .dataframe thead th {\n",
       "        text-align: right;\n",
       "    }\n",
       "</style>\n",
       "<table border=\"1\" class=\"dataframe\">\n",
       "  <thead>\n",
       "    <tr style=\"text-align: right;\">\n",
       "      <th></th>\n",
       "      <th>Unnamed: 0</th>\n",
       "      <th>airdragon_team100</th>\n",
       "      <th>assistsplayer_1</th>\n",
       "      <th>assistsplayer_10</th>\n",
       "      <th>assistsplayer_2</th>\n",
       "      <th>assistsplayer_3</th>\n",
       "      <th>assistsplayer_4</th>\n",
       "      <th>assistsplayer_5</th>\n",
       "      <th>assistsplayer_6</th>\n",
       "      <th>assistsplayer_7</th>\n",
       "      <th>...</th>\n",
       "      <th>xp_4</th>\n",
       "      <th>xp_5</th>\n",
       "      <th>xp_6</th>\n",
       "      <th>xp_7</th>\n",
       "      <th>xp_8</th>\n",
       "      <th>xp_9</th>\n",
       "      <th>chemtechdragon_team200</th>\n",
       "      <th>riftherald_team200</th>\n",
       "      <th>airdragon_team200</th>\n",
       "      <th>waterdragon_team200</th>\n",
       "    </tr>\n",
       "  </thead>\n",
       "  <tbody>\n",
       "    <tr>\n",
       "      <th>0</th>\n",
       "      <td>0</td>\n",
       "      <td>0.0</td>\n",
       "      <td>0.0</td>\n",
       "      <td>0.0</td>\n",
       "      <td>0.0</td>\n",
       "      <td>1.0</td>\n",
       "      <td>0.0</td>\n",
       "      <td>0.0</td>\n",
       "      <td>0.0</td>\n",
       "      <td>0.0</td>\n",
       "      <td>...</td>\n",
       "      <td>3033.0</td>\n",
       "      <td>2297.0</td>\n",
       "      <td>3978.0</td>\n",
       "      <td>3193.0</td>\n",
       "      <td>4131.0</td>\n",
       "      <td>2971.0</td>\n",
       "      <td>NaN</td>\n",
       "      <td>NaN</td>\n",
       "      <td>NaN</td>\n",
       "      <td>NaN</td>\n",
       "    </tr>\n",
       "    <tr>\n",
       "      <th>1</th>\n",
       "      <td>1</td>\n",
       "      <td>0.0</td>\n",
       "      <td>1.0</td>\n",
       "      <td>1.0</td>\n",
       "      <td>2.0</td>\n",
       "      <td>2.0</td>\n",
       "      <td>2.0</td>\n",
       "      <td>2.0</td>\n",
       "      <td>0.0</td>\n",
       "      <td>1.0</td>\n",
       "      <td>...</td>\n",
       "      <td>2907.0</td>\n",
       "      <td>2719.0</td>\n",
       "      <td>2691.0</td>\n",
       "      <td>3758.0</td>\n",
       "      <td>4331.0</td>\n",
       "      <td>3662.0</td>\n",
       "      <td>NaN</td>\n",
       "      <td>NaN</td>\n",
       "      <td>NaN</td>\n",
       "      <td>NaN</td>\n",
       "    </tr>\n",
       "    <tr>\n",
       "      <th>2</th>\n",
       "      <td>2</td>\n",
       "      <td>0.0</td>\n",
       "      <td>1.0</td>\n",
       "      <td>2.0</td>\n",
       "      <td>1.0</td>\n",
       "      <td>4.0</td>\n",
       "      <td>5.0</td>\n",
       "      <td>7.0</td>\n",
       "      <td>1.0</td>\n",
       "      <td>3.0</td>\n",
       "      <td>...</td>\n",
       "      <td>3192.0</td>\n",
       "      <td>3234.0</td>\n",
       "      <td>4260.0</td>\n",
       "      <td>3189.0</td>\n",
       "      <td>4858.0</td>\n",
       "      <td>2538.0</td>\n",
       "      <td>NaN</td>\n",
       "      <td>NaN</td>\n",
       "      <td>NaN</td>\n",
       "      <td>NaN</td>\n",
       "    </tr>\n",
       "    <tr>\n",
       "      <th>3</th>\n",
       "      <td>3</td>\n",
       "      <td>0.0</td>\n",
       "      <td>0.0</td>\n",
       "      <td>2.0</td>\n",
       "      <td>0.0</td>\n",
       "      <td>1.0</td>\n",
       "      <td>0.0</td>\n",
       "      <td>1.0</td>\n",
       "      <td>1.0</td>\n",
       "      <td>1.0</td>\n",
       "      <td>...</td>\n",
       "      <td>2921.0</td>\n",
       "      <td>2417.0</td>\n",
       "      <td>4801.0</td>\n",
       "      <td>4457.0</td>\n",
       "      <td>3837.0</td>\n",
       "      <td>2916.0</td>\n",
       "      <td>1.0</td>\n",
       "      <td>NaN</td>\n",
       "      <td>NaN</td>\n",
       "      <td>NaN</td>\n",
       "    </tr>\n",
       "    <tr>\n",
       "      <th>4</th>\n",
       "      <td>4</td>\n",
       "      <td>1.0</td>\n",
       "      <td>0.0</td>\n",
       "      <td>2.0</td>\n",
       "      <td>0.0</td>\n",
       "      <td>1.0</td>\n",
       "      <td>0.0</td>\n",
       "      <td>1.0</td>\n",
       "      <td>0.0</td>\n",
       "      <td>3.0</td>\n",
       "      <td>...</td>\n",
       "      <td>3005.0</td>\n",
       "      <td>2671.0</td>\n",
       "      <td>4865.0</td>\n",
       "      <td>3579.0</td>\n",
       "      <td>4496.0</td>\n",
       "      <td>2644.0</td>\n",
       "      <td>NaN</td>\n",
       "      <td>NaN</td>\n",
       "      <td>NaN</td>\n",
       "      <td>NaN</td>\n",
       "    </tr>\n",
       "    <tr>\n",
       "      <th>...</th>\n",
       "      <td>...</td>\n",
       "      <td>...</td>\n",
       "      <td>...</td>\n",
       "      <td>...</td>\n",
       "      <td>...</td>\n",
       "      <td>...</td>\n",
       "      <td>...</td>\n",
       "      <td>...</td>\n",
       "      <td>...</td>\n",
       "      <td>...</td>\n",
       "      <td>...</td>\n",
       "      <td>...</td>\n",
       "      <td>...</td>\n",
       "      <td>...</td>\n",
       "      <td>...</td>\n",
       "      <td>...</td>\n",
       "      <td>...</td>\n",
       "      <td>...</td>\n",
       "      <td>...</td>\n",
       "      <td>...</td>\n",
       "      <td>...</td>\n",
       "    </tr>\n",
       "    <tr>\n",
       "      <th>4858</th>\n",
       "      <td>4858</td>\n",
       "      <td>0.0</td>\n",
       "      <td>1.0</td>\n",
       "      <td>1.0</td>\n",
       "      <td>2.0</td>\n",
       "      <td>2.0</td>\n",
       "      <td>1.0</td>\n",
       "      <td>4.0</td>\n",
       "      <td>0.0</td>\n",
       "      <td>1.0</td>\n",
       "      <td>...</td>\n",
       "      <td>3365.0</td>\n",
       "      <td>2670.0</td>\n",
       "      <td>4031.0</td>\n",
       "      <td>3851.0</td>\n",
       "      <td>2589.0</td>\n",
       "      <td>3621.0</td>\n",
       "      <td>NaN</td>\n",
       "      <td>NaN</td>\n",
       "      <td>NaN</td>\n",
       "      <td>NaN</td>\n",
       "    </tr>\n",
       "    <tr>\n",
       "      <th>4859</th>\n",
       "      <td>4859</td>\n",
       "      <td>0.0</td>\n",
       "      <td>3.0</td>\n",
       "      <td>1.0</td>\n",
       "      <td>1.0</td>\n",
       "      <td>1.0</td>\n",
       "      <td>2.0</td>\n",
       "      <td>0.0</td>\n",
       "      <td>2.0</td>\n",
       "      <td>2.0</td>\n",
       "      <td>...</td>\n",
       "      <td>3119.0</td>\n",
       "      <td>4443.0</td>\n",
       "      <td>3667.0</td>\n",
       "      <td>4158.0</td>\n",
       "      <td>2940.0</td>\n",
       "      <td>3527.0</td>\n",
       "      <td>NaN</td>\n",
       "      <td>NaN</td>\n",
       "      <td>NaN</td>\n",
       "      <td>NaN</td>\n",
       "    </tr>\n",
       "    <tr>\n",
       "      <th>4860</th>\n",
       "      <td>4860</td>\n",
       "      <td>0.0</td>\n",
       "      <td>2.0</td>\n",
       "      <td>1.0</td>\n",
       "      <td>0.0</td>\n",
       "      <td>1.0</td>\n",
       "      <td>0.0</td>\n",
       "      <td>2.0</td>\n",
       "      <td>0.0</td>\n",
       "      <td>1.0</td>\n",
       "      <td>...</td>\n",
       "      <td>4471.0</td>\n",
       "      <td>2958.0</td>\n",
       "      <td>4988.0</td>\n",
       "      <td>4474.0</td>\n",
       "      <td>2615.0</td>\n",
       "      <td>4185.0</td>\n",
       "      <td>NaN</td>\n",
       "      <td>NaN</td>\n",
       "      <td>NaN</td>\n",
       "      <td>NaN</td>\n",
       "    </tr>\n",
       "    <tr>\n",
       "      <th>4861</th>\n",
       "      <td>4861</td>\n",
       "      <td>0.0</td>\n",
       "      <td>0.0</td>\n",
       "      <td>4.0</td>\n",
       "      <td>2.0</td>\n",
       "      <td>1.0</td>\n",
       "      <td>0.0</td>\n",
       "      <td>2.0</td>\n",
       "      <td>0.0</td>\n",
       "      <td>5.0</td>\n",
       "      <td>...</td>\n",
       "      <td>3347.0</td>\n",
       "      <td>1972.0</td>\n",
       "      <td>5326.0</td>\n",
       "      <td>2685.0</td>\n",
       "      <td>3750.0</td>\n",
       "      <td>3402.0</td>\n",
       "      <td>NaN</td>\n",
       "      <td>NaN</td>\n",
       "      <td>NaN</td>\n",
       "      <td>NaN</td>\n",
       "    </tr>\n",
       "    <tr>\n",
       "      <th>4862</th>\n",
       "      <td>4862</td>\n",
       "      <td>0.0</td>\n",
       "      <td>1.0</td>\n",
       "      <td>8.0</td>\n",
       "      <td>3.0</td>\n",
       "      <td>1.0</td>\n",
       "      <td>1.0</td>\n",
       "      <td>3.0</td>\n",
       "      <td>2.0</td>\n",
       "      <td>10.0</td>\n",
       "      <td>...</td>\n",
       "      <td>4415.0</td>\n",
       "      <td>1867.0</td>\n",
       "      <td>4830.0</td>\n",
       "      <td>3613.0</td>\n",
       "      <td>4082.0</td>\n",
       "      <td>3786.0</td>\n",
       "      <td>NaN</td>\n",
       "      <td>NaN</td>\n",
       "      <td>NaN</td>\n",
       "      <td>NaN</td>\n",
       "    </tr>\n",
       "  </tbody>\n",
       "</table>\n",
       "<p>4863 rows × 197 columns</p>\n",
       "</div>"
      ],
      "text/plain": [
       "      Unnamed: 0  airdragon_team100  assistsplayer_1  assistsplayer_10  \\\n",
       "0              0                0.0              0.0               0.0   \n",
       "1              1                0.0              1.0               1.0   \n",
       "2              2                0.0              1.0               2.0   \n",
       "3              3                0.0              0.0               2.0   \n",
       "4              4                1.0              0.0               2.0   \n",
       "...          ...                ...              ...               ...   \n",
       "4858        4858                0.0              1.0               1.0   \n",
       "4859        4859                0.0              3.0               1.0   \n",
       "4860        4860                0.0              2.0               1.0   \n",
       "4861        4861                0.0              0.0               4.0   \n",
       "4862        4862                0.0              1.0               8.0   \n",
       "\n",
       "      assistsplayer_2  assistsplayer_3  assistsplayer_4  assistsplayer_5  \\\n",
       "0                 0.0              1.0              0.0              0.0   \n",
       "1                 2.0              2.0              2.0              2.0   \n",
       "2                 1.0              4.0              5.0              7.0   \n",
       "3                 0.0              1.0              0.0              1.0   \n",
       "4                 0.0              1.0              0.0              1.0   \n",
       "...               ...              ...              ...              ...   \n",
       "4858              2.0              2.0              1.0              4.0   \n",
       "4859              1.0              1.0              2.0              0.0   \n",
       "4860              0.0              1.0              0.0              2.0   \n",
       "4861              2.0              1.0              0.0              2.0   \n",
       "4862              3.0              1.0              1.0              3.0   \n",
       "\n",
       "      assistsplayer_6  assistsplayer_7  ...    xp_4    xp_5    xp_6    xp_7  \\\n",
       "0                 0.0              0.0  ...  3033.0  2297.0  3978.0  3193.0   \n",
       "1                 0.0              1.0  ...  2907.0  2719.0  2691.0  3758.0   \n",
       "2                 1.0              3.0  ...  3192.0  3234.0  4260.0  3189.0   \n",
       "3                 1.0              1.0  ...  2921.0  2417.0  4801.0  4457.0   \n",
       "4                 0.0              3.0  ...  3005.0  2671.0  4865.0  3579.0   \n",
       "...               ...              ...  ...     ...     ...     ...     ...   \n",
       "4858              0.0              1.0  ...  3365.0  2670.0  4031.0  3851.0   \n",
       "4859              2.0              2.0  ...  3119.0  4443.0  3667.0  4158.0   \n",
       "4860              0.0              1.0  ...  4471.0  2958.0  4988.0  4474.0   \n",
       "4861              0.0              5.0  ...  3347.0  1972.0  5326.0  2685.0   \n",
       "4862              2.0             10.0  ...  4415.0  1867.0  4830.0  3613.0   \n",
       "\n",
       "        xp_8    xp_9  chemtechdragon_team200  riftherald_team200  \\\n",
       "0     4131.0  2971.0                     NaN                 NaN   \n",
       "1     4331.0  3662.0                     NaN                 NaN   \n",
       "2     4858.0  2538.0                     NaN                 NaN   \n",
       "3     3837.0  2916.0                     1.0                 NaN   \n",
       "4     4496.0  2644.0                     NaN                 NaN   \n",
       "...      ...     ...                     ...                 ...   \n",
       "4858  2589.0  3621.0                     NaN                 NaN   \n",
       "4859  2940.0  3527.0                     NaN                 NaN   \n",
       "4860  2615.0  4185.0                     NaN                 NaN   \n",
       "4861  3750.0  3402.0                     NaN                 NaN   \n",
       "4862  4082.0  3786.0                     NaN                 NaN   \n",
       "\n",
       "      airdragon_team200  waterdragon_team200  \n",
       "0                   NaN                  NaN  \n",
       "1                   NaN                  NaN  \n",
       "2                   NaN                  NaN  \n",
       "3                   NaN                  NaN  \n",
       "4                   NaN                  NaN  \n",
       "...                 ...                  ...  \n",
       "4858                NaN                  NaN  \n",
       "4859                NaN                  NaN  \n",
       "4860                NaN                  NaN  \n",
       "4861                NaN                  NaN  \n",
       "4862                NaN                  NaN  \n",
       "\n",
       "[4863 rows x 197 columns]"
      ]
     },
     "execution_count": 2,
     "metadata": {},
     "output_type": "execute_result"
    }
   ],
   "source": [
    "df = pd.read_csv('final_10.csv')\n",
    "df"
   ]
  },
  {
   "cell_type": "markdown",
   "id": "11ecdf0c",
   "metadata": {},
   "source": [
    "Although this data has already been prepared, I still need to drop the column called 'killsplayer_0'. It represents how many kills were made by game objects, not players, and contains several null values. Then, all I need to do is split it up into X and y groups and then into train and test sets. Please keep in mind this data set is only a fraction of our expected data set, and is only being used to check the funcionality of my model."
   ]
  },
  {
   "cell_type": "markdown",
   "id": "e0448913",
   "metadata": {},
   "source": [
    "__Drop 'killsplayer_0' Column__"
   ]
  },
  {
   "cell_type": "code",
   "execution_count": null,
   "id": "e045eb9d",
   "metadata": {},
   "outputs": [],
   "source": []
  },
  {
   "cell_type": "code",
   "execution_count": 3,
   "id": "e5dca130",
   "metadata": {},
   "outputs": [],
   "source": [
    "df = prepare.clean(df)"
   ]
  },
  {
   "cell_type": "markdown",
   "id": "0d1f1243",
   "metadata": {},
   "source": [
    "__Split into X and y Groups__"
   ]
  },
  {
   "cell_type": "code",
   "execution_count": 4,
   "id": "2a68b82b",
   "metadata": {},
   "outputs": [],
   "source": [
    "X, y = df.drop(columns = ['winningTeam']), df.winningTeam"
   ]
  },
  {
   "cell_type": "markdown",
   "id": "b7ae4235",
   "metadata": {},
   "source": [
    "__Create Train and Test Sets__"
   ]
  },
  {
   "cell_type": "code",
   "execution_count": 5,
   "id": "dc81421f",
   "metadata": {},
   "outputs": [],
   "source": [
    "X_train, X_test, y_train, y_test = train_test_split(X, y, test_size = 0.2, random_state = 123)"
   ]
  },
  {
   "cell_type": "code",
   "execution_count": 6,
   "id": "0d90679a",
   "metadata": {},
   "outputs": [
    {
     "data": {
      "text/plain": [
       "((3890, 229), (3890,))"
      ]
     },
     "execution_count": 6,
     "metadata": {},
     "output_type": "execute_result"
    }
   ],
   "source": [
    "X_train.shape, y_train.shape"
   ]
  },
  {
   "cell_type": "markdown",
   "id": "b2bd2518",
   "metadata": {},
   "source": [
    "__Create Dummy Variables__"
   ]
  },
  {
   "cell_type": "code",
   "execution_count": 7,
   "id": "344375ac",
   "metadata": {},
   "outputs": [
    {
     "data": {
      "text/html": [
       "<div>\n",
       "<style scoped>\n",
       "    .dataframe tbody tr th:only-of-type {\n",
       "        vertical-align: middle;\n",
       "    }\n",
       "\n",
       "    .dataframe tbody tr th {\n",
       "        vertical-align: top;\n",
       "    }\n",
       "\n",
       "    .dataframe thead th {\n",
       "        text-align: right;\n",
       "    }\n",
       "</style>\n",
       "<table border=\"1\" class=\"dataframe\">\n",
       "  <thead>\n",
       "    <tr style=\"text-align: right;\">\n",
       "      <th></th>\n",
       "      <th>Unnamed: 0</th>\n",
       "      <th>airdragon_team100</th>\n",
       "      <th>assistsplayer_1</th>\n",
       "      <th>assistsplayer_10</th>\n",
       "      <th>assistsplayer_2</th>\n",
       "      <th>assistsplayer_3</th>\n",
       "      <th>assistsplayer_4</th>\n",
       "      <th>assistsplayer_5</th>\n",
       "      <th>assistsplayer_6</th>\n",
       "      <th>assistsplayer_7</th>\n",
       "      <th>...</th>\n",
       "      <th>matchId_NA1_4112907924</th>\n",
       "      <th>matchId_NA1_4112912287</th>\n",
       "      <th>matchId_NA1_4112918754</th>\n",
       "      <th>matchId_NA1_4112919909</th>\n",
       "      <th>matchId_NA1_4112924167</th>\n",
       "      <th>matchId_NA1_4112925405</th>\n",
       "      <th>matchId_NA1_4112932537</th>\n",
       "      <th>matchId_NA1_4112942647</th>\n",
       "      <th>matchId_NA1_4112957466</th>\n",
       "      <th>matchId_NA1_4112995056</th>\n",
       "    </tr>\n",
       "  </thead>\n",
       "  <tbody>\n",
       "    <tr>\n",
       "      <th>3513</th>\n",
       "      <td>3513</td>\n",
       "      <td>0.0</td>\n",
       "      <td>1.0</td>\n",
       "      <td>0.0</td>\n",
       "      <td>1.0</td>\n",
       "      <td>1.0</td>\n",
       "      <td>4.0</td>\n",
       "      <td>2.0</td>\n",
       "      <td>1.0</td>\n",
       "      <td>0.0</td>\n",
       "      <td>...</td>\n",
       "      <td>0</td>\n",
       "      <td>0</td>\n",
       "      <td>0</td>\n",
       "      <td>0</td>\n",
       "      <td>0</td>\n",
       "      <td>0</td>\n",
       "      <td>0</td>\n",
       "      <td>0</td>\n",
       "      <td>0</td>\n",
       "      <td>0</td>\n",
       "    </tr>\n",
       "    <tr>\n",
       "      <th>1250</th>\n",
       "      <td>1250</td>\n",
       "      <td>0.0</td>\n",
       "      <td>1.0</td>\n",
       "      <td>0.0</td>\n",
       "      <td>0.0</td>\n",
       "      <td>3.0</td>\n",
       "      <td>0.0</td>\n",
       "      <td>5.0</td>\n",
       "      <td>0.0</td>\n",
       "      <td>3.0</td>\n",
       "      <td>...</td>\n",
       "      <td>0</td>\n",
       "      <td>0</td>\n",
       "      <td>0</td>\n",
       "      <td>0</td>\n",
       "      <td>0</td>\n",
       "      <td>0</td>\n",
       "      <td>0</td>\n",
       "      <td>0</td>\n",
       "      <td>0</td>\n",
       "      <td>0</td>\n",
       "    </tr>\n",
       "    <tr>\n",
       "      <th>3532</th>\n",
       "      <td>3532</td>\n",
       "      <td>0.0</td>\n",
       "      <td>1.0</td>\n",
       "      <td>1.0</td>\n",
       "      <td>1.0</td>\n",
       "      <td>0.0</td>\n",
       "      <td>1.0</td>\n",
       "      <td>2.0</td>\n",
       "      <td>1.0</td>\n",
       "      <td>1.0</td>\n",
       "      <td>...</td>\n",
       "      <td>0</td>\n",
       "      <td>0</td>\n",
       "      <td>0</td>\n",
       "      <td>0</td>\n",
       "      <td>0</td>\n",
       "      <td>0</td>\n",
       "      <td>0</td>\n",
       "      <td>0</td>\n",
       "      <td>0</td>\n",
       "      <td>0</td>\n",
       "    </tr>\n",
       "    <tr>\n",
       "      <th>3858</th>\n",
       "      <td>3858</td>\n",
       "      <td>0.0</td>\n",
       "      <td>1.0</td>\n",
       "      <td>6.0</td>\n",
       "      <td>3.0</td>\n",
       "      <td>1.0</td>\n",
       "      <td>0.0</td>\n",
       "      <td>4.0</td>\n",
       "      <td>1.0</td>\n",
       "      <td>0.0</td>\n",
       "      <td>...</td>\n",
       "      <td>0</td>\n",
       "      <td>0</td>\n",
       "      <td>0</td>\n",
       "      <td>0</td>\n",
       "      <td>0</td>\n",
       "      <td>0</td>\n",
       "      <td>0</td>\n",
       "      <td>0</td>\n",
       "      <td>0</td>\n",
       "      <td>0</td>\n",
       "    </tr>\n",
       "    <tr>\n",
       "      <th>528</th>\n",
       "      <td>528</td>\n",
       "      <td>0.0</td>\n",
       "      <td>1.0</td>\n",
       "      <td>2.0</td>\n",
       "      <td>2.0</td>\n",
       "      <td>2.0</td>\n",
       "      <td>3.0</td>\n",
       "      <td>2.0</td>\n",
       "      <td>0.0</td>\n",
       "      <td>2.0</td>\n",
       "      <td>...</td>\n",
       "      <td>0</td>\n",
       "      <td>0</td>\n",
       "      <td>0</td>\n",
       "      <td>0</td>\n",
       "      <td>0</td>\n",
       "      <td>0</td>\n",
       "      <td>0</td>\n",
       "      <td>0</td>\n",
       "      <td>0</td>\n",
       "      <td>0</td>\n",
       "    </tr>\n",
       "    <tr>\n",
       "      <th>...</th>\n",
       "      <td>...</td>\n",
       "      <td>...</td>\n",
       "      <td>...</td>\n",
       "      <td>...</td>\n",
       "      <td>...</td>\n",
       "      <td>...</td>\n",
       "      <td>...</td>\n",
       "      <td>...</td>\n",
       "      <td>...</td>\n",
       "      <td>...</td>\n",
       "      <td>...</td>\n",
       "      <td>...</td>\n",
       "      <td>...</td>\n",
       "      <td>...</td>\n",
       "      <td>...</td>\n",
       "      <td>...</td>\n",
       "      <td>...</td>\n",
       "      <td>...</td>\n",
       "      <td>...</td>\n",
       "      <td>...</td>\n",
       "      <td>...</td>\n",
       "    </tr>\n",
       "    <tr>\n",
       "      <th>1593</th>\n",
       "      <td>1593</td>\n",
       "      <td>0.0</td>\n",
       "      <td>3.0</td>\n",
       "      <td>2.0</td>\n",
       "      <td>1.0</td>\n",
       "      <td>0.0</td>\n",
       "      <td>1.0</td>\n",
       "      <td>5.0</td>\n",
       "      <td>0.0</td>\n",
       "      <td>2.0</td>\n",
       "      <td>...</td>\n",
       "      <td>0</td>\n",
       "      <td>0</td>\n",
       "      <td>0</td>\n",
       "      <td>0</td>\n",
       "      <td>0</td>\n",
       "      <td>0</td>\n",
       "      <td>0</td>\n",
       "      <td>0</td>\n",
       "      <td>0</td>\n",
       "      <td>0</td>\n",
       "    </tr>\n",
       "    <tr>\n",
       "      <th>4060</th>\n",
       "      <td>4060</td>\n",
       "      <td>0.0</td>\n",
       "      <td>2.0</td>\n",
       "      <td>5.0</td>\n",
       "      <td>1.0</td>\n",
       "      <td>0.0</td>\n",
       "      <td>1.0</td>\n",
       "      <td>1.0</td>\n",
       "      <td>0.0</td>\n",
       "      <td>6.0</td>\n",
       "      <td>...</td>\n",
       "      <td>0</td>\n",
       "      <td>0</td>\n",
       "      <td>0</td>\n",
       "      <td>0</td>\n",
       "      <td>0</td>\n",
       "      <td>0</td>\n",
       "      <td>0</td>\n",
       "      <td>0</td>\n",
       "      <td>0</td>\n",
       "      <td>0</td>\n",
       "    </tr>\n",
       "    <tr>\n",
       "      <th>1346</th>\n",
       "      <td>1346</td>\n",
       "      <td>0.0</td>\n",
       "      <td>2.0</td>\n",
       "      <td>2.0</td>\n",
       "      <td>2.0</td>\n",
       "      <td>0.0</td>\n",
       "      <td>2.0</td>\n",
       "      <td>2.0</td>\n",
       "      <td>4.0</td>\n",
       "      <td>0.0</td>\n",
       "      <td>...</td>\n",
       "      <td>0</td>\n",
       "      <td>0</td>\n",
       "      <td>0</td>\n",
       "      <td>0</td>\n",
       "      <td>0</td>\n",
       "      <td>0</td>\n",
       "      <td>0</td>\n",
       "      <td>0</td>\n",
       "      <td>0</td>\n",
       "      <td>0</td>\n",
       "    </tr>\n",
       "    <tr>\n",
       "      <th>3454</th>\n",
       "      <td>3454</td>\n",
       "      <td>0.0</td>\n",
       "      <td>0.0</td>\n",
       "      <td>0.0</td>\n",
       "      <td>1.0</td>\n",
       "      <td>0.0</td>\n",
       "      <td>2.0</td>\n",
       "      <td>3.0</td>\n",
       "      <td>0.0</td>\n",
       "      <td>1.0</td>\n",
       "      <td>...</td>\n",
       "      <td>0</td>\n",
       "      <td>0</td>\n",
       "      <td>0</td>\n",
       "      <td>0</td>\n",
       "      <td>0</td>\n",
       "      <td>0</td>\n",
       "      <td>0</td>\n",
       "      <td>0</td>\n",
       "      <td>0</td>\n",
       "      <td>0</td>\n",
       "    </tr>\n",
       "    <tr>\n",
       "      <th>3582</th>\n",
       "      <td>3582</td>\n",
       "      <td>0.0</td>\n",
       "      <td>0.0</td>\n",
       "      <td>1.0</td>\n",
       "      <td>1.0</td>\n",
       "      <td>0.0</td>\n",
       "      <td>2.0</td>\n",
       "      <td>2.0</td>\n",
       "      <td>1.0</td>\n",
       "      <td>0.0</td>\n",
       "      <td>...</td>\n",
       "      <td>0</td>\n",
       "      <td>0</td>\n",
       "      <td>0</td>\n",
       "      <td>0</td>\n",
       "      <td>0</td>\n",
       "      <td>0</td>\n",
       "      <td>0</td>\n",
       "      <td>0</td>\n",
       "      <td>0</td>\n",
       "      <td>0</td>\n",
       "    </tr>\n",
       "  </tbody>\n",
       "</table>\n",
       "<p>3890 rows × 7997 columns</p>\n",
       "</div>"
      ],
      "text/plain": [
       "      Unnamed: 0  airdragon_team100  assistsplayer_1  assistsplayer_10  \\\n",
       "3513        3513                0.0              1.0               0.0   \n",
       "1250        1250                0.0              1.0               0.0   \n",
       "3532        3532                0.0              1.0               1.0   \n",
       "3858        3858                0.0              1.0               6.0   \n",
       "528          528                0.0              1.0               2.0   \n",
       "...          ...                ...              ...               ...   \n",
       "1593        1593                0.0              3.0               2.0   \n",
       "4060        4060                0.0              2.0               5.0   \n",
       "1346        1346                0.0              2.0               2.0   \n",
       "3454        3454                0.0              0.0               0.0   \n",
       "3582        3582                0.0              0.0               1.0   \n",
       "\n",
       "      assistsplayer_2  assistsplayer_3  assistsplayer_4  assistsplayer_5  \\\n",
       "3513              1.0              1.0              4.0              2.0   \n",
       "1250              0.0              3.0              0.0              5.0   \n",
       "3532              1.0              0.0              1.0              2.0   \n",
       "3858              3.0              1.0              0.0              4.0   \n",
       "528               2.0              2.0              3.0              2.0   \n",
       "...               ...              ...              ...              ...   \n",
       "1593              1.0              0.0              1.0              5.0   \n",
       "4060              1.0              0.0              1.0              1.0   \n",
       "1346              2.0              0.0              2.0              2.0   \n",
       "3454              1.0              0.0              2.0              3.0   \n",
       "3582              1.0              0.0              2.0              2.0   \n",
       "\n",
       "      assistsplayer_6  assistsplayer_7  ...  matchId_NA1_4112907924  \\\n",
       "3513              1.0              0.0  ...                       0   \n",
       "1250              0.0              3.0  ...                       0   \n",
       "3532              1.0              1.0  ...                       0   \n",
       "3858              1.0              0.0  ...                       0   \n",
       "528               0.0              2.0  ...                       0   \n",
       "...               ...              ...  ...                     ...   \n",
       "1593              0.0              2.0  ...                       0   \n",
       "4060              0.0              6.0  ...                       0   \n",
       "1346              4.0              0.0  ...                       0   \n",
       "3454              0.0              1.0  ...                       0   \n",
       "3582              1.0              0.0  ...                       0   \n",
       "\n",
       "      matchId_NA1_4112912287  matchId_NA1_4112918754  matchId_NA1_4112919909  \\\n",
       "3513                       0                       0                       0   \n",
       "1250                       0                       0                       0   \n",
       "3532                       0                       0                       0   \n",
       "3858                       0                       0                       0   \n",
       "528                        0                       0                       0   \n",
       "...                      ...                     ...                     ...   \n",
       "1593                       0                       0                       0   \n",
       "4060                       0                       0                       0   \n",
       "1346                       0                       0                       0   \n",
       "3454                       0                       0                       0   \n",
       "3582                       0                       0                       0   \n",
       "\n",
       "      matchId_NA1_4112924167  matchId_NA1_4112925405  matchId_NA1_4112932537  \\\n",
       "3513                       0                       0                       0   \n",
       "1250                       0                       0                       0   \n",
       "3532                       0                       0                       0   \n",
       "3858                       0                       0                       0   \n",
       "528                        0                       0                       0   \n",
       "...                      ...                     ...                     ...   \n",
       "1593                       0                       0                       0   \n",
       "4060                       0                       0                       0   \n",
       "1346                       0                       0                       0   \n",
       "3454                       0                       0                       0   \n",
       "3582                       0                       0                       0   \n",
       "\n",
       "      matchId_NA1_4112942647  matchId_NA1_4112957466  matchId_NA1_4112995056  \n",
       "3513                       0                       0                       0  \n",
       "1250                       0                       0                       0  \n",
       "3532                       0                       0                       0  \n",
       "3858                       0                       0                       0  \n",
       "528                        0                       0                       0  \n",
       "...                      ...                     ...                     ...  \n",
       "1593                       0                       0                       0  \n",
       "4060                       0                       0                       0  \n",
       "1346                       0                       0                       0  \n",
       "3454                       0                       0                       0  \n",
       "3582                       0                       0                       0  \n",
       "\n",
       "[3890 rows x 7997 columns]"
      ]
     },
     "execution_count": 7,
     "metadata": {},
     "output_type": "execute_result"
    }
   ],
   "source": [
    "X_train = pd.get_dummies(X_train, drop_first = True)\n",
    "X_train"
   ]
  },
  {
   "cell_type": "markdown",
   "id": "248348ea",
   "metadata": {},
   "source": [
    "__Create a Baseline__"
   ]
  },
  {
   "cell_type": "markdown",
   "id": "819a1512",
   "metadata": {},
   "source": [
    "Since this is a classification problem, I will set the baseline to whichever team has the most wins."
   ]
  },
  {
   "cell_type": "code",
   "execution_count": 8,
   "id": "4408cabf",
   "metadata": {},
   "outputs": [],
   "source": [
    "#Set team 100.0 to be blue_team and team 200.0 to be red_team\n",
    "def get_team_color(value):\n",
    "    if value == 100.0:\n",
    "        return 'blue_team'\n",
    "    else:\n",
    "        return 'red_team'"
   ]
  },
  {
   "cell_type": "code",
   "execution_count": 9,
   "id": "9031e146",
   "metadata": {},
   "outputs": [],
   "source": [
    "y_train = y_train.apply(get_team_color)"
   ]
  },
  {
   "cell_type": "code",
   "execution_count": 10,
   "id": "59e2aa91",
   "metadata": {},
   "outputs": [
    {
     "data": {
      "text/plain": [
       "red_team     2017\n",
       "blue_team    1873\n",
       "Name: winningTeam, dtype: int64"
      ]
     },
     "execution_count": 10,
     "metadata": {},
     "output_type": "execute_result"
    }
   ],
   "source": [
    "y_train.value_counts()"
   ]
  },
  {
   "cell_type": "code",
   "execution_count": 11,
   "id": "a5a65667",
   "metadata": {},
   "outputs": [
    {
     "data": {
      "text/plain": [
       "0.5185089974293059"
      ]
     },
     "execution_count": 11,
     "metadata": {},
     "output_type": "execute_result"
    }
   ],
   "source": [
    "#Use the dummy classifier to set the baseline\n",
    "#red_team has the most wins\n",
    "from sklearn.dummy import DummyClassifier\n",
    "\n",
    "baseline = DummyClassifier(strategy = 'constant', constant = 'red_team')\n",
    "baseline.fit(X_train, y_train)\n",
    "\n",
    "#Now get the baseline accuracy\n",
    "baseline.score(X_train, y_train)"
   ]
  },
  {
   "cell_type": "markdown",
   "id": "545dffb7",
   "metadata": {},
   "source": [
    "__Train a Single Model__"
   ]
  },
  {
   "cell_type": "markdown",
   "id": "1b99e9bf",
   "metadata": {},
   "source": [
    "Train a single model to find out about how long it will take with so many features. From there, I will be able to estimate how long the grid search might take to complete."
   ]
  },
  {
   "cell_type": "code",
   "execution_count": 12,
   "id": "fd4aeae0",
   "metadata": {},
   "outputs": [
    {
     "data": {
      "text/plain": [
       "1.0"
      ]
     },
     "execution_count": 12,
     "metadata": {},
     "output_type": "execute_result"
    }
   ],
   "source": [
    "#Create the model (just use default hyperparameters for now, except random_state)\n",
    "model = RandomForestClassifier(random_state = 123)\n",
    "\n",
    "#Fit the model\n",
    "model.fit(X_train, y_train)\n",
    "\n",
    "#Score the model\n",
    "model.score(X_train, y_train)"
   ]
  },
  {
   "cell_type": "markdown",
   "id": "459d7d47",
   "metadata": {},
   "source": [
    "The above model finished training extremely quickly, so I don't think there is anything to worry about. Just be mindful of how many models will actually be produced with the given ranges for the hyperparameters."
   ]
  },
  {
   "cell_type": "markdown",
   "id": "9fa963ea",
   "metadata": {},
   "source": [
    "__Implement GridSearchCV__"
   ]
  },
  {
   "cell_type": "code",
   "execution_count": 13,
   "id": "6cef7d45",
   "metadata": {},
   "outputs": [
    {
     "data": {
      "text/plain": [
       "GridSearchCV(cv=5, estimator=RandomForestClassifier(random_state=123),\n",
       "             param_grid={'max_depth': range(5, 11),\n",
       "                         'min_samples_leaf': range(5, 11)})"
      ]
     },
     "execution_count": 13,
     "metadata": {},
     "output_type": "execute_result"
    }
   ],
   "source": [
    "clf = RandomForestClassifier(random_state = 123)\n",
    "\n",
    "grid = GridSearchCV(clf, {'max_depth': range(5, 11), 'min_samples_leaf': range(5, 11)}, cv = 5)\n",
    "grid.fit(X_train, y_train)"
   ]
  },
  {
   "cell_type": "code",
   "execution_count": 14,
   "id": "7f7b713c",
   "metadata": {},
   "outputs": [
    {
     "data": {
      "text/plain": [
       "(0.6280205655526991, {'max_depth': 8, 'min_samples_leaf': 7})"
      ]
     },
     "execution_count": 14,
     "metadata": {},
     "output_type": "execute_result"
    }
   ],
   "source": [
    "#What was the best score and best parameters\n",
    "grid.best_score_, grid.best_params_"
   ]
  },
  {
   "cell_type": "markdown",
   "id": "51c7b891",
   "metadata": {},
   "source": [
    "__Write RandomForestClassifier Function__"
   ]
  },
  {
   "cell_type": "code",
   "execution_count": 15,
   "id": "ff5e2d30",
   "metadata": {},
   "outputs": [],
   "source": [
    "rf_dict = {\n",
    "    'max_depth': range(1, 16),\n",
    "    'min_samples_leaf': range(1, 16)\n",
    "}"
   ]
  },
  {
   "cell_type": "code",
   "execution_count": 16,
   "id": "7db8745d",
   "metadata": {},
   "outputs": [],
   "source": [
    "def get_random_forest_models(X_train, y_train, param_dict, cv = 5):\n",
    "    \"\"\"\n",
    "    This function creates and returns an optimized random forest classification model. It also\n",
    "    prints out the best model's mean cross-validated accuracy score and parameters.\n",
    "    \n",
    "    This function takes in the X and y training sets to fit the models.\n",
    "    \n",
    "    This function takes in a dictionary that contains the parameters to be iterated through.\n",
    "    \n",
    "    This function also takes in a value for the number of cross validation folds to do.\n",
    "    The cv value defaults to 5.\n",
    "    \"\"\"\n",
    "    #Create the classifier model\n",
    "    clf = RandomForestClassifier(random_state = 123)\n",
    "    \n",
    "    #Create the GridSearchCV object\n",
    "    grid = GridSearchCV(clf, param_dict, cv = 5)\n",
    "    \n",
    "    #Fit the GridSearchCV object\n",
    "    grid.fit(X_train, y_train)\n",
    "    \n",
    "    #Print the best model's score and parameters\n",
    "    print('Mean Cross-Validated Accuracy: ', round(grid.best_score_, 4))\n",
    "    print('Max Depth: ', grid.best_params_['max_depth'])\n",
    "    print('Min Samples Per Leaf: ', grid.best_params_['min_samples_leaf'])\n",
    "    \n",
    "    #Return the best model\n",
    "    return grid.best_estimator_"
   ]
  },
  {
   "cell_type": "code",
   "execution_count": null,
   "id": "7b1cd337",
   "metadata": {},
   "outputs": [],
   "source": [
    "best_model = get_random_forest_models(X_train, y_train, rf_dict)"
   ]
  },
  {
   "cell_type": "code",
   "execution_count": null,
   "id": "676e5aea",
   "metadata": {},
   "outputs": [],
   "source": [
    "#Check to see if the function returned the model correctly\n",
    "#Scoring it on the train data should yield a similar result to the average score\n",
    "best_model.score(X_train, y_train)"
   ]
  },
  {
   "cell_type": "markdown",
   "id": "f8ee439d",
   "metadata": {},
   "source": [
    "__What were the Most Important Features?__"
   ]
  },
  {
   "cell_type": "code",
   "execution_count": null,
   "id": "116d2e98",
   "metadata": {},
   "outputs": [],
   "source": [
    "best_features = pd.DataFrame(best_model.feature_importances_, X_train.columns)\n",
    "best_features.sort_values(by = 0, ascending = False).head(10)"
   ]
  },
  {
   "cell_type": "markdown",
   "id": "2581287e",
   "metadata": {},
   "source": [
    "### AdaBoostClassifier"
   ]
  },
  {
   "cell_type": "markdown",
   "id": "3a25df1d",
   "metadata": {},
   "source": [
    "I will use the AdaBoostClassifier with a RandomForestClassifier as the base_estimator."
   ]
  },
  {
   "cell_type": "code",
   "execution_count": null,
   "id": "e43a691c",
   "metadata": {},
   "outputs": [],
   "source": [
    "from sklearn.ensemble import AdaBoostClassifier"
   ]
  },
  {
   "cell_type": "code",
   "execution_count": null,
   "id": "e5ccdae6",
   "metadata": {},
   "outputs": [],
   "source": [
    "#Create the RandomForestClassifier object\n",
    "rf = RandomForestClassifier(random_state = 123)\n",
    "\n",
    "#Create the AdaBoostClassifier object\n",
    "adaBoost = AdaBoostClassifier(rf, random_state = 123)\n",
    "\n",
    "#Create GridSearchCV object\n",
    "grid = GridSearchCV(adaBoost, {'n_estimators': range(50, 101, 10)}, cv = 5)\n",
    "\n",
    "#Fit the grid object\n",
    "grid.fit(X_train, y_train)"
   ]
  },
  {
   "cell_type": "code",
   "execution_count": null,
   "id": "9df47434",
   "metadata": {},
   "outputs": [],
   "source": [
    "#What was the best score and best parameters\n",
    "grid.best_score_, grid.best_params_"
   ]
  },
  {
   "cell_type": "markdown",
   "id": "5a6a1a9f",
   "metadata": {},
   "source": [
    "__Let's see if it can improve performance of our best RandomForest model from earlier__"
   ]
  },
  {
   "cell_type": "code",
   "execution_count": null,
   "id": "4bac603b",
   "metadata": {},
   "outputs": [],
   "source": [
    "#Create the AdaBoostClassifier object\n",
    "adaBoost = AdaBoostClassifier(best_model, random_state = 123)\n",
    "\n",
    "#Create GridSearchCV object\n",
    "grid = GridSearchCV(adaBoost, {'n_estimators': range(50, 101, 5)}, cv = 5)\n",
    "\n",
    "#Fit the grid object\n",
    "grid.fit(X_train, y_train)\n",
    "\n",
    "#What was the best score and best parameters\n",
    "grid.best_score_, grid.best_params_"
   ]
  },
  {
   "cell_type": "markdown",
   "id": "bd416476",
   "metadata": {},
   "source": [
    "It is actually slightly better than before"
   ]
  },
  {
   "cell_type": "code",
   "execution_count": null,
   "id": "ac33bebd",
   "metadata": {},
   "outputs": [],
   "source": [
    "#Create a function for AdaBoost\n",
    "def get_adaBoosted_model(X_train, y_train, model_to_boost, param_dict, cv = 5):\n",
    "    \"\"\"\n",
    "    This function creates and returns an optimized AdaBoosted random forest classification model. It also\n",
    "    prints out the best model's mean cross-validated accuracy score and parameters.\n",
    "    \n",
    "    This function takes in the X and y training sets to fit the models.\n",
    "    \n",
    "    This function takes in a dictionary that contains the parameters to be iterated through.\n",
    "    \n",
    "    This function also takes in a value for the number of cross validation folds to do.\n",
    "    The cv value defaults to 5.\n",
    "    \"\"\"\n",
    "    #Create the AdaBoost Classifier\n",
    "    adaBoost_clf = AdaBoostClassifier(model_to_boost, random_state = 123)\n",
    "    \n",
    "    #Create the GridSearchCV object\n",
    "    grid = GridSearchCV(adaBoost_clf, param_dict, cv = 5)\n",
    "    \n",
    "    #Fit the GridSearchCV object\n",
    "    grid.fit(X_train, y_train)\n",
    "    \n",
    "    #Print the best model's score and parameters\n",
    "    print('Mean Cross-Validated Accuracy: ', round(grid.best_score_, 4))\n",
    "    print('Num Estimators: ', grid.best_params_['n_estimators'])\n",
    "    print('Learning Rate: ', grid.best_params_['learning_rate'])\n",
    "    \n",
    "    #Return the best model\n",
    "    return grid.best_estimator_"
   ]
  },
  {
   "cell_type": "code",
   "execution_count": null,
   "id": "274395e1",
   "metadata": {},
   "outputs": [],
   "source": [
    "adaBoost_params = {\n",
    "    'n_estimators': range(50, 61),\n",
    "    'learning_rate': range(1, 6)\n",
    "}"
   ]
  },
  {
   "cell_type": "code",
   "execution_count": null,
   "id": "ba9fc639",
   "metadata": {},
   "outputs": [],
   "source": [
    "#Test the above function\n",
    "ada_boosted_clf = get_adaBoosted_model(X_train, y_train, best_model, adaBoost_params)"
   ]
  },
  {
   "cell_type": "code",
   "execution_count": null,
   "id": "79640fd4",
   "metadata": {},
   "outputs": [],
   "source": [
    "#This performed slightly better than the random forest alone.\n",
    "#What were the most important features?\n",
    "best_features = pd.DataFrame(ada_boosted_clf.feature_importances_, X_train.columns)\n",
    "best_features.sort_values(by = 0, ascending = False).head(10)"
   ]
  },
  {
   "cell_type": "markdown",
   "id": "fda4de8c",
   "metadata": {},
   "source": [
    "# Test Dataset at 15 Minute Mark"
   ]
  },
  {
   "cell_type": "markdown",
   "id": "5c5c6128",
   "metadata": {},
   "source": [
    "To get the data at the 15 minute mark, I'll have to reload all of the match data json files and run them through the prepare function."
   ]
  },
  {
   "cell_type": "code",
   "execution_count": null,
   "id": "e5670831",
   "metadata": {},
   "outputs": [],
   "source": [
    "#Create a list of timeline files to iterate through\n",
    "timeline_files = ['timeline_data_start_4000_end_5000.json',\n",
    "                  'timeline_data_start_5000_end_6000.json',\n",
    "                  'timeline_data_start_6000_end_7000.json', \n",
    "                  'timeline_data_start_7000_end_8000.json',\n",
    "                  'timeline_data_start_8000_end_9000.json',\n",
    "                  'timeline_data_start_9000_end_10000.json',\n",
    "                  'timeline_data_start_10000_end_10657.json']"
   ]
  },
  {
   "cell_type": "code",
   "execution_count": null,
   "id": "fb6b89b5",
   "metadata": {},
   "outputs": [],
   "source": [
    "#Create a list of other game data files to iterate through\n",
    "other_data_files = ['other_game_data_start_4000_end_5000.json',\n",
    "                  'other_game_data_start_5000_end_6000.json',\n",
    "                  'other_game_data_start_6000_end_7000.json', \n",
    "                  'other_game_data_start_7000_end_8000.json',\n",
    "                  'other_game_data_start_8000_end_9000.json',\n",
    "                  'other_game_data_start_9000_end_10000.json',\n",
    "                  'other_game_data_start_10000_end_10657.json']"
   ]
  },
  {
   "cell_type": "code",
   "execution_count": null,
   "id": "2f95687e",
   "metadata": {},
   "outputs": [],
   "source": [
    "#Create empty list to store the timeline info\n",
    "#Save the single file so we don't have to do this again in the future\n",
    "timeline_list = []\n",
    "\n",
    "#Now loop through the files list, read each file, and extend the timeline_list with each entry\n",
    "for file in timeline_files:\n",
    "    #Read the file\n",
    "    temp_file = pd.read_json(file)\n",
    "    \n",
    "    #Turn it into a list of dicts\n",
    "    temp_file = temp_file.to_dict(orient = 'records')\n",
    "    \n",
    "    #Extend the timeline_list with the temp file\n",
    "    timeline_list.extend(temp_file)"
   ]
  },
  {
   "cell_type": "code",
   "execution_count": null,
   "id": "f07cbe8c",
   "metadata": {},
   "outputs": [],
   "source": [
    "#Convert to df\n",
    "timeline_df = pd.DataFrame(timeline_list)\n",
    "\n",
    "#Now save this complete file as a single json\n",
    "timeline_df.to_json('timeline_data_start_4000_end_10657.json')"
   ]
  },
  {
   "cell_type": "code",
   "execution_count": null,
   "id": "a3d65031",
   "metadata": {},
   "outputs": [],
   "source": [
    "#Create empty list to store the other game data\n",
    "#Save the single file so we don't have to do this again in the future\n",
    "game_data_list = []\n",
    "\n",
    "#Now loop through the files list, read each file, and extend the game_data_list with each entry\n",
    "for file in other_data_files:\n",
    "    #Read the file\n",
    "    temp_file = pd.read_json(file)\n",
    "    \n",
    "    #Turn it into a list of dicts\n",
    "    temp_file = temp_file.to_dict(orient = 'records')\n",
    "    \n",
    "    #Extend the timeline_list with the temp file\n",
    "    game_data_list.extend(temp_file)"
   ]
  },
  {
   "cell_type": "code",
   "execution_count": null,
   "id": "76210306",
   "metadata": {},
   "outputs": [],
   "source": [
    "#Convert to df\n",
    "game_data_df = pd.DataFrame(game_data_list)\n",
    "\n",
    "#Now save this complete file as a single json\n",
    "game_data_df.to_json('other_game_data_start_4000_end_10657.json')"
   ]
  },
  {
   "cell_type": "code",
   "execution_count": null,
   "id": "d523321c",
   "metadata": {},
   "outputs": [],
   "source": [
    "import prepare\n",
    "\n",
    "#Now the lists are created, run them through Joshua C's prepare and prep functions\n",
    "match_info_minute_15 = prepare.prepare(timeline_list, game_data_list, 15)"
   ]
  },
  {
   "cell_type": "code",
   "execution_count": null,
   "id": "7f0cf41b",
   "metadata": {},
   "outputs": [],
   "source": [
    "#Save this csv\n",
    "match_info_minute_15.to_csv('match_data_start_4000_end_10657_minute_15.csv', index = False)"
   ]
  },
  {
   "cell_type": "code",
   "execution_count": null,
   "id": "f994538b",
   "metadata": {},
   "outputs": [],
   "source": [
    "#Now that we have the prepared data for the 15 minute mark, go through the same process you did before\n",
    "match_info_15 = prepare.prep(match_info_minute_15)"
   ]
  },
  {
   "cell_type": "code",
   "execution_count": null,
   "id": "9281a6fb",
   "metadata": {},
   "outputs": [],
   "source": [
    "#Killsplayer_0 can be dropped because its not an actual player.\n",
    "match_info_15.drop(columns = ['killsplayer_0'], inplace = True)"
   ]
  },
  {
   "cell_type": "code",
   "execution_count": null,
   "id": "b86515e4",
   "metadata": {},
   "outputs": [],
   "source": [
    "#Split into X and y\n",
    "X, y = match_info_15.drop(columns = ['winningTeam']), match_info_15.winningTeam"
   ]
  },
  {
   "cell_type": "code",
   "execution_count": null,
   "id": "8a301855",
   "metadata": {},
   "outputs": [],
   "source": [
    "#Create dummy vars\n",
    "X = pd.get_dummies(X, drop_first = True)"
   ]
  },
  {
   "cell_type": "code",
   "execution_count": null,
   "id": "07a97a40",
   "metadata": {},
   "outputs": [],
   "source": [
    "#Split into train and test sets\n",
    "X_train, X_test, y_train, y_test = train_test_split(X, y, test_size = 0.2, random_state = 123)"
   ]
  },
  {
   "cell_type": "code",
   "execution_count": null,
   "id": "7470b2d4",
   "metadata": {},
   "outputs": [],
   "source": [
    "#Create the dict of params to iterate through\n",
    "rf_dict = {\n",
    "    'max_depth': range(1, 16),\n",
    "    'min_samples_leaf': range(1, 16)\n",
    "}"
   ]
  },
  {
   "cell_type": "code",
   "execution_count": null,
   "id": "43eaab8b",
   "metadata": {},
   "outputs": [],
   "source": [
    "best_model = get_random_forest_models(X_train, y_train, rf_dict, cv = 5)"
   ]
  },
  {
   "cell_type": "code",
   "execution_count": null,
   "id": "12eeeed1",
   "metadata": {},
   "outputs": [],
   "source": [
    "#What were the most important features?\n",
    "best_features = pd.DataFrame(best_model.feature_importances_, X_train.columns)\n",
    "best_features.sort_values(by = 0, ascending = False).head(10)"
   ]
  },
  {
   "cell_type": "markdown",
   "id": "ca3f8772",
   "metadata": {},
   "source": [
    "# Build Models For New Data at 15 Minutes"
   ]
  },
  {
   "cell_type": "code",
   "execution_count": null,
   "id": "ad642f4d",
   "metadata": {},
   "outputs": [],
   "source": [
    "#Load the extracted dataframe for the new data\n",
    "extracted_df = pd.read_csv('new_extracted_data_smith.csv')"
   ]
  },
  {
   "cell_type": "code",
   "execution_count": null,
   "id": "dbee6e21",
   "metadata": {},
   "outputs": [],
   "source": [
    "#Prepare the extracted data\n",
    "import prepare\n",
    "\n",
    "train, test = prepare.prepare(extracted_df)"
   ]
  },
  {
   "cell_type": "code",
   "execution_count": null,
   "id": "ca82b9f6",
   "metadata": {},
   "outputs": [],
   "source": [
    "train.shape, test.shape"
   ]
  },
  {
   "cell_type": "code",
   "execution_count": null,
   "id": "61c5e075",
   "metadata": {},
   "outputs": [],
   "source": [
    "#Drop columns that are categorical. These columns don't offer any value\n",
    "cols_to_drop = train.select_dtypes('object').columns\n",
    "cols_to_drop\n",
    "\n",
    "train.drop(columns = cols_to_drop, inplace = True)\n",
    "test.drop(columns = cols_to_drop, inplace = True)"
   ]
  },
  {
   "cell_type": "code",
   "execution_count": null,
   "id": "5b2cfdaa",
   "metadata": {},
   "outputs": [],
   "source": [
    "train.shape, test.shape"
   ]
  },
  {
   "cell_type": "code",
   "execution_count": null,
   "id": "17b908a9",
   "metadata": {},
   "outputs": [],
   "source": [
    "#Now split into X and y groups\n",
    "X_train, X_test = train.drop(columns = ['winningTeam']), test.drop(columns = ['winningTeam'])\n",
    "y_train, y_test = train.winningTeam, test.winningTeam"
   ]
  },
  {
   "cell_type": "code",
   "execution_count": null,
   "id": "30a13895",
   "metadata": {},
   "outputs": [],
   "source": [
    "#Create the dict of params to iterate through\n",
    "rf_dict = {\n",
    "    'max_depth': range(1, 16),\n",
    "    'min_samples_leaf': range(1, 16)\n",
    "}"
   ]
  },
  {
   "cell_type": "code",
   "execution_count": null,
   "id": "3d7abf7f",
   "metadata": {},
   "outputs": [],
   "source": [
    "#Now create models and return the best one\n",
    "best_model = get_random_forest_models(X_train, y_train, rf_dict, cv = 5)"
   ]
  },
  {
   "cell_type": "code",
   "execution_count": null,
   "id": "31e6c4b9",
   "metadata": {},
   "outputs": [],
   "source": [
    "#What were the top ten features?\n",
    "def get_best_features(model, X_train, num_features = 10):\n",
    "    \"\"\"\n",
    "    This function gets the best features of the desired model and prints them out.\n",
    "    You can change how many features are shown with num_features.\n",
    "    This function returns nothing.\n",
    "    \"\"\"\n",
    "    #What were the most important features?\n",
    "    best_features = pd.DataFrame(best_model.feature_importances_, X_train.columns)\n",
    "    print(best_features.sort_values(by = 0, ascending = False).head(num_features))"
   ]
  },
  {
   "cell_type": "code",
   "execution_count": null,
   "id": "89be22ff",
   "metadata": {},
   "outputs": [],
   "source": [
    "get_best_features(best_model, X_train)"
   ]
  },
  {
   "cell_type": "markdown",
   "id": "0a4677ef",
   "metadata": {},
   "source": [
    "# Build Models For New Data at 10 Minutes"
   ]
  },
  {
   "cell_type": "code",
   "execution_count": null,
   "id": "c27b3f77",
   "metadata": {},
   "outputs": [],
   "source": [
    "import acquire\n",
    "import prepare\n",
    "import numpy as np\n",
    "import pandas as pd\n",
    "from sklearn.model_selection import cross_val_score, GridSearchCV, train_test_split, cross_validate\n",
    "from sklearn.ensemble import RandomForestClassifier"
   ]
  },
  {
   "cell_type": "markdown",
   "id": "d2727f1d",
   "metadata": {},
   "source": [
    "__Extract Function Does Not Work For Time = 10__\n",
    "\n",
    "I need to wait until Joshua can take a look and fix the issue. However, this is not top priority."
   ]
  },
  {
   "cell_type": "code",
   "execution_count": null,
   "id": "886d2acd",
   "metadata": {},
   "outputs": [],
   "source": [
    "#Need to extract data for the 10 minute mark\n",
    "extracted_data = acquire.build_extracted_df(username = 'smith', path = './new_data/', time = 10)"
   ]
  }
 ],
 "metadata": {
  "kernelspec": {
   "display_name": "Python 3",
   "language": "python",
   "name": "python3"
  },
  "language_info": {
   "codemirror_mode": {
    "name": "ipython",
    "version": 3
   },
   "file_extension": ".py",
   "mimetype": "text/x-python",
   "name": "python",
   "nbconvert_exporter": "python",
   "pygments_lexer": "ipython3",
   "version": "3.8.8"
  }
 },
 "nbformat": 4,
 "nbformat_minor": 5
}
