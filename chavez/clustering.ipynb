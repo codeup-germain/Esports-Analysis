{
 "cells": [
  {
   "cell_type": "code",
   "execution_count": 102,
   "id": "764e0051",
   "metadata": {},
   "outputs": [],
   "source": [
    "import pandas as pd\n",
    "import requests\n",
    "from bs4 import BeautifulSoup\n",
    "from sklearn.model_selection import train_test_split\n",
    "from sklearn.preprocessing import MinMaxScaler\n",
    "from sklearn.model_selection import cross_val_score\n",
    "from sklearn.tree import DecisionTreeClassifier\n",
    "from sklearn.cluster import KMeans\n",
    "import matplotlib.pyplot as plt\n",
    "from sklearn.ensemble import RandomForestClassifier\n",
    "\n",
    "import re\n",
    "from acquire import extract, build_extracted_df, get_new_patch_data, get_players\n",
    "from prepare import prepare\n",
    "from env import api_key"
   ]
  },
  {
   "cell_type": "code",
   "execution_count": 103,
   "id": "8aaefaed",
   "metadata": {},
   "outputs": [],
   "source": [
    "pd.set_option(\"display.max_rows\", None, \"display.max_columns\", None) \n",
    "\n",
    "pd.reset_option(\"display.max_rows\", \"display.max_columns\")"
   ]
  },
  {
   "cell_type": "code",
   "execution_count": 104,
   "id": "c750a26b",
   "metadata": {},
   "outputs": [],
   "source": [
    "# Bring in DataFrame\n",
    "df = pd.read_csv(\"final_10.csv\")\n",
    "\n",
    "# Split the data\n",
    "train, test = prepare(df)"
   ]
  },
  {
   "cell_type": "markdown",
   "id": "8e044eb2",
   "metadata": {},
   "source": [
    "### columns to drop"
   ]
  },
  {
   "cell_type": "code",
   "execution_count": 105,
   "id": "53607b05",
   "metadata": {},
   "outputs": [],
   "source": [
    "to_drop=['gameEndTimestamp',\n",
    "'gameId',\n",
    "'gameMode',\n",
    "'gameName',\n",
    "'gameStartTimestamp',\n",
    "'gameType',\n",
    "'gameVersion',\n",
    "'matchId',\n",
    "'queueId',\n",
    "'timestamp',\n",
    "'time_cutoff',\n",
    "'ward_player_0',\n",
    "'riftherald_team300',\n",
    "'gameDuration',\n",
    "'Unnamed: 0']"
   ]
  },
  {
   "cell_type": "code",
   "execution_count": 106,
   "id": "736b1103",
   "metadata": {},
   "outputs": [],
   "source": [
    "train = train.drop(columns=to_drop)"
   ]
  },
  {
   "cell_type": "code",
   "execution_count": 107,
   "id": "44c5a1d4",
   "metadata": {},
   "outputs": [],
   "source": [
    "test = test.drop(columns=to_drop)"
   ]
  },
  {
   "cell_type": "code",
   "execution_count": 108,
   "id": "32e659c0",
   "metadata": {},
   "outputs": [
    {
     "data": {
      "text/plain": [
       "((3890, 251), (973, 251))"
      ]
     },
     "execution_count": 108,
     "metadata": {},
     "output_type": "execute_result"
    }
   ],
   "source": [
    "train.shape, test.shape"
   ]
  },
  {
   "cell_type": "code",
   "execution_count": 109,
   "id": "893881ac",
   "metadata": {},
   "outputs": [],
   "source": [
    "columns_to_scale = list(train.drop(columns=['winningTeam']).columns)"
   ]
  },
  {
   "cell_type": "code",
   "execution_count": 83,
   "id": "d1cbcdef",
   "metadata": {},
   "outputs": [],
   "source": [
    "# columns_to_scale"
   ]
  },
  {
   "cell_type": "code",
   "execution_count": 110,
   "id": "194140fe",
   "metadata": {},
   "outputs": [],
   "source": [
    "def add_scaled_columns(train, test, scaler, columns_to_scale):\n",
    "    \n",
    "    # new column names\n",
    "    new_column_names = [c + '_scaled' for c in columns_to_scale]\n",
    "    \n",
    "    # Fit the scaler on the train\n",
    "    scaler.fit(train[columns_to_scale])\n",
    "    \n",
    "    # transform train validate and test\n",
    "    train = pd.concat([\n",
    "        train,\n",
    "        pd.DataFrame(scaler.transform(train[columns_to_scale]), columns=new_column_names, index=train.index),\n",
    "    ], axis=1)\n",
    "    \n",
    "    train = train.drop(columns=columns_to_scale)\n",
    "    \n",
    "#     validate = pd.concat([\n",
    "#         validate,\n",
    "#         pd.DataFrame(scaler.transform(validate[columns_to_scale]), columns=new_column_names, index=validate.index),\n",
    "#     ], axis=1)\n",
    "    \n",
    "    \n",
    "    test = pd.concat([\n",
    "        test,\n",
    "        pd.DataFrame(scaler.transform(test[columns_to_scale]), columns=new_column_names, index=test.index),\n",
    "    ], axis=1)\n",
    "    \n",
    "    test = test.drop(columns=columns_to_scale)\n",
    "    \n",
    "    return train, test"
   ]
  },
  {
   "cell_type": "code",
   "execution_count": 111,
   "id": "f34fd3a9",
   "metadata": {},
   "outputs": [],
   "source": [
    "train_scaled, test_scaled = add_scaled_columns(train, test, MinMaxScaler(), columns_to_scale)"
   ]
  },
  {
   "cell_type": "code",
   "execution_count": 112,
   "id": "01d8aa3d",
   "metadata": {},
   "outputs": [],
   "source": [
    "train_scaled.to_csv(\"final10_train_scaled.csv\")"
   ]
  },
  {
   "cell_type": "code",
   "execution_count": 113,
   "id": "92c076dc",
   "metadata": {},
   "outputs": [],
   "source": [
    "test_scaled.to_csv(\"final10_test_scaled.csv\")"
   ]
  },
  {
   "cell_type": "code",
   "execution_count": null,
   "id": "f33e71ce",
   "metadata": {},
   "outputs": [],
   "source": []
  },
  {
   "cell_type": "code",
   "execution_count": 114,
   "id": "4c93b8c9",
   "metadata": {},
   "outputs": [],
   "source": [
    "X_train = train_scaled.drop(columns=\"winningTeam\")\n",
    "y_train = train_scaled.winningTeam\n",
    "\n",
    "X_test = test_scaled.drop(columns=\"winningTeam\")\n",
    "y_test = test_scaled.winningTeam"
   ]
  },
  {
   "cell_type": "code",
   "execution_count": 87,
   "id": "2dd54f57",
   "metadata": {},
   "outputs": [
    {
     "data": {
      "text/plain": [
       "array([0, 0, 0, ..., 1, 0, 0], dtype=int32)"
      ]
     },
     "execution_count": 87,
     "metadata": {},
     "output_type": "execute_result"
    }
   ],
   "source": [
    "# sklearn implementation of KMeans\n",
    "\n",
    "#define the thing\n",
    "kmeans = KMeans(n_clusters=2, random_state=1349)\n",
    "\n",
    "# fit the thing\n",
    "kmeans.fit(X)\n",
    "\n",
    "# Use (predict using) the thing \n",
    "kmeans.predict(X)"
   ]
  },
  {
   "cell_type": "code",
   "execution_count": 88,
   "id": "a2a60d1e",
   "metadata": {},
   "outputs": [],
   "source": [
    "# make a new column names cluster in iris and X_scaled dataframe\n",
    "df = pd.DataFrame()\n",
    "df['cluster'] = kmeans.predict(X_train)\n",
    "\n",
    "X_train['cluster'] = kmeans.predict(X_train)"
   ]
  },
  {
   "cell_type": "code",
   "execution_count": 89,
   "id": "7b12248d",
   "metadata": {},
   "outputs": [
    {
     "data": {
      "text/plain": [
       "0    2419\n",
       "1    1471\n",
       "Name: cluster, dtype: int64"
      ]
     },
     "execution_count": 89,
     "metadata": {},
     "output_type": "execute_result"
    }
   ],
   "source": [
    "X_train['cluster'].value_counts()"
   ]
  },
  {
   "cell_type": "code",
   "execution_count": 90,
   "id": "686d62ef",
   "metadata": {},
   "outputs": [
    {
     "data": {
      "text/plain": [
       "21715.848960585226"
      ]
     },
     "execution_count": 90,
     "metadata": {},
     "output_type": "execute_result"
    }
   ],
   "source": [
    "kmeans.inertia_"
   ]
  },
  {
   "cell_type": "code",
   "execution_count": 91,
   "id": "b04f2d21",
   "metadata": {},
   "outputs": [
    {
     "data": {
      "image/png": "[encoded data removed]",
      "text/plain": [
       "<Figure size 648x432 with 1 Axes>"
      ]
     },
     "metadata": {},
     "output_type": "display_data"
    }
   ],
   "source": [
    "with plt.style.context('seaborn-whitegrid'):\n",
    "    plt.figure(figsize=(9, 6))\n",
    "    pd.Series({k: KMeans(k).fit(X_train).inertia_ for k in range(2, 12)}).plot(marker='x')\n",
    "    plt.xticks(range(2, 12))\n",
    "    plt.xlabel('k')\n",
    "    plt.ylabel('inertia')\n",
    "    plt.title('Change in inertia as k increases')"
   ]
  },
  {
   "cell_type": "code",
   "execution_count": 92,
   "id": "64701909",
   "metadata": {},
   "outputs": [],
   "source": [
    "boolean_dummy = pd.get_dummies(X_train['cluster'], drop_first=False)\n",
    "X_train = pd.concat([X_train, boolean_dummy], axis = 1)"
   ]
  },
  {
   "cell_type": "code",
   "execution_count": 93,
   "id": "18d94724",
   "metadata": {},
   "outputs": [],
   "source": [
    "X_train = X_train.rename(columns = {\n",
    "            0:'cluster_0', \n",
    "            1:'cluster_1'})"
   ]
  },
  {
   "cell_type": "code",
   "execution_count": 94,
   "id": "38bc63f5",
   "metadata": {},
   "outputs": [
    {
     "data": {
      "text/html": [
       "<div>\n",
       "<style scoped>\n",
       "    .dataframe tbody tr th:only-of-type {\n",
       "        vertical-align: middle;\n",
       "    }\n",
       "\n",
       "    .dataframe tbody tr th {\n",
       "        vertical-align: top;\n",
       "    }\n",
       "\n",
       "    .dataframe thead th {\n",
       "        text-align: right;\n",
       "    }\n",
       "</style>\n",
       "<table border=\"1\" class=\"dataframe\">\n",
       "  <thead>\n",
       "    <tr style=\"text-align: right;\">\n",
       "      <th></th>\n",
       "      <th>cluster_0</th>\n",
       "      <th>cluster_1</th>\n",
       "    </tr>\n",
       "  </thead>\n",
       "  <tbody>\n",
       "    <tr>\n",
       "      <th>3513</th>\n",
       "      <td>1</td>\n",
       "      <td>0</td>\n",
       "    </tr>\n",
       "    <tr>\n",
       "      <th>1250</th>\n",
       "      <td>1</td>\n",
       "      <td>0</td>\n",
       "    </tr>\n",
       "    <tr>\n",
       "      <th>3532</th>\n",
       "      <td>1</td>\n",
       "      <td>0</td>\n",
       "    </tr>\n",
       "    <tr>\n",
       "      <th>3858</th>\n",
       "      <td>0</td>\n",
       "      <td>1</td>\n",
       "    </tr>\n",
       "    <tr>\n",
       "      <th>528</th>\n",
       "      <td>0</td>\n",
       "      <td>1</td>\n",
       "    </tr>\n",
       "    <tr>\n",
       "      <th>...</th>\n",
       "      <td>...</td>\n",
       "      <td>...</td>\n",
       "    </tr>\n",
       "    <tr>\n",
       "      <th>1593</th>\n",
       "      <td>1</td>\n",
       "      <td>0</td>\n",
       "    </tr>\n",
       "    <tr>\n",
       "      <th>4060</th>\n",
       "      <td>0</td>\n",
       "      <td>1</td>\n",
       "    </tr>\n",
       "    <tr>\n",
       "      <th>1346</th>\n",
       "      <td>0</td>\n",
       "      <td>1</td>\n",
       "    </tr>\n",
       "    <tr>\n",
       "      <th>3454</th>\n",
       "      <td>1</td>\n",
       "      <td>0</td>\n",
       "    </tr>\n",
       "    <tr>\n",
       "      <th>3582</th>\n",
       "      <td>1</td>\n",
       "      <td>0</td>\n",
       "    </tr>\n",
       "  </tbody>\n",
       "</table>\n",
       "<p>3890 rows × 2 columns</p>\n",
       "</div>"
      ],
      "text/plain": [
       "      cluster_0  cluster_1\n",
       "3513          1          0\n",
       "1250          1          0\n",
       "3532          1          0\n",
       "3858          0          1\n",
       "528           0          1\n",
       "...         ...        ...\n",
       "1593          1          0\n",
       "4060          0          1\n",
       "1346          0          1\n",
       "3454          1          0\n",
       "3582          1          0\n",
       "\n",
       "[3890 rows x 2 columns]"
      ]
     },
     "execution_count": 94,
     "metadata": {},
     "output_type": "execute_result"
    }
   ],
   "source": [
    "X_train[['cluster_0', 'cluster_1']]"
   ]
  },
  {
   "cell_type": "code",
   "execution_count": 95,
   "id": "e69566be",
   "metadata": {},
   "outputs": [],
   "source": [
    "rf = RandomForestClassifier(bootstrap=True, \n",
    "                            class_weight=None, \n",
    "                            criterion='gini',\n",
    "                            min_samples_leaf=2,\n",
    "                            n_estimators=100,\n",
    "                            max_depth=4, \n",
    "                            random_state=123)"
   ]
  },
  {
   "cell_type": "code",
   "execution_count": 96,
   "id": "d6e7f9ff",
   "metadata": {},
   "outputs": [
    {
     "data": {
      "text/plain": [
       "RandomForestClassifier(max_depth=4, min_samples_leaf=2, random_state=123)"
      ]
     },
     "execution_count": 96,
     "metadata": {},
     "output_type": "execute_result"
    }
   ],
   "source": [
    "rf.fit(X_train[['cluster_0', 'cluster_1']], y_train)"
   ]
  },
  {
   "cell_type": "code",
   "execution_count": 97,
   "id": "d57ade39",
   "metadata": {},
   "outputs": [
    {
     "data": {
      "text/plain": [
       "0.5516709511568123"
      ]
     },
     "execution_count": 97,
     "metadata": {},
     "output_type": "execute_result"
    }
   ],
   "source": [
    "rf.score(X_train[['cluster_0', 'cluster_1']], y_train)"
   ]
  },
  {
   "cell_type": "code",
   "execution_count": 99,
   "id": "728dae53",
   "metadata": {},
   "outputs": [],
   "source": [
    "results = cross_val_score(rf, X_train[['cluster_0', 'cluster_1']], y_train, cv=10)"
   ]
  },
  {
   "cell_type": "code",
   "execution_count": 100,
   "id": "4a55f599",
   "metadata": {},
   "outputs": [
    {
     "data": {
      "text/plain": [
       "array([0.56812339, 0.55269923, 0.5218509 , 0.59125964, 0.53984576,\n",
       "       0.53984576, 0.57840617, 0.5218509 , 0.54241645, 0.56041131])"
      ]
     },
     "execution_count": 100,
     "metadata": {},
     "output_type": "execute_result"
    }
   ],
   "source": [
    "results"
   ]
  },
  {
   "cell_type": "code",
   "execution_count": 101,
   "id": "fa1fe05b",
   "metadata": {},
   "outputs": [
    {
     "data": {
      "text/plain": [
       "0.5516709511568123"
      ]
     },
     "execution_count": 101,
     "metadata": {},
     "output_type": "execute_result"
    }
   ],
   "source": [
    "results.mean()"
   ]
  },
  {
   "cell_type": "code",
   "execution_count": null,
   "id": "3e370a1b",
   "metadata": {},
   "outputs": [],
   "source": []
  }
 ],
 "metadata": {
  "kernelspec": {
   "display_name": "Python 3",
   "language": "python",
   "name": "python3"
  },
  "language_info": {
   "codemirror_mode": {
    "name": "ipython",
    "version": 3
   },
   "file_extension": ".py",
   "mimetype": "text/x-python",
   "name": "python",
   "nbconvert_exporter": "python",
   "pygments_lexer": "ipython3",
   "version": "3.8.8"
  }
 },
 "nbformat": 4,
 "nbformat_minor": 5
}
