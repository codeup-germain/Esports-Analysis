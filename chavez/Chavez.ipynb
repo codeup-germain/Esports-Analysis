{
 "cells": [
  {
   "cell_type": "code",
   "execution_count": 9,
   "id": "3d5bf0c8",
   "metadata": {},
   "outputs": [],
   "source": [
    "import pandas as pd\n",
    "import requests\n",
    "from bs4 import BeautifulSoup\n",
    "from sklearn.model_selection import train_test_split\n",
    "import re\n",
    "from acquire import extract\n",
    "from prepare import prepare"
   ]
  },
  {
   "cell_type": "code",
   "execution_count": 10,
   "id": "776e858e",
   "metadata": {},
   "outputs": [],
   "source": [
    "timeline_data = pd.read_json('timeline_data_user_Xmithie_end_40.json')\n",
    "other_game_data = pd.read_json('other_game_data_user_Xmithie_end_40.json')\n",
    "timeline_data = timeline_data.to_dict(orient = 'records')\n",
    "other_game_data = other_game_data.to_dict(orient = 'records')"
   ]
  },
  {
   "cell_type": "code",
   "execution_count": 11,
   "id": "e1291ec3",
   "metadata": {},
   "outputs": [
    {
     "name": "stdout",
     "output_type": "stream",
     "text": [
      "Skipping: 0 due to <15 min or not classic\n",
      "Finished with: 1 of 9\n",
      "Finished with: 2 of 9\n",
      "Skipping: 3 due to <15 min or not classic\n",
      "Skipping: 4 due to <15 min or not classic\n",
      "Finished with: 5 of 9\n",
      "Skipping: 6 due to <15 min or not classic\n",
      "Skipping: 7 due to <15 min or not classic\n",
      "Skipping: 8 due to <15 min or not classic\n",
      "Skipping: 9 due to <15 min or not classic\n"
     ]
    }
   ],
   "source": [
    "df = extract(timeline_data, other_game_data, 15)"
   ]
  },
  {
   "cell_type": "code",
   "execution_count": 12,
   "id": "ee90a84d",
   "metadata": {},
   "outputs": [],
   "source": [
    "train, test = prepare(df)"
   ]
  },
  {
   "cell_type": "code",
   "execution_count": 13,
   "id": "61ffbda5",
   "metadata": {},
   "outputs": [
    {
     "data": {
      "text/html": [
       "<div>\n",
       "<style scoped>\n",
       "    .dataframe tbody tr th:only-of-type {\n",
       "        vertical-align: middle;\n",
       "    }\n",
       "\n",
       "    .dataframe tbody tr th {\n",
       "        vertical-align: top;\n",
       "    }\n",
       "\n",
       "    .dataframe thead th {\n",
       "        text-align: right;\n",
       "    }\n",
       "</style>\n",
       "<table border=\"1\" class=\"dataframe\">\n",
       "  <thead>\n",
       "    <tr style=\"text-align: right;\">\n",
       "      <th></th>\n",
       "      <th>airdragon_team100</th>\n",
       "      <th>assistsplayer_1</th>\n",
       "      <th>assistsplayer_10</th>\n",
       "      <th>assistsplayer_2</th>\n",
       "      <th>assistsplayer_3</th>\n",
       "      <th>assistsplayer_4</th>\n",
       "      <th>assistsplayer_5</th>\n",
       "      <th>assistsplayer_6</th>\n",
       "      <th>assistsplayer_7</th>\n",
       "      <th>assistsplayer_8</th>\n",
       "      <th>...</th>\n",
       "      <th>BlueTeamWards</th>\n",
       "      <th>RedTeamWards</th>\n",
       "      <th>BlueTeamAssists</th>\n",
       "      <th>RedTeamAssists</th>\n",
       "      <th>BlueTeamXp</th>\n",
       "      <th>RedTeamXp</th>\n",
       "      <th>BlueTeamTotalGoldDifference</th>\n",
       "      <th>RedTeamTotalGoldDifference</th>\n",
       "      <th>BlueTeamMVPKills</th>\n",
       "      <th>RedTeamMVPKills</th>\n",
       "    </tr>\n",
       "  </thead>\n",
       "  <tbody>\n",
       "    <tr>\n",
       "      <th>1</th>\n",
       "      <td>1.0</td>\n",
       "      <td>0.0</td>\n",
       "      <td>3.0</td>\n",
       "      <td>0.0</td>\n",
       "      <td>0.0</td>\n",
       "      <td>4.0</td>\n",
       "      <td>6.0</td>\n",
       "      <td>0.0</td>\n",
       "      <td>1.0</td>\n",
       "      <td>1.0</td>\n",
       "      <td>...</td>\n",
       "      <td>51</td>\n",
       "      <td>495</td>\n",
       "      <td>10</td>\n",
       "      <td>7</td>\n",
       "      <td>30280</td>\n",
       "      <td>28208</td>\n",
       "      <td>2829</td>\n",
       "      <td>-2829</td>\n",
       "      <td>8.0</td>\n",
       "      <td>6.0</td>\n",
       "    </tr>\n",
       "    <tr>\n",
       "      <th>2</th>\n",
       "      <td>0.0</td>\n",
       "      <td>7.0</td>\n",
       "      <td>8.0</td>\n",
       "      <td>1.0</td>\n",
       "      <td>2.0</td>\n",
       "      <td>2.0</td>\n",
       "      <td>5.0</td>\n",
       "      <td>0.0</td>\n",
       "      <td>3.0</td>\n",
       "      <td>0.0</td>\n",
       "      <td>...</td>\n",
       "      <td>247</td>\n",
       "      <td>631</td>\n",
       "      <td>17</td>\n",
       "      <td>13</td>\n",
       "      <td>31673</td>\n",
       "      <td>30044</td>\n",
       "      <td>2149</td>\n",
       "      <td>-2149</td>\n",
       "      <td>8.0</td>\n",
       "      <td>6.0</td>\n",
       "    </tr>\n",
       "  </tbody>\n",
       "</table>\n",
       "<p>2 rows × 223 columns</p>\n",
       "</div>"
      ],
      "text/plain": [
       "   airdragon_team100  assistsplayer_1  assistsplayer_10  assistsplayer_2  \\\n",
       "1                1.0              0.0               3.0              0.0   \n",
       "2                0.0              7.0               8.0              1.0   \n",
       "\n",
       "   assistsplayer_3  assistsplayer_4  assistsplayer_5  assistsplayer_6  \\\n",
       "1              0.0              4.0              6.0              0.0   \n",
       "2              2.0              2.0              5.0              0.0   \n",
       "\n",
       "   assistsplayer_7  assistsplayer_8  ...  BlueTeamWards  RedTeamWards  \\\n",
       "1              1.0              1.0  ...             51           495   \n",
       "2              3.0              0.0  ...            247           631   \n",
       "\n",
       "   BlueTeamAssists  RedTeamAssists  BlueTeamXp  RedTeamXp  \\\n",
       "1               10               7       30280      28208   \n",
       "2               17              13       31673      30044   \n",
       "\n",
       "   BlueTeamTotalGoldDifference  RedTeamTotalGoldDifference  BlueTeamMVPKills  \\\n",
       "1                         2829                       -2829               8.0   \n",
       "2                         2149                       -2149               8.0   \n",
       "\n",
       "   RedTeamMVPKills  \n",
       "1              6.0  \n",
       "2              6.0  \n",
       "\n",
       "[2 rows x 223 columns]"
      ]
     },
     "execution_count": 13,
     "metadata": {},
     "output_type": "execute_result"
    }
   ],
   "source": [
    "train"
   ]
  },
  {
   "cell_type": "code",
   "execution_count": null,
   "id": "fe91bed1",
   "metadata": {},
   "outputs": [],
   "source": []
  }
 ],
 "metadata": {
  "kernelspec": {
   "display_name": "Python 3",
   "language": "python",
   "name": "python3"
  },
  "language_info": {
   "codemirror_mode": {
    "name": "ipython",
    "version": 3
   },
   "file_extension": ".py",
   "mimetype": "text/x-python",
   "name": "python",
   "nbconvert_exporter": "python",
   "pygments_lexer": "ipython3",
   "version": "3.8.8"
  }
 },
 "nbformat": 4,
 "nbformat_minor": 5
}
