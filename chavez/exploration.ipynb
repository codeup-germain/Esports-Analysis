{
 "cells": [
  {
   "cell_type": "code",
   "execution_count": 112,
   "id": "eb3d6ef0",
   "metadata": {},
   "outputs": [],
   "source": [
    "import pandas as pd\n",
    "import matplotlib.pyplot as plt\n",
    "from prepare import prepare\n",
    "import numpy as np\n",
    "import seaborn as sns\n",
    "\n",
    "# Stats\n",
    "from scipy.stats import mannwhitneyu, wilcoxon\n",
    "from scipy.stats import levene\n",
    "\n",
    "import warnings\n",
    "warnings.filterwarnings(\"ignore\")"
   ]
  },
  {
   "cell_type": "code",
   "execution_count": 4,
   "id": "c8866e4e",
   "metadata": {},
   "outputs": [],
   "source": [
    "df = pd.read_csv('final_15.csv')"
   ]
  },
  {
   "cell_type": "code",
   "execution_count": 5,
   "id": "403ef761",
   "metadata": {},
   "outputs": [],
   "source": [
    "df = df.drop(columns=['Unnamed: 0'])"
   ]
  },
  {
   "cell_type": "code",
   "execution_count": 7,
   "id": "a0598926",
   "metadata": {},
   "outputs": [
    {
     "data": {
      "text/html": [
       "<div>\n",
       "<style scoped>\n",
       "    .dataframe tbody tr th:only-of-type {\n",
       "        vertical-align: middle;\n",
       "    }\n",
       "\n",
       "    .dataframe tbody tr th {\n",
       "        vertical-align: top;\n",
       "    }\n",
       "\n",
       "    .dataframe thead th {\n",
       "        text-align: right;\n",
       "    }\n",
       "</style>\n",
       "<table border=\"1\" class=\"dataframe\">\n",
       "  <thead>\n",
       "    <tr style=\"text-align: right;\">\n",
       "      <th></th>\n",
       "      <th>airdragon_team100</th>\n",
       "      <th>assistsplayer_1</th>\n",
       "      <th>assistsplayer_10</th>\n",
       "      <th>assistsplayer_2</th>\n",
       "      <th>assistsplayer_3</th>\n",
       "      <th>assistsplayer_4</th>\n",
       "      <th>assistsplayer_5</th>\n",
       "      <th>assistsplayer_6</th>\n",
       "      <th>assistsplayer_7</th>\n",
       "      <th>assistsplayer_8</th>\n",
       "      <th>...</th>\n",
       "      <th>xp_4</th>\n",
       "      <th>xp_5</th>\n",
       "      <th>xp_6</th>\n",
       "      <th>xp_7</th>\n",
       "      <th>xp_8</th>\n",
       "      <th>xp_9</th>\n",
       "      <th>airdragon_team200</th>\n",
       "      <th>riftherald_team200</th>\n",
       "      <th>waterdragon_team200</th>\n",
       "      <th>inhibs_lost_team100</th>\n",
       "    </tr>\n",
       "  </thead>\n",
       "  <tbody>\n",
       "    <tr>\n",
       "      <th>0</th>\n",
       "      <td>0.0</td>\n",
       "      <td>3.0</td>\n",
       "      <td>4.0</td>\n",
       "      <td>0.0</td>\n",
       "      <td>4.0</td>\n",
       "      <td>1.0</td>\n",
       "      <td>4.0</td>\n",
       "      <td>1.0</td>\n",
       "      <td>2.0</td>\n",
       "      <td>1.0</td>\n",
       "      <td>...</td>\n",
       "      <td>4414.0</td>\n",
       "      <td>3916.0</td>\n",
       "      <td>5756.0</td>\n",
       "      <td>4961.0</td>\n",
       "      <td>5855.0</td>\n",
       "      <td>4805.0</td>\n",
       "      <td>NaN</td>\n",
       "      <td>NaN</td>\n",
       "      <td>NaN</td>\n",
       "      <td>NaN</td>\n",
       "    </tr>\n",
       "    <tr>\n",
       "      <th>1</th>\n",
       "      <td>0.0</td>\n",
       "      <td>2.0</td>\n",
       "      <td>4.0</td>\n",
       "      <td>2.0</td>\n",
       "      <td>4.0</td>\n",
       "      <td>6.0</td>\n",
       "      <td>4.0</td>\n",
       "      <td>0.0</td>\n",
       "      <td>4.0</td>\n",
       "      <td>2.0</td>\n",
       "      <td>...</td>\n",
       "      <td>5185.0</td>\n",
       "      <td>4658.0</td>\n",
       "      <td>5595.0</td>\n",
       "      <td>5793.0</td>\n",
       "      <td>7292.0</td>\n",
       "      <td>6284.0</td>\n",
       "      <td>1.0</td>\n",
       "      <td>NaN</td>\n",
       "      <td>NaN</td>\n",
       "      <td>NaN</td>\n",
       "    </tr>\n",
       "    <tr>\n",
       "      <th>2</th>\n",
       "      <td>0.0</td>\n",
       "      <td>2.0</td>\n",
       "      <td>3.0</td>\n",
       "      <td>2.0</td>\n",
       "      <td>5.0</td>\n",
       "      <td>9.0</td>\n",
       "      <td>7.0</td>\n",
       "      <td>3.0</td>\n",
       "      <td>4.0</td>\n",
       "      <td>6.0</td>\n",
       "      <td>...</td>\n",
       "      <td>5571.0</td>\n",
       "      <td>5207.0</td>\n",
       "      <td>7538.0</td>\n",
       "      <td>5342.0</td>\n",
       "      <td>7855.0</td>\n",
       "      <td>5724.0</td>\n",
       "      <td>NaN</td>\n",
       "      <td>NaN</td>\n",
       "      <td>NaN</td>\n",
       "      <td>NaN</td>\n",
       "    </tr>\n",
       "    <tr>\n",
       "      <th>3</th>\n",
       "      <td>0.0</td>\n",
       "      <td>1.0</td>\n",
       "      <td>6.0</td>\n",
       "      <td>0.0</td>\n",
       "      <td>3.0</td>\n",
       "      <td>1.0</td>\n",
       "      <td>3.0</td>\n",
       "      <td>1.0</td>\n",
       "      <td>1.0</td>\n",
       "      <td>1.0</td>\n",
       "      <td>...</td>\n",
       "      <td>4845.0</td>\n",
       "      <td>4105.0</td>\n",
       "      <td>7897.0</td>\n",
       "      <td>8017.0</td>\n",
       "      <td>6555.0</td>\n",
       "      <td>5482.0</td>\n",
       "      <td>NaN</td>\n",
       "      <td>NaN</td>\n",
       "      <td>NaN</td>\n",
       "      <td>NaN</td>\n",
       "    </tr>\n",
       "    <tr>\n",
       "      <th>4</th>\n",
       "      <td>1.0</td>\n",
       "      <td>1.0</td>\n",
       "      <td>4.0</td>\n",
       "      <td>0.0</td>\n",
       "      <td>2.0</td>\n",
       "      <td>1.0</td>\n",
       "      <td>2.0</td>\n",
       "      <td>1.0</td>\n",
       "      <td>4.0</td>\n",
       "      <td>3.0</td>\n",
       "      <td>...</td>\n",
       "      <td>4698.0</td>\n",
       "      <td>3948.0</td>\n",
       "      <td>7891.0</td>\n",
       "      <td>6276.0</td>\n",
       "      <td>6514.0</td>\n",
       "      <td>4919.0</td>\n",
       "      <td>NaN</td>\n",
       "      <td>1.0</td>\n",
       "      <td>1.0</td>\n",
       "      <td>NaN</td>\n",
       "    </tr>\n",
       "  </tbody>\n",
       "</table>\n",
       "<p>5 rows × 197 columns</p>\n",
       "</div>"
      ],
      "text/plain": [
       "   airdragon_team100  assistsplayer_1  assistsplayer_10  assistsplayer_2  \\\n",
       "0                0.0              3.0               4.0              0.0   \n",
       "1                0.0              2.0               4.0              2.0   \n",
       "2                0.0              2.0               3.0              2.0   \n",
       "3                0.0              1.0               6.0              0.0   \n",
       "4                1.0              1.0               4.0              0.0   \n",
       "\n",
       "   assistsplayer_3  assistsplayer_4  assistsplayer_5  assistsplayer_6  \\\n",
       "0              4.0              1.0              4.0              1.0   \n",
       "1              4.0              6.0              4.0              0.0   \n",
       "2              5.0              9.0              7.0              3.0   \n",
       "3              3.0              1.0              3.0              1.0   \n",
       "4              2.0              1.0              2.0              1.0   \n",
       "\n",
       "   assistsplayer_7  assistsplayer_8  ...    xp_4    xp_5    xp_6    xp_7  \\\n",
       "0              2.0              1.0  ...  4414.0  3916.0  5756.0  4961.0   \n",
       "1              4.0              2.0  ...  5185.0  4658.0  5595.0  5793.0   \n",
       "2              4.0              6.0  ...  5571.0  5207.0  7538.0  5342.0   \n",
       "3              1.0              1.0  ...  4845.0  4105.0  7897.0  8017.0   \n",
       "4              4.0              3.0  ...  4698.0  3948.0  7891.0  6276.0   \n",
       "\n",
       "     xp_8    xp_9  airdragon_team200  riftherald_team200  waterdragon_team200  \\\n",
       "0  5855.0  4805.0                NaN                 NaN                  NaN   \n",
       "1  7292.0  6284.0                1.0                 NaN                  NaN   \n",
       "2  7855.0  5724.0                NaN                 NaN                  NaN   \n",
       "3  6555.0  5482.0                NaN                 NaN                  NaN   \n",
       "4  6514.0  4919.0                NaN                 1.0                  1.0   \n",
       "\n",
       "   inhibs_lost_team100  \n",
       "0                  NaN  \n",
       "1                  NaN  \n",
       "2                  NaN  \n",
       "3                  NaN  \n",
       "4                  NaN  \n",
       "\n",
       "[5 rows x 197 columns]"
      ]
     },
     "execution_count": 7,
     "metadata": {},
     "output_type": "execute_result"
    }
   ],
   "source": [
    "df.head()"
   ]
  },
  {
   "cell_type": "code",
   "execution_count": 9,
   "id": "af81f4e9",
   "metadata": {},
   "outputs": [],
   "source": [
    "df.reset_index(inplace = True)"
   ]
  },
  {
   "cell_type": "code",
   "execution_count": 10,
   "id": "bd7556db",
   "metadata": {},
   "outputs": [],
   "source": [
    "train, test = prepare(df)"
   ]
  },
  {
   "cell_type": "markdown",
   "id": "ac270f94",
   "metadata": {},
   "source": [
    "## Original Hypothesis\n",
    "\n",
    "    The biggest driver for predicting win rates will be the data on 'TeamWards'."
   ]
  },
  {
   "cell_type": "markdown",
   "id": "c60ae473",
   "metadata": {},
   "source": [
    "# Question # 1\n",
    "\n",
    "    Is the average winning TeamWards different from the average TeamWards for the defeated team?"
   ]
  },
  {
   "cell_type": "markdown",
   "id": "33241f81",
   "metadata": {},
   "source": [
    "### Setting up seperate dataframes for blue_wins and red_wins"
   ]
  },
  {
   "cell_type": "code",
   "execution_count": 19,
   "id": "7c5efdbe",
   "metadata": {},
   "outputs": [],
   "source": [
    "# Blue Winning Team DF\n",
    "blue_win = train[train['winningTeam'] == 100]"
   ]
  },
  {
   "cell_type": "code",
   "execution_count": 103,
   "id": "dff488fd",
   "metadata": {},
   "outputs": [
    {
     "data": {
      "text/plain": [
       "1498"
      ]
     },
     "execution_count": 103,
     "metadata": {},
     "output_type": "execute_result"
    }
   ],
   "source": [
    "# checking number of values in each\n",
    "len(blue_win)"
   ]
  },
  {
   "cell_type": "markdown",
   "id": "ffe6a1fa",
   "metadata": {},
   "source": [
    "### Checking TeamWards Mean"
   ]
  },
  {
   "cell_type": "code",
   "execution_count": 104,
   "id": "4c937b4e",
   "metadata": {},
   "outputs": [
    {
     "data": {
      "text/plain": [
       "40.43391188251001"
      ]
     },
     "execution_count": 104,
     "metadata": {},
     "output_type": "execute_result"
    }
   ],
   "source": [
    "# When blue won, what was blues avg ward score?\n",
    "blue_mean = blue_win.BlueTeamWards.mean()\n",
    "blue_mean"
   ]
  },
  {
   "cell_type": "code",
   "execution_count": 105,
   "id": "4fc47088",
   "metadata": {},
   "outputs": [
    {
     "data": {
      "text/plain": [
       "40.4392523364486"
      ]
     },
     "execution_count": 105,
     "metadata": {},
     "output_type": "execute_result"
    }
   ],
   "source": [
    "# When blue won, what was reds avg ward score?\n",
    "red_mean = blue_win.RedTeamWards.mean()\n",
    "red_mean"
   ]
  },
  {
   "cell_type": "markdown",
   "id": "923c9714",
   "metadata": {},
   "source": [
    "### Graph"
   ]
  },
  {
   "cell_type": "code",
   "execution_count": 51,
   "id": "8b638797",
   "metadata": {},
   "outputs": [
    {
     "data": {
      "image/png": "[encoded data removed]",
      "text/plain": [
       "<Figure size 432x288 with 1 Axes>"
      ]
     },
     "metadata": {},
     "output_type": "display_data"
    }
   ],
   "source": [
    "# Graphing the average altitude by ratings\n",
    "x = ['Blue Mean', 'Red Mean']\n",
    "y = [blue_mean, red_mean]\n",
    "ax = sns.barplot(x, y, color='blue')\n",
    "\n",
    "ax.set_title('When Blue Team Won', fontsize = 15)\n",
    "sns.set(font_scale = 1.3)\n",
    "ax.set(xlabel='Team', ylabel='Avg Ward Score')\n",
    "plt.show()"
   ]
  },
  {
   "cell_type": "markdown",
   "id": "d684fe9e",
   "metadata": {},
   "source": [
    "### Question 1 Takeaway\n",
    "\n",
    "    - When Blue Team won avg ward scores were pretty even.\n",
    "    - I don't believe this feature will be useful in our model.  I will still try to feed TeamWards into my model and I will document the results.  I dont anticipate it to perform well.\n",
    "    - I will not be running a Hypothesis Test since I dont believe TeamWards will be a driver of predicting win rates"
   ]
  },
  {
   "cell_type": "markdown",
   "id": "3b9b4855",
   "metadata": {},
   "source": [
    "# Question # 2\n",
    "\n",
    "    There is difference in BlueTeamTowersLost from RedTeamTowersLost"
   ]
  },
  {
   "cell_type": "markdown",
   "id": "8e0938a4",
   "metadata": {},
   "source": [
    "### Checking Towers Lost Mean"
   ]
  },
  {
   "cell_type": "code",
   "execution_count": 109,
   "id": "fb00e1f2",
   "metadata": {},
   "outputs": [
    {
     "data": {
      "text/plain": [
       "0.6435246995994659"
      ]
     },
     "execution_count": 109,
     "metadata": {},
     "output_type": "execute_result"
    }
   ],
   "source": [
    "# What is blues team towers lost mean?\n",
    "blue_mean = blue_win.towers_lost_team100.mean()\n",
    "blue_mean"
   ]
  },
  {
   "cell_type": "code",
   "execution_count": 110,
   "id": "e43222b4",
   "metadata": {},
   "outputs": [
    {
     "data": {
      "text/plain": [
       "1.0173564753004005"
      ]
     },
     "execution_count": 110,
     "metadata": {},
     "output_type": "execute_result"
    }
   ],
   "source": [
    "# What is reds team towers lost mean?\n",
    "red_mean = blue_win.towers_lost_team200.mean()\n",
    "red_mean"
   ]
  },
  {
   "cell_type": "code",
   "execution_count": 111,
   "id": "4d9eb484",
   "metadata": {},
   "outputs": [
    {
     "data": {
      "image/png": "[encoded data removed]",
      "text/plain": [
       "<Figure size 432x288 with 1 Axes>"
      ]
     },
     "metadata": {},
     "output_type": "display_data"
    }
   ],
   "source": [
    "# Graphing the average towers lost when red won\n",
    "x = ['Blue Mean', 'Red Mean']\n",
    "y = [blue_mean, red_mean]\n",
    "ax = sns.barplot(x, y, color='blue')\n",
    "\n",
    "ax.set_title('When Blue Team Won', fontsize = 15)\n",
    "sns.set(font_scale = 1.3)\n",
    "ax.set(xlabel='Team', ylabel='Mean Towers Lost')\n",
    "plt.show()"
   ]
  },
  {
   "cell_type": "markdown",
   "id": "569df6fb",
   "metadata": {},
   "source": [
    "### Question 1 at a glance\n",
    "\n",
    "    - Red Team loses more towers on avg than blue team"
   ]
  },
  {
   "cell_type": "markdown",
   "id": "e938990d",
   "metadata": {},
   "source": [
    "### Hypothesis Test\n",
    "    Running a hypothesis test to make sure the results didn't happen by accident"
   ]
  },
  {
   "cell_type": "markdown",
   "id": "1026d82a",
   "metadata": {},
   "source": [
    "### Significance Level"
   ]
  },
  {
   "cell_type": "code",
   "execution_count": 96,
   "id": "c8d50be8",
   "metadata": {},
   "outputs": [],
   "source": [
    "# A significance level of 0.05 indicates a 5% risk of concluding that a difference exists when there is no actual difference.\n",
    "alpha = .05"
   ]
  },
  {
   "cell_type": "markdown",
   "id": "b177bced",
   "metadata": {},
   "source": [
    "### Checking Assumptions\n",
    "\n",
    "    - Independent\n",
    "    - Normally Distributed\n",
    "    - Equal Variances"
   ]
  },
  {
   "cell_type": "markdown",
   "id": "9cc9a76e",
   "metadata": {},
   "source": [
    "### Independent?\n",
    "    Yes, I seperated Avg Towers by red and blue team. "
   ]
  },
  {
   "cell_type": "markdown",
   "id": "6138e90c",
   "metadata": {},
   "source": [
    "### Normally Distributed?\n",
    "    No, Take a Look at the graphs below."
   ]
  },
  {
   "cell_type": "code",
   "execution_count": 113,
   "id": "9114dcb6",
   "metadata": {},
   "outputs": [
    {
     "data": {
      "image/png": "[encoded data removed]",
      "text/plain": [
       "<Figure size 432x288 with 1 Axes>"
      ]
     },
     "metadata": {},
     "output_type": "display_data"
    }
   ],
   "source": [
    "# Graphing Blue Towers Lost mean distribution\n",
    "sns.set(font_scale = 1)\n",
    "blue_win.towers_lost_team100.hist()\n",
    "plt.title('Blue Towers Lost Mean Distribution')\n",
    "plt.show()"
   ]
  },
  {
   "cell_type": "code",
   "execution_count": 114,
   "id": "94dde409",
   "metadata": {},
   "outputs": [
    {
     "data": {
      "image/png": "[encoded data removed]",
      "text/plain": [
       "<Figure size 432x288 with 1 Axes>"
      ]
     },
     "metadata": {},
     "output_type": "display_data"
    }
   ],
   "source": [
    "# Graphing Red Towers Lost mean distribution\n",
    "blue_win.towers_lost_team200.hist()\n",
    "plt.title('Red Towers Lost Mean Distribution')\n",
    "plt.show()"
   ]
  },
  {
   "cell_type": "markdown",
   "id": "3c0a5483",
   "metadata": {},
   "source": [
    "### Equal Variances?\n",
    "    - The leven test concluded the populations DID have equal variances."
   ]
  },
  {
   "cell_type": "code",
   "execution_count": 115,
   "id": "a0637cf6",
   "metadata": {},
   "outputs": [
    {
     "data": {
      "text/plain": [
       "(2.283234251394721, 0.13088443402191)"
      ]
     },
     "execution_count": 115,
     "metadata": {},
     "output_type": "execute_result"
    }
   ],
   "source": [
    "# From the scypi stats library, im going to use the levene test to check variance.\n",
    "# It will test the null hypothesis that all input samples are from populations with equal variances.\n",
    "stats, p = levene(blue_win.towers_lost_team100, blue_win.towers_lost_team200)\n",
    "stats, p"
   ]
  },
  {
   "cell_type": "markdown",
   "id": "4cbada9a",
   "metadata": {},
   "source": [
    "## A small p-value suggests that the populations do not have equal variances."
   ]
  },
  {
   "cell_type": "code",
   "execution_count": 117,
   "id": "ac1904a7",
   "metadata": {},
   "outputs": [
    {
     "name": "stdout",
     "output_type": "stream",
     "text": [
      "populations do have equal variances\n"
     ]
    }
   ],
   "source": [
    "if p < alpha:\n",
    "    print(\"populations do not have equal variances\")\n",
    "else:\n",
    "    print(\"populations do have equal variances\")"
   ]
  },
  {
   "cell_type": "markdown",
   "id": "9429ca24",
   "metadata": {},
   "source": [
    "### Mann-Whitney's Test\n",
    "    Assumptions were not met.  I will use a Non-Parametric Test."
   ]
  },
  {
   "cell_type": "markdown",
   "id": "e81ca0c2",
   "metadata": {},
   "source": [
    "### Hypothesis"
   ]
  },
  {
   "cell_type": "markdown",
   "id": "b7958a72",
   "metadata": {},
   "source": [
    "### $H_0$: There is no difference in BlueTeamTowersLost from RedTeamTowersLost.\n",
    "### $H_a$: There is difference in BlueTeamTowersLost from RedTeamTowersLost"
   ]
  },
  {
   "cell_type": "code",
   "execution_count": 119,
   "id": "c172ef26",
   "metadata": {},
   "outputs": [
    {
     "name": "stdout",
     "output_type": "stream",
     "text": [
      "Reject Null Hypothesis\n"
     ]
    }
   ],
   "source": [
    "# From stats library using the mannwhitneyu, returning a stats and p value\n",
    "stat, p = mannwhitneyu(blue_win.towers_lost_team100, blue_win.towers_lost_team200)\n",
    "stat, p\n",
    "\n",
    "if p < alpha:\n",
    "    print(\"Reject Null Hypothesis\")\n",
    "else:\n",
    "    print(\"Fail to Reject the Null Hypothesis\")"
   ]
  },
  {
   "cell_type": "markdown",
   "id": "cd061ad6",
   "metadata": {},
   "source": [
    "### Hypotheis Results\n",
    "    - There IS a difference in BlueTeamTowersLost from RedTeamTowersLost"
   ]
  },
  {
   "cell_type": "markdown",
   "id": "d4b3108f",
   "metadata": {},
   "source": [
    "### Question 1 Takeway\n",
    "    - I have a 95% confidence level that there is a difference in BlueTeamTowersLost from RedTeamTowersLost  \n",
    "    - When Blue Team wins, RedTeamsTowerLost is more than Blue\n",
    "    - towers_lost_team100 seems to be a good fit or useful for modeling.  I will include it in my models and see if this is true. "
   ]
  },
  {
   "cell_type": "code",
   "execution_count": 121,
   "id": "137f3e99",
   "metadata": {},
   "outputs": [
    {
     "name": "stdout",
     "output_type": "stream",
     "text": [
      "<class 'pandas.core.frame.DataFrame'>\n",
      "Int64Index: 1498 entries, 235 to 3582\n",
      "Data columns (total 231 columns):\n",
      " #    Column                                 Dtype  \n",
      "---   ------                                 -----  \n",
      " 0    index                                  int64  \n",
      " 1    airdragon_team100                      float64\n",
      " 2    assistsplayer_1                        float64\n",
      " 3    assistsplayer_10                       float64\n",
      " 4    assistsplayer_2                        float64\n",
      " 5    assistsplayer_3                        float64\n",
      " 6    assistsplayer_4                        float64\n",
      " 7    assistsplayer_5                        float64\n",
      " 8    assistsplayer_6                        float64\n",
      " 9    assistsplayer_7                        float64\n",
      " 10   assistsplayer_8                        float64\n",
      " 11   assistsplayer_9                        float64\n",
      " 12   baron_team100                          float64\n",
      " 13   chemtechdragon_team100                 float64\n",
      " 14   chemtechdragon_team200                 float64\n",
      " 15   currentGold_1                          float64\n",
      " 16   currentGold_10                         float64\n",
      " 17   currentGold_2                          float64\n",
      " 18   currentGold_3                          float64\n",
      " 19   currentGold_4                          float64\n",
      " 20   currentGold_5                          float64\n",
      " 21   currentGold_6                          float64\n",
      " 22   currentGold_7                          float64\n",
      " 23   currentGold_8                          float64\n",
      " 24   currentGold_9                          float64\n",
      " 25   deathsplayer_1                         float64\n",
      " 26   deathsplayer_10                        float64\n",
      " 27   deathsplayer_2                         float64\n",
      " 28   deathsplayer_3                         float64\n",
      " 29   deathsplayer_4                         float64\n",
      " 30   deathsplayer_5                         float64\n",
      " 31   deathsplayer_6                         float64\n",
      " 32   deathsplayer_7                         float64\n",
      " 33   deathsplayer_8                         float64\n",
      " 34   deathsplayer_9                         float64\n",
      " 35   dragon_team100                         float64\n",
      " 36   dragon_team200                         float64\n",
      " 37   earthdragon_team100                    float64\n",
      " 38   earthdragon_team200                    float64\n",
      " 39   firedragon_team100                     float64\n",
      " 40   firedragon_team200                     float64\n",
      " 41   gameDuration                           int64  \n",
      " 42   gameEndTimestamp                       int64  \n",
      " 43   gameId                                 int64  \n",
      " 44   gameMode                               object \n",
      " 45   gameName                               object \n",
      " 46   gameStartTimestamp                     int64  \n",
      " 47   gameType                               object \n",
      " 48   gameVersion                            object \n",
      " 49   goldPerSecond_1                        float64\n",
      " 50   goldPerSecond_10                       float64\n",
      " 51   goldPerSecond_2                        float64\n",
      " 52   goldPerSecond_3                        float64\n",
      " 53   goldPerSecond_4                        float64\n",
      " 54   goldPerSecond_5                        float64\n",
      " 55   goldPerSecond_6                        float64\n",
      " 56   goldPerSecond_7                        float64\n",
      " 57   goldPerSecond_8                        float64\n",
      " 58   goldPerSecond_9                        float64\n",
      " 59   hextechdragon_team100                  float64\n",
      " 60   hextechdragon_team200                  float64\n",
      " 61   inhibs_lost_team200                    float64\n",
      " 62   jungleMinionsKilled_1                  float64\n",
      " 63   jungleMinionsKilled_10                 float64\n",
      " 64   jungleMinionsKilled_2                  float64\n",
      " 65   jungleMinionsKilled_3                  float64\n",
      " 66   jungleMinionsKilled_4                  float64\n",
      " 67   jungleMinionsKilled_5                  float64\n",
      " 68   jungleMinionsKilled_6                  float64\n",
      " 69   jungleMinionsKilled_7                  float64\n",
      " 70   jungleMinionsKilled_8                  float64\n",
      " 71   jungleMinionsKilled_9                  float64\n",
      " 72   killsplayer_1                          float64\n",
      " 73   killsplayer_10                         float64\n",
      " 74   killsplayer_2                          float64\n",
      " 75   killsplayer_3                          float64\n",
      " 76   killsplayer_4                          float64\n",
      " 77   killsplayer_5                          float64\n",
      " 78   killsplayer_6                          float64\n",
      " 79   killsplayer_7                          float64\n",
      " 80   killsplayer_8                          float64\n",
      " 81   killsplayer_9                          float64\n",
      " 82   level_1                                float64\n",
      " 83   level_10                               float64\n",
      " 84   level_2                                float64\n",
      " 85   level_3                                float64\n",
      " 86   level_4                                float64\n",
      " 87   level_5                                float64\n",
      " 88   level_6                                float64\n",
      " 89   level_7                                float64\n",
      " 90   level_8                                float64\n",
      " 91   level_9                                float64\n",
      " 92   magicDamageDoneToChampions_1           float64\n",
      " 93   magicDamageDoneToChampions_10          float64\n",
      " 94   magicDamageDoneToChampions_2           float64\n",
      " 95   magicDamageDoneToChampions_3           float64\n",
      " 96   magicDamageDoneToChampions_4           float64\n",
      " 97   magicDamageDoneToChampions_5           float64\n",
      " 98   magicDamageDoneToChampions_6           float64\n",
      " 99   magicDamageDoneToChampions_7           float64\n",
      " 100  magicDamageDoneToChampions_8           float64\n",
      " 101  magicDamageDoneToChampions_9           float64\n",
      " 102  matchId                                object \n",
      " 103  minionsKilled_1                        float64\n",
      " 104  minionsKilled_10                       float64\n",
      " 105  minionsKilled_2                        float64\n",
      " 106  minionsKilled_3                        float64\n",
      " 107  minionsKilled_4                        float64\n",
      " 108  minionsKilled_5                        float64\n",
      " 109  minionsKilled_6                        float64\n",
      " 110  minionsKilled_7                        float64\n",
      " 111  minionsKilled_8                        float64\n",
      " 112  minionsKilled_9                        float64\n",
      " 113  physicalDamageDoneToChampions_1        float64\n",
      " 114  physicalDamageDoneToChampions_10       float64\n",
      " 115  physicalDamageDoneToChampions_2        float64\n",
      " 116  physicalDamageDoneToChampions_3        float64\n",
      " 117  physicalDamageDoneToChampions_4        float64\n",
      " 118  physicalDamageDoneToChampions_5        float64\n",
      " 119  physicalDamageDoneToChampions_6        float64\n",
      " 120  physicalDamageDoneToChampions_7        float64\n",
      " 121  physicalDamageDoneToChampions_8        float64\n",
      " 122  physicalDamageDoneToChampions_9        float64\n",
      " 123  queueId                                int64  \n",
      " 124  riftherald_team100                     float64\n",
      " 125  riftherald_team300                     float64\n",
      " 126  timeEnemySpentControlled_1             float64\n",
      " 127  timeEnemySpentControlled_10            float64\n",
      " 128  timeEnemySpentControlled_2             float64\n",
      " 129  timeEnemySpentControlled_3             float64\n",
      " 130  timeEnemySpentControlled_4             float64\n",
      " 131  timeEnemySpentControlled_5             float64\n",
      " 132  timeEnemySpentControlled_6             float64\n",
      " 133  timeEnemySpentControlled_7             float64\n",
      " 134  timeEnemySpentControlled_8             float64\n",
      " 135  timeEnemySpentControlled_9             float64\n",
      " 136  time_cutoff                            float64\n",
      " 137  timestamp                              float64\n",
      " 138  totalDamageDoneToChampions_1           float64\n",
      " 139  totalDamageDoneToChampions_10          float64\n",
      " 140  totalDamageDoneToChampions_2           float64\n",
      " 141  totalDamageDoneToChampions_3           float64\n",
      " 142  totalDamageDoneToChampions_4           float64\n",
      " 143  totalDamageDoneToChampions_5           float64\n",
      " 144  totalDamageDoneToChampions_6           float64\n",
      " 145  totalDamageDoneToChampions_7           float64\n",
      " 146  totalDamageDoneToChampions_8           float64\n",
      " 147  totalDamageDoneToChampions_9           float64\n",
      " 148  totalGold_1                            float64\n",
      " 149  totalGold_10                           float64\n",
      " 150  totalGold_2                            float64\n",
      " 151  totalGold_3                            float64\n",
      " 152  totalGold_4                            float64\n",
      " 153  totalGold_5                            float64\n",
      " 154  totalGold_6                            float64\n",
      " 155  totalGold_7                            float64\n",
      " 156  totalGold_8                            float64\n",
      " 157  totalGold_9                            float64\n",
      " 158  towers_lost_team100                    float64\n",
      " 159  towers_lost_team200                    float64\n",
      " 160  trueDamageDoneToChampions_1            float64\n",
      " 161  trueDamageDoneToChampions_10           float64\n",
      " 162  trueDamageDoneToChampions_2            float64\n",
      " 163  trueDamageDoneToChampions_3            float64\n",
      " 164  trueDamageDoneToChampions_4            float64\n",
      " 165  trueDamageDoneToChampions_5            float64\n",
      " 166  trueDamageDoneToChampions_6            float64\n",
      " 167  trueDamageDoneToChampions_7            float64\n",
      " 168  trueDamageDoneToChampions_8            float64\n",
      " 169  trueDamageDoneToChampions_9            float64\n",
      " 170  ward_player_0                          float64\n",
      " 171  ward_player_1                          float64\n",
      " 172  ward_player_10                         float64\n",
      " 173  ward_player_2                          float64\n",
      " 174  ward_player_3                          float64\n",
      " 175  ward_player_4                          float64\n",
      " 176  ward_player_5                          float64\n",
      " 177  ward_player_6                          float64\n",
      " 178  ward_player_7                          float64\n",
      " 179  ward_player_8                          float64\n",
      " 180  ward_player_9                          float64\n",
      " 181  waterdragon_team100                    float64\n",
      " 182  winningTeam                            float64\n",
      " 183  xp_1                                   float64\n",
      " 184  xp_10                                  float64\n",
      " 185  xp_2                                   float64\n",
      " 186  xp_3                                   float64\n",
      " 187  xp_4                                   float64\n",
      " 188  xp_5                                   float64\n",
      " 189  xp_6                                   float64\n",
      " 190  xp_7                                   float64\n",
      " 191  xp_8                                   float64\n",
      " 192  xp_9                                   float64\n",
      " 193  airdragon_team200                      float64\n",
      " 194  riftherald_team200                     float64\n",
      " 195  waterdragon_team200                    float64\n",
      " 196  inhibs_lost_team100                    float64\n",
      " 197  BlueTeamDeaths                         int64  \n",
      " 198  RedTeamDeaths                          int64  \n",
      " 199  BlueTeamGoldPerSec                     int64  \n",
      " 200  RedTeamGoldPerSec                      int64  \n",
      " 201  BlueTeamJungleMinionsKilled            int64  \n",
      " 202  RedTeamJungleMinionsKilled             int64  \n",
      " 203  BlueTeamKills                          int64  \n",
      " 204  RedTeamKills                           int64  \n",
      " 205  BlueTeamLevel                          int64  \n",
      " 206  RedTeamLevel                           int64  \n",
      " 207  BlueTeamMagicDamageDoneToChampions     int64  \n",
      " 208  RedTeamMagicDamageDoneToChampions      int64  \n",
      " 209  BlueTeamMinionsKilled                  int64  \n",
      " 210  RedTeamMinionsKilled                   int64  \n",
      " 211  BlueTeamPhysicalDamageDoneToChampions  int64  \n",
      " 212  RedTeamPhysicalDamageDoneToChampions   int64  \n",
      " 213  BlueTeamTimeEnemySpentControlled       int64  \n",
      " 214  RedTeamTimeEnemySpentControlled        int64  \n",
      " 215  BlueTeamTotalDamageDoneToChampions     int64  \n",
      " 216  RedTeamTotalDamageDoneToChampions      int64  \n",
      " 217  BlueTeamTotalGold                      int64  \n",
      " 218  RedTeamTotalGold                       int64  \n",
      " 219  BlueTeamTrueDamageDoneToChampions      int64  \n",
      " 220  RedTeamTrueDamageDoneToChampions       int64  \n",
      " 221  BlueTeamWards                          int64  \n",
      " 222  RedTeamWards                           int64  \n",
      " 223  BlueTeamAssists                        int64  \n",
      " 224  RedTeamAssists                         int64  \n",
      " 225  BlueTeamXp                             int64  \n",
      " 226  RedTeamXp                              int64  \n",
      " 227  BlueTeamTotalGoldDifference            int64  \n",
      " 228  RedTeamTotalGoldDifference             int64  \n",
      " 229  BlueTeamMVPKills                       float64\n",
      " 230  RedTeamMVPKills                        float64\n",
      "dtypes: float64(188), int64(38), object(5)\n",
      "memory usage: 2.7+ MB\n"
     ]
    }
   ],
   "source": [
    "blue_win.info(verbose=True)"
   ]
  },
  {
   "cell_type": "markdown",
   "id": "dff0a91a",
   "metadata": {},
   "source": [
    "# Gold Per Sec"
   ]
  },
  {
   "cell_type": "code",
   "execution_count": 132,
   "id": "08e3efaf",
   "metadata": {},
   "outputs": [],
   "source": [
    "blue_mean = blue_win.BlueTeamGoldPerSec.mean()\n",
    "red_mean = blue_win.RedTeamGoldPerSec.mean()"
   ]
  },
  {
   "cell_type": "code",
   "execution_count": 140,
   "id": "79498feb",
   "metadata": {},
   "outputs": [
    {
     "data": {
      "image/png": "[encoded data removed]",
      "text/plain": [
       "<Figure size 432x288 with 1 Axes>"
      ]
     },
     "metadata": {},
     "output_type": "display_data"
    }
   ],
   "source": [
    "# Graphing the average towers lost when red won\n",
    "x = ['Blue Mean', 'Red Mean']\n",
    "y = [blue_mean, red_mean]\n",
    "ax = sns.barplot(x, y, color='blue')\n",
    "\n",
    "ax.set_title('Gold Per Sec by Team', fontsize = 15)\n",
    "sns.set(font_scale = 1.3)\n",
    "ax.set(xlabel='Team', ylabel='Gold Per Sec')\n",
    "plt.show()"
   ]
  },
  {
   "cell_type": "markdown",
   "id": "46d25c57",
   "metadata": {},
   "source": [
    "# Total Gold"
   ]
  },
  {
   "cell_type": "code",
   "execution_count": 141,
   "id": "9979192d",
   "metadata": {},
   "outputs": [],
   "source": [
    "blue_mean = blue_win.BlueTeamTotalGold.mean()\n",
    "red_mean = blue_win.RedTeamTotalGold.mean()"
   ]
  },
  {
   "cell_type": "code",
   "execution_count": 142,
   "id": "7f0cb263",
   "metadata": {},
   "outputs": [
    {
     "data": {
      "image/png": "[encoded data removed]",
      "text/plain": [
       "<Figure size 432x288 with 1 Axes>"
      ]
     },
     "metadata": {},
     "output_type": "display_data"
    }
   ],
   "source": [
    "# Graphing the average towers lost when red won\n",
    "x = ['Blue Mean', 'Red Mean']\n",
    "y = [blue_mean, red_mean]\n",
    "ax = sns.barplot(x, y, color='blue')\n",
    "\n",
    "ax.set_title('Total Gold by Team', fontsize = 15)\n",
    "sns.set(font_scale = 1.3)\n",
    "ax.set(xlabel='Team', ylabel='Total Gold')\n",
    "plt.show()"
   ]
  },
  {
   "cell_type": "markdown",
   "id": "9bead04b",
   "metadata": {},
   "source": [
    "# Gold Difference"
   ]
  },
  {
   "cell_type": "code",
   "execution_count": 144,
   "id": "dd26aed5",
   "metadata": {},
   "outputs": [
    {
     "data": {
      "text/plain": [
       "1406.5"
      ]
     },
     "execution_count": 144,
     "metadata": {},
     "output_type": "execute_result"
    }
   ],
   "source": [
    "blue_win.BlueTeamTotalGoldDifference.median()"
   ]
  },
  {
   "cell_type": "code",
   "execution_count": 145,
   "id": "b02ee089",
   "metadata": {},
   "outputs": [
    {
     "data": {
      "text/plain": [
       "1356.1688918558077"
      ]
     },
     "execution_count": 145,
     "metadata": {},
     "output_type": "execute_result"
    }
   ],
   "source": [
    "blue_win.BlueTeamTotalGoldDifference.mean()"
   ]
  },
  {
   "cell_type": "markdown",
   "id": "7fdc659f",
   "metadata": {},
   "source": [
    "# Game Duration"
   ]
  },
  {
   "cell_type": "code",
   "execution_count": 156,
   "id": "54d94ac9",
   "metadata": {},
   "outputs": [
    {
     "data": {
      "text/plain": [
       "(1901.0, 950.5)"
      ]
     },
     "execution_count": 156,
     "metadata": {},
     "output_type": "execute_result"
    }
   ],
   "source": [
    "round(train.gameDuration.mean(), 1), round(train.gameDuration.mean()/2,1)"
   ]
  },
  {
   "cell_type": "code",
   "execution_count": 154,
   "id": "d3da75da",
   "metadata": {},
   "outputs": [
    {
     "data": {
      "text/plain": [
       "(1854.0, 927.0)"
      ]
     },
     "execution_count": 154,
     "metadata": {},
     "output_type": "execute_result"
    }
   ],
   "source": [
    "train.gameDuration.median(), train.gameDuration.median()/2"
   ]
  },
  {
   "cell_type": "code",
   "execution_count": null,
   "id": "c3b20e21",
   "metadata": {},
   "outputs": [],
   "source": []
  }
 ],
 "metadata": {
  "kernelspec": {
   "display_name": "Python 3",
   "language": "python",
   "name": "python3"
  },
  "language_info": {
   "codemirror_mode": {
    "name": "ipython",
    "version": 3
   },
   "file_extension": ".py",
   "mimetype": "text/x-python",
   "name": "python",
   "nbconvert_exporter": "python",
   "pygments_lexer": "ipython3",
   "version": "3.8.8"
  }
 },
 "nbformat": 4,
 "nbformat_minor": 5
}
