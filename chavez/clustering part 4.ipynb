{
 "cells": [
  {
   "cell_type": "code",
   "execution_count": 2,
   "id": "1dc36513",
   "metadata": {},
   "outputs": [],
   "source": [
    "import pandas as pd\n",
    "import requests\n",
    "from bs4 import BeautifulSoup\n",
    "#from sklearn.model_selection import df_test_split\n",
    "from sklearn.preprocessing import MinMaxScaler\n",
    "from sklearn.model_selection import cross_val_score\n",
    "from sklearn.tree import DecisionTreeClassifier\n",
    "from sklearn.cluster import KMeans\n",
    "import matplotlib.pyplot as plt\n",
    "from sklearn.ensemble import RandomForestClassifier\n",
    "\n",
    "import re\n",
    "from acquire import extract, build_extracted_df, get_new_patch_data, get_players\n",
    "from prepare import prepare, clean, main_rename, team_difference_stats, split\n",
    "from env import api_key"
   ]
  },
  {
   "cell_type": "code",
   "execution_count": 7,
   "id": "93a3167f",
   "metadata": {},
   "outputs": [],
   "source": [
    "df = pd.read_csv(\"final_10.csv\")"
   ]
  },
  {
   "cell_type": "code",
   "execution_count": 8,
   "id": "2bf9e2f5",
   "metadata": {},
   "outputs": [],
   "source": [
    "train, test = prepare(df)"
   ]
  },
  {
   "cell_type": "code",
   "execution_count": 9,
   "id": "1c78a462",
   "metadata": {},
   "outputs": [
    {
     "data": {
      "text/plain": [
       "0"
      ]
     },
     "execution_count": 9,
     "metadata": {},
     "output_type": "execute_result"
    }
   ],
   "source": [
    "train.winningTeam.isna().sum()"
   ]
  },
  {
   "cell_type": "code",
   "execution_count": 10,
   "id": "805fc1e0",
   "metadata": {},
   "outputs": [
    {
     "data": {
      "text/plain": [
       "1977"
      ]
     },
     "execution_count": 10,
     "metadata": {},
     "output_type": "execute_result"
    }
   ],
   "source": [
    "len(train) # 1977"
   ]
  },
  {
   "cell_type": "code",
   "execution_count": 16,
   "id": "598f3d4f",
   "metadata": {},
   "outputs": [],
   "source": [
    "to_drop=['gameEndTimestamp',\n",
    "'gameId',\n",
    "'gameMode',\n",
    "'gameName',\n",
    "'gameStartTimestamp',\n",
    "'gameType',\n",
    "'gameVersion',\n",
    "'matchId',\n",
    "'queueId',\n",
    "'timestamp',\n",
    "'time_cutoff',\n",
    "'ward_player_0',\n",
    "'riftherald_team300',\n",
    "'gameDuration',\n",
    "'Unnamed: 0']"
   ]
  },
  {
   "cell_type": "code",
   "execution_count": 17,
   "id": "792b4dcf",
   "metadata": {},
   "outputs": [],
   "source": [
    "def add_scaled_columns(train, test, scaler, columns_to_scale):\n",
    "    \n",
    "    # new column names\n",
    "    new_column_names = [c + '_scaled' for c in columns_to_scale]\n",
    "    \n",
    "    # Fit the scaler on the train\n",
    "    scaler.fit(train[columns_to_scale])\n",
    "    \n",
    "    # transform train validate and test\n",
    "    train = pd.concat([\n",
    "        train,\n",
    "        pd.DataFrame(scaler.transform(train[columns_to_scale]), columns=new_column_names, index=train.index),\n",
    "    ], axis=1)\n",
    "    \n",
    "    train = train.drop(columns=columns_to_scale)\n",
    "    \n",
    "#     validate = pd.concat([\n",
    "#         validate,\n",
    "#         pd.DataFrame(scaler.transform(validate[columns_to_scale]), columns=new_column_names, index=validate.index),\n",
    "#     ], axis=1)\n",
    "    \n",
    "    \n",
    "    test = pd.concat([\n",
    "        test,\n",
    "        pd.DataFrame(scaler.transform(test[columns_to_scale]), columns=new_column_names, index=test.index),\n",
    "    ], axis=1)\n",
    "    \n",
    "    test = test.drop(columns=columns_to_scale)\n",
    "    \n",
    "    return train, test"
   ]
  },
  {
   "cell_type": "code",
   "execution_count": 18,
   "id": "8b14d529",
   "metadata": {},
   "outputs": [],
   "source": [
    "def clusters(features, train, n):\n",
    "    '''\n",
    "    Where X are the features and train is Well...Train\n",
    "    '''\n",
    "    # Creating X passing in the desired features\n",
    "    X = train[features]\n",
    "\n",
    "    #define the thing\n",
    "    kmeans = KMeans(n_clusters=n, random_state=1349)\n",
    "\n",
    "    # fit the thing\n",
    "    kmeans.fit(X)\n",
    "\n",
    "    # Use (predict using) the thing \n",
    "    kmeans.predict(X)\n",
    "    \n",
    "    # make a new column names cluster in iris and X_scaled dataframe\n",
    "    df = pd.DataFrame()\n",
    "    df['cluster'] = kmeans.predict(X)\n",
    "\n",
    "    X['cluster'] = kmeans.predict(X)\n",
    "    print(X.cluster.value_counts())\n",
    "    with plt.style.context('seaborn-whitegrid'):\n",
    "        plt.figure(figsize=(9, 6))\n",
    "        pd.Series({k: KMeans(k).fit(X).inertia_ for k in range(2, 12)}).plot(marker='x')\n",
    "        plt.xticks(range(2, 12))\n",
    "        plt.xlabel('k')\n",
    "        plt.ylabel('inertia')\n",
    "        plt.title('Change in inertia as k increases')\n",
    "        \n",
    "   \n",
    "    return df"
   ]
  },
  {
   "cell_type": "code",
   "execution_count": 19,
   "id": "803acb03",
   "metadata": {},
   "outputs": [],
   "source": [
    "train = train.drop(columns=to_drop)\n",
    "test = test.drop(columns=to_drop)"
   ]
  },
  {
   "cell_type": "code",
   "execution_count": 20,
   "id": "5606e330",
   "metadata": {},
   "outputs": [],
   "source": [
    "columns_to_scale = list(train.drop(columns=['winningTeam']).columns)"
   ]
  },
  {
   "cell_type": "code",
   "execution_count": 21,
   "id": "b21c28cd",
   "metadata": {},
   "outputs": [],
   "source": [
    "train, test = add_scaled_columns(train, test, MinMaxScaler(), columns_to_scale)"
   ]
  },
  {
   "cell_type": "code",
   "execution_count": 33,
   "id": "f6b3ffb6",
   "metadata": {},
   "outputs": [],
   "source": [
    "train = pd.read_csv(\"final10_train_scaled.csv\")\n",
    "test = pd.read_csv(\"final10_test_scaled.csv\")"
   ]
  },
  {
   "cell_type": "code",
   "execution_count": 34,
   "id": "d17c4c1a",
   "metadata": {},
   "outputs": [
    {
     "data": {
      "text/plain": [
       "0"
      ]
     },
     "execution_count": 34,
     "metadata": {},
     "output_type": "execute_result"
    }
   ],
   "source": [
    "train.winningTeam.isna().sum()"
   ]
  },
  {
   "cell_type": "markdown",
   "id": "a5fcf6e5",
   "metadata": {},
   "source": [
    "# Starting here"
   ]
  },
  {
   "cell_type": "code",
   "execution_count": 32,
   "id": "8fe2d886",
   "metadata": {},
   "outputs": [
    {
     "data": {
      "text/plain": [
       "0"
      ]
     },
     "execution_count": 32,
     "metadata": {},
     "output_type": "execute_result"
    }
   ],
   "source": [
    "test.winningTeam.isna().sum()"
   ]
  },
  {
   "cell_type": "code",
   "execution_count": 35,
   "id": "23a6d012",
   "metadata": {},
   "outputs": [],
   "source": [
    "features = ['BlueTopAssists_scaled', 'BlueJungleAssists_scaled', 'BlueMidAssists_scaled', 'BlueADCAssists_scaled', 'BlueSupportAssists_scaled', 'BlueTeamTowersLost_scaled', 'BlueTopCurrentGold_scaled', 'BlueJungleCurrentGold_scaled', 'BlueMidCurrentGold_scaled', 'BlueADCCurrentGold_scaled', 'BlueSupportCurrentGold_scaled', 'BlueTopDeaths_scaled', 'BlueJungleDeaths_scaled', 'BlueMidDeaths_scaled', 'BlueADCDeaths_scaled', 'BlueSupportDeaths_scaled', 'BlueTeamDragons_scaled', 'BlueTeamEarthDragon_scaled', 'BlueTeamFireDragon_scaled', 'BlueTeamHextechDragon_scaled', 'BlueTeamWaterDragon_scaled', 'BlueTeamChemtechDragon_scaled', 'BlueTeamAirDragon_scaled', 'BlueTopgoldPerSecond_scaled', 'BlueJunglegoldPerSecond_scaled', 'BlueMidgoldPerSecond_scaled', 'BlueADCgoldPerSecond_scaled', 'BlueSupportgoldPerSecond_scaled', 'BlueTopJungleMinionsKilled_scaled', 'BlueJungleJungleMinionsKilled_scaled', 'BlueMidJungleMinionsKilled_scaled', 'BlueADCJungleMinionsKilled_scaled', 'BlueSupportJungleMinionsKilled_scaled', 'BlueTopKills_scaled', 'BlueJungleKills_scaled', 'BlueMidKills_scaled', 'BlueADCKills_scaled', 'BlueSupportKills_scaled', 'BlueTopLevel_scaled', 'BlueJungleLevel_scaled', 'BlueMidLevel_scaled', 'BlueADCLevel_scaled', 'BlueSupportLevel_scaled', 'BlueTopMagicDamageDoneToChampions_scaled', 'BlueJungleMagicDamageDoneToChampions_scaled', 'BlueMidMagicDamageDoneToChampions_scaled', 'BlueADCMagicDamageDoneToChampions_scaled', 'BlueSupportMagicDamageDoneToChampions_scaled', 'BlueTopMinionsKilled_scaled', 'BlueJungleMinionsKilled_scaled', 'BlueMidMinionsKilled_scaled', 'BlueADCMinionsKilled_scaled', 'BlueSupportMinionsKilled_scaled', 'BlueTopPhysicalDamageDoneToChampions_scaled', 'BlueJunglePhysicalDamageDoneToChampions_scaled', 'BlueMidPhysicalDamageDoneToChampions_scaled', 'BlueADCPhysicalDamageDoneToChampions_scaled', 'BlueSupportPhysicalDamageDoneToChampions_scaled', 'BlueTopTimeEnemySpentControlled_scaled', 'BlueJungleTimeEnemySpentControlled_scaled', 'BlueMidTimeEnemySpentControlled_scaled', 'BlueADCTimeEnemySpentControlled_scaled', 'BlueSupportTimeEnemySpentControlled_scaled', 'BlueTopTotalDamageDoneToChampions_scaled', 'BlueJungleTotalDamageDoneToChampions_scaled', 'BlueMidTotalDamageDoneToChampions_scaled', 'BlueADCTotalDamageDoneToChampions_scaled', 'BlueSupportTotalDamageDoneToChampions_scaled', 'BlueTopTotalGold_scaled', 'BlueJungleTotalGold_scaled', 'BlueMidTotalGold_scaled', 'BlueADCTotalGold_scaled', 'BlueSupportTotalGold_scaled', 'BlueTopTrueDamageDoneToChampions_scaled', 'BlueJungleTrueDamageDoneToChampions_scaled', 'BlueMidTrueDamageDoneToChampions_scaled', 'BlueADCTrueDamageDoneToChampions_scaled', 'BlueSupportTrueDamageDoneToChampions_scaled', 'BlueTopWard_scaled', 'BlueJungleWard_scaled', 'BlueMidWard_scaled', 'BlueADCWard_scaled', 'BlueSupportWard_scaled', 'BlueTopXp_scaled', 'BlueJungleXp_scaled', 'BlueMidXp_scaled', 'BlueADCXp_scaled', 'BlueSupportXp_scaled']"
   ]
  },
  {
   "cell_type": "code",
   "execution_count": 36,
   "id": "2e9c502a",
   "metadata": {},
   "outputs": [
    {
     "name": "stderr",
     "output_type": "stream",
     "text": [
      "<ipython-input-18-28a934079a2a>:21: SettingWithCopyWarning: \n",
      "A value is trying to be set on a copy of a slice from a DataFrame.\n",
      "Try using .loc[row_indexer,col_indexer] = value instead\n",
      "\n",
      "See the caveats in the documentation: https://pandas.pydata.org/pandas-docs/stable/user_guide/indexing.html#returning-a-view-versus-a-copy\n",
      "  X['cluster'] = kmeans.predict(X)\n"
     ]
    },
    {
     "name": "stdout",
     "output_type": "stream",
     "text": [
      "1    1053\n",
      "0     531\n",
      "2     393\n",
      "Name: cluster, dtype: int64\n"
     ]
    },
    {
     "data": {
      "image/png": "[encoded data removed]",
      "text/plain": [
       "<Figure size 648x432 with 1 Axes>"
      ]
     },
     "metadata": {},
     "output_type": "display_data"
    }
   ],
   "source": [
    "df = clusters(features, train, 3)"
   ]
  },
  {
   "cell_type": "code",
   "execution_count": 37,
   "id": "6beeb2c5",
   "metadata": {},
   "outputs": [],
   "source": [
    "train = pd.concat([train, df], axis = 1)\n",
    "boolean_dummy = pd.get_dummies(train['cluster'], drop_first=False)\n",
    "train = pd.concat([train, boolean_dummy], axis = 1)"
   ]
  },
  {
   "cell_type": "code",
   "execution_count": 38,
   "id": "72dee181",
   "metadata": {},
   "outputs": [],
   "source": [
    "train = train.rename(columns = {\n",
    "            0:'every_cluster_0', \n",
    "            1:'every_cluster_1',\n",
    "            2:'every_cluster_2',\n",
    "            'cluster':'everything_cluster'})"
   ]
  },
  {
   "cell_type": "code",
   "execution_count": null,
   "id": "36083096",
   "metadata": {},
   "outputs": [],
   "source": []
  },
  {
   "cell_type": "code",
   "execution_count": 40,
   "id": "68406628",
   "metadata": {},
   "outputs": [],
   "source": [
    "X_train = train[[\n",
    "'BlueTeamLevelDifference_scaled',\n",
    "'BlueTeamXpDifference_scaled',\n",
    "'BlueTeamWardDifference_scaled',\n",
    "'BlueTeamminionKillDifference_scaled',\n",
    "'BlueTeamDeathsDifference_scaled',\n",
    "'BlueTeamMagicDmgDifference_scaled',\n",
    "'BlueTeamPhysicalDmgDifference_scaled',\n",
    "'BlueTeamTrueDmgDifference_scaled',\n",
    "'BlueTeamTotalDmgDifference_scaled',\n",
    "'BlueTeamTotalMinionsMonstersDifference_scaled',\n",
    "'BlueTeamTimeCCingDifference_scaled',\n",
    "'BlueteamWardDifference_scaled',\n",
    "'BlueteamAssistDifference_scaled',\n",
    "'BlueBotLaneKillDifference_scaled',\n",
    "'BlueJungTopkillDifference_scaled',\n",
    "'BlueTeamWaterDragonDifference_scaled',\n",
    "'BlueTeamAirDragonDifference_scaled',\n",
    "'BlueTeamChemtechDragonDifference_scaled',\n",
    "'BlueTeamFireDragonDifference_scaled',\n",
    "'BlueTeamHextechDragonDifference_scaled',\n",
    "'BlueTeamEarthDragonDifference_scaled']]"
   ]
  },
  {
   "cell_type": "code",
   "execution_count": 41,
   "id": "1af24bcf",
   "metadata": {},
   "outputs": [],
   "source": [
    "y_train = train['winningTeam']"
   ]
  },
  {
   "cell_type": "code",
   "execution_count": 42,
   "id": "4e7590fd",
   "metadata": {},
   "outputs": [
    {
     "name": "stdout",
     "output_type": "stream",
     "text": [
      "0.6307536671724835 1 1\n",
      "0.6322711178553363 2 1\n",
      "0.6413758219524532 4 1\n",
      "0.6433990895295902 6 1\n",
      "0.6439049064238745 6 3\n"
     ]
    }
   ],
   "source": [
    "high = 0\n",
    "highdepth = 0\n",
    "highleaf = 0\n",
    "for leaf in range(1, 25):\n",
    "    for depth in range(1,25):\n",
    "        rf = RandomForestClassifier(bootstrap=True, \n",
    "                            class_weight=None, \n",
    "                            criterion='gini',\n",
    "                            min_samples_leaf=leaf,\n",
    "                            n_estimators=100,\n",
    "                            max_depth=depth, \n",
    "                            random_state=123)\n",
    "        results = cross_val_score(rf, X_train, y_train, cv=3)\n",
    "        if results.mean() > high:\n",
    "            high = results.mean()\n",
    "            highdepth = depth\n",
    "            highleaf = leaf\n",
    "            print(high, highdepth, highleaf)"
   ]
  },
  {
   "cell_type": "code",
   "execution_count": 43,
   "id": "5dc5a844",
   "metadata": {},
   "outputs": [
    {
     "name": "stdout",
     "output_type": "stream",
     "text": [
      "0.6282245827010622 1 1\n",
      "0.6322711178553363 2 1\n",
      "0.6327769347496206 3 1\n",
      "0.6403641881638847 4 1\n",
      "0.646433990895296 6 1\n",
      "0.6489630753667173 12 7\n"
     ]
    }
   ],
   "source": [
    "X_train = train[[\n",
    "'every_cluster_0',\n",
    "'every_cluster_1',\n",
    "'every_cluster_2',\n",
    "'BlueTeamLevelDifference_scaled',\n",
    "'BlueTeamXpDifference_scaled',\n",
    "'BlueTeamWardDifference_scaled',\n",
    "'BlueTeamminionKillDifference_scaled',\n",
    "'BlueTeamDeathsDifference_scaled',\n",
    "'BlueTeamMagicDmgDifference_scaled',\n",
    "'BlueTeamPhysicalDmgDifference_scaled',\n",
    "'BlueTeamTrueDmgDifference_scaled',\n",
    "'BlueTeamTotalDmgDifference_scaled',\n",
    "'BlueTeamTotalMinionsMonstersDifference_scaled',\n",
    "'BlueTeamTimeCCingDifference_scaled',\n",
    "'BlueteamWardDifference_scaled',\n",
    "'BlueteamAssistDifference_scaled',\n",
    "'BlueBotLaneKillDifference_scaled',\n",
    "'BlueJungTopkillDifference_scaled',\n",
    "'BlueTeamWaterDragonDifference_scaled',\n",
    "'BlueTeamAirDragonDifference_scaled',\n",
    "'BlueTeamChemtechDragonDifference_scaled',\n",
    "'BlueTeamFireDragonDifference_scaled',\n",
    "'BlueTeamHextechDragonDifference_scaled',\n",
    "'BlueTeamEarthDragonDifference_scaled']]\n",
    "\n",
    "y_train = train['winningTeam']\n",
    "\n",
    "high = 0\n",
    "highdepth = 0\n",
    "highleaf = 0\n",
    "for leaf in range(1, 25):\n",
    "    for depth in range(1,25):\n",
    "        rf = RandomForestClassifier(bootstrap=True, \n",
    "                            class_weight=None, \n",
    "                            criterion='gini',\n",
    "                            min_samples_leaf=leaf,\n",
    "                            n_estimators=100,\n",
    "                            max_depth=depth, \n",
    "                            random_state=123)\n",
    "        results = cross_val_score(rf, X_train, y_train, cv=3)\n",
    "        if results.mean() > high:\n",
    "            high = results.mean()\n",
    "            highdepth = depth\n",
    "            highleaf = leaf\n",
    "            print(high, highdepth, highleaf)"
   ]
  },
  {
   "cell_type": "code",
   "execution_count": 44,
   "id": "8db3201f",
   "metadata": {},
   "outputs": [
    {
     "name": "stdout",
     "output_type": "stream",
     "text": [
      "0.5685381891755185 1 1\n"
     ]
    }
   ],
   "source": [
    "X_train = train[[\n",
    "'every_cluster_0',\n",
    "'every_cluster_1',\n",
    "'every_cluster_2']]\n",
    "\n",
    "y_train = train['winningTeam']\n",
    "\n",
    "high = 0\n",
    "highdepth = 0\n",
    "highleaf = 0\n",
    "for leaf in range(1, 25):\n",
    "    for depth in range(1,25):\n",
    "        rf = RandomForestClassifier(bootstrap=True, \n",
    "                            class_weight=None, \n",
    "                            criterion='gini',\n",
    "                            min_samples_leaf=leaf,\n",
    "                            n_estimators=100,\n",
    "                            max_depth=depth, \n",
    "                            random_state=123)\n",
    "        results = cross_val_score(rf, X_train, y_train, cv=3)\n",
    "        if results.mean() > high:\n",
    "            high = results.mean()\n",
    "            highdepth = depth\n",
    "            highleaf = leaf\n",
    "            print(high, highdepth, highleaf)"
   ]
  },
  {
   "cell_type": "code",
   "execution_count": 45,
   "id": "632af2c2",
   "metadata": {},
   "outputs": [
    {
     "name": "stdout",
     "output_type": "stream",
     "text": [
      "0.603439554881133 1 1\n",
      "0.6079919069296914 3 1\n",
      "0.6084977238239757 4 1\n",
      "0.6100151745068285 6 7\n",
      "0.6125442589782498 7 13\n"
     ]
    }
   ],
   "source": [
    "X_train = train[[\n",
    "'every_cluster_0',\n",
    "'every_cluster_1',\n",
    "'every_cluster_2',\n",
    "'BlueSupportStats_scaled',\n",
    "'RedSupportStats_scaled',\n",
    "'BlueSupportDifference_scaled',\n",
    "'BlueTopKda_scaled',\n",
    "'BlueJungleKda_scaled',\n",
    "'BlueMidKda_scaled',\n",
    "'BlueBotKda_scaled',\n",
    "'BlueSupportKda_scaled',\n",
    "'RedTopKda_scaled',\n",
    "'RedJungleKda_scaled',\n",
    "'RedMidKda_scaled',\n",
    "'RedBotKda_scaled',\n",
    "'RedSupportKda_scaled',\n",
    "'BlueTeamKdaDifference_scaled',\n",
    "'BlueJungleGankHeavy_scaled',\n",
    "'BlueTeamJungleDiffy_scaled',\n",
    "'RedJungleGankHeavy_scaled']]\n",
    "\n",
    "y_train = train['winningTeam']\n",
    "\n",
    "high = 0\n",
    "highdepth = 0\n",
    "highleaf = 0\n",
    "for leaf in range(1, 25):\n",
    "    for depth in range(1,25):\n",
    "        rf = RandomForestClassifier(bootstrap=True, \n",
    "                            class_weight=None, \n",
    "                            criterion='gini',\n",
    "                            min_samples_leaf=leaf,\n",
    "                            n_estimators=100,\n",
    "                            max_depth=depth, \n",
    "                            random_state=123)\n",
    "        results = cross_val_score(rf, X_train, y_train, cv=3)\n",
    "        if results.mean() > high:\n",
    "            high = results.mean()\n",
    "            highdepth = depth\n",
    "            highleaf = leaf\n",
    "            print(high, highdepth, highleaf)"
   ]
  },
  {
   "cell_type": "code",
   "execution_count": 46,
   "id": "9fb80c28",
   "metadata": {},
   "outputs": [
    {
     "name": "stdout",
     "output_type": "stream",
     "text": [
      "0.6059686393525544 1 1\n",
      "0.6069802731411229 4 22\n"
     ]
    }
   ],
   "source": [
    "X_train = train[['BlueSupportStats_scaled',\n",
    "'RedSupportStats_scaled',\n",
    "'BlueSupportDifference_scaled',\n",
    "'BlueTopKda_scaled',\n",
    "'BlueJungleKda_scaled',\n",
    "'BlueMidKda_scaled',\n",
    "'BlueBotKda_scaled',\n",
    "'BlueSupportKda_scaled',\n",
    "'RedTopKda_scaled',\n",
    "'RedJungleKda_scaled',\n",
    "'RedMidKda_scaled',\n",
    "'RedBotKda_scaled',\n",
    "'RedSupportKda_scaled',\n",
    "'BlueTeamKdaDifference_scaled',\n",
    "'BlueJungleGankHeavy_scaled',\n",
    "'BlueTeamJungleDiffy_scaled',\n",
    "'RedJungleGankHeavy_scaled']]\n",
    "\n",
    "y_train = train['winningTeam']\n",
    "\n",
    "high = 0\n",
    "highdepth = 0\n",
    "highleaf = 0\n",
    "for leaf in range(1, 25):\n",
    "    for depth in range(1,25):\n",
    "        rf = RandomForestClassifier(bootstrap=True, \n",
    "                            class_weight=None, \n",
    "                            criterion='gini',\n",
    "                            min_samples_leaf=leaf,\n",
    "                            n_estimators=100,\n",
    "                            max_depth=depth, \n",
    "                            random_state=123)\n",
    "        results = cross_val_score(rf, X_train, y_train, cv=3)\n",
    "        if results.mean() > high:\n",
    "            high = results.mean()\n",
    "            highdepth = depth\n",
    "            highleaf = leaf\n",
    "            print(high, highdepth, highleaf)"
   ]
  },
  {
   "cell_type": "markdown",
   "id": "24988551",
   "metadata": {},
   "source": [
    "best so far for \n",
    "\n",
    "    0.646433990895296 6 1\n",
    "    0.6489630753667173 12 7"
   ]
  },
  {
   "cell_type": "code",
   "execution_count": 50,
   "id": "a145171b",
   "metadata": {},
   "outputs": [],
   "source": [
    "features = ['RedTeamInhibsLost_scaled',\n",
    "'BlueTeamRiftHeralds_scaled',\n",
    "'RedTeamRiftHeralds_scaled',\n",
    "'BlueTeamTowersLost_scaled',\n",
    "'RedTeamTowersLost_scaled',\n",
    "'BlueTopAssists_scaled',\n",
    "'RedSupportAssists_scaled',\n",
    "'BlueJungleAssists_scaled',\n",
    "'BlueMidAssists_scaled',\n",
    "'BlueADCAssists_scaled',\n",
    "'BlueSupportAssists_scaled',\n",
    "'RedTopAssists_scaled',\n",
    "'RedJungleAssists_scaled',\n",
    "'RedMidAssists_scaled',\n",
    "'RedADCAssists_scaled',\n",
    "'BlueTopCurrentGold_scaled',\n",
    "'RedSupportCurrentGold_scaled',\n",
    "'BlueJungleCurrentGold_scaled',\n",
    "'BlueMidCurrentGold_scaled',\n",
    "'BlueADCCurrentGold_scaled',\n",
    "'BlueSupportCurrentGold_scaled',\n",
    "'RedTopCurrentGold_scaled',\n",
    "'RedJungleCurrentGold_scaled',\n",
    "'RedMidCurrentGold_scaled',\n",
    "'RedADCCurrentGold_scaled',\n",
    "'BlueTopDeaths_scaled',\n",
    "'RedSupportDeaths_scaled',\n",
    "'BlueJungleDeaths_scaled',\n",
    "'BlueMidDeaths_scaled',\n",
    "'BlueADCDeaths_scaled',\n",
    "'BlueSupportDeaths_scaled',\n",
    "'RedTopDeaths_scaled',\n",
    "'RedJungleDeaths_scaled',\n",
    "'RedMidDeaths_scaled',\n",
    "'RedADCDeaths_scaled',\n",
    "'BlueTeamDragons_scaled',\n",
    "'RedTeamDragons_scaled',\n",
    "'BlueTeamEarthDragon_scaled',\n",
    "'RedTeamEarthDragon_scaled',\n",
    "'BlueTeamFireDragon_scaled',\n",
    "'RedTeamFireDragon_scaled',\n",
    "'BlueTeamHextechDragon_scaled',\n",
    "'RedTeamHextechDragon_scaled',\n",
    "'BlueTeamWaterDragon_scaled',\n",
    "'RedTeamWaterDragon_scaled',\n",
    "'BlueTeamChemtechDragon_scaled',\n",
    "'RedTeamChemtechDragon_scaled',\n",
    "'BlueTeamAirDragon_scaled',\n",
    "'RedTeamAirDragon_scaled',\n",
    "'BlueTopgoldPerSecond_scaled',\n",
    "'RedSupportgoldPerSecond_scaled',\n",
    "'BlueJunglegoldPerSecond_scaled',\n",
    "'BlueMidgoldPerSecond_scaled',\n",
    "'BlueADCgoldPerSecond_scaled',\n",
    "'BlueSupportgoldPerSecond_scaled',\n",
    "'RedTopgoldPerSecond_scaled',\n",
    "'RedJunglegoldPerSecond_scaled',\n",
    "'RedMidgoldPerSecond_scaled',\n",
    "'RedADCgoldPerSecond_scaled',\n",
    "'BlueTopJungleMinionsKilled_scaled',\n",
    "'RedSupportJungleMinionsKilled_scaled',\n",
    "'BlueJungleJungleMinionsKilled_scaled',\n",
    "'BlueMidJungleMinionsKilled_scaled',\n",
    "'BlueADCJungleMinionsKilled_scaled',\n",
    "'BlueSupportJungleMinionsKilled_scaled',\n",
    "'RedTopJungleMinionsKilled_scaled',\n",
    "'RedJungleJungleMinionsKilled_scaled',\n",
    "'RedMidJungleMinionsKilled_scaled',\n",
    "'RedADCJungleMinionsKilled_scaled',\n",
    "'BlueTopKills_scaled',\n",
    "'RedSupportKills_scaled',\n",
    "'BlueJungleKills_scaled',\n",
    "'BlueMidKills_scaled',\n",
    "'BlueADCKills_scaled',\n",
    "'BlueSupportKills_scaled',\n",
    "'RedTopKills_scaled',\n",
    "'RedJungleKills_scaled',\n",
    "'RedMidKills_scaled',\n",
    "'RedADCKills_scaled',\n",
    "'BlueTopLevel_scaled',\n",
    "'RedSupportLevel_scaled',\n",
    "'BlueJungleLevel_scaled',\n",
    "'BlueMidLevel_scaled',\n",
    "'BlueADCLevel_scaled',\n",
    "'BlueSupportLevel_scaled',\n",
    "'RedTopLevel_scaled',\n",
    "'RedJungleLevel_scaled',\n",
    "'RedMidLevel_scaled',\n",
    "'RedADCLevel_scaled',\n",
    "'BlueTopMagicDamageDoneToChampions_scaled',\n",
    "'RedSupportMagicDamageDoneToChampions_scaled',\n",
    "'BlueJungleMagicDamageDoneToChampions_scaled',\n",
    "'BlueMidMagicDamageDoneToChampions_scaled',\n",
    "'BlueADCMagicDamageDoneToChampions_scaled',\n",
    "'BlueSupportMagicDamageDoneToChampions_scaled',\n",
    "'RedTopMagicDamageDoneToChampions_scaled',\n",
    "'RedJungleMagicDamageDoneToChampions_scaled',\n",
    "'RedMidMagicDamageDoneToChampions_scaled',\n",
    "'RedADCMagicDamageDoneToChampions_scaled',\n",
    "'BlueTopMinionsKilled_scaled',\n",
    "'RedSupportMinionsKilled_scaled',\n",
    "'BlueJungleMinionsKilled_scaled',\n",
    "'BlueMidMinionsKilled_scaled',\n",
    "'BlueADCMinionsKilled_scaled',\n",
    "'BlueSupportMinionsKilled_scaled',\n",
    "'RedTopMinionsKilled_scaled',\n",
    "'RedJungleMinionsKilled_scaled',\n",
    "'RedMidMinionsKilled_scaled',\n",
    "'RedADCMinionsKilled_scaled',\n",
    "'BlueTopPhysicalDamageDoneToChampions_scaled',\n",
    "'RedSupportPhysicalDamageDoneToChampions_scaled',\n",
    "'BlueJunglePhysicalDamageDoneToChampions_scaled',\n",
    "'BlueMidPhysicalDamageDoneToChampions_scaled',\n",
    "'BlueADCPhysicalDamageDoneToChampions_scaled',\n",
    "'BlueSupportPhysicalDamageDoneToChampions_scaled',\n",
    "'RedTopPhysicalDamageDoneToChampions_scaled',\n",
    "'RedJunglePhysicalDamageDoneToChampions_scaled',\n",
    "'RedMidPhysicalDamageDoneToChampions_scaled',\n",
    "'RedADCPhysicalDamageDoneToChampions_scaled',\n",
    "'BlueTopTimeEnemySpentControlled_scaled',\n",
    "'RedSupportTimeEnemySpentControlled_scaled',\n",
    "'BlueJungleTimeEnemySpentControlled_scaled',\n",
    "'BlueMidTimeEnemySpentControlled_scaled',\n",
    "'BlueADCTimeEnemySpentControlled_scaled',\n",
    "'BlueSupportTimeEnemySpentControlled_scaled',\n",
    "'RedTopTimeEnemySpentControlled_scaled',\n",
    "'RedJungleTimeEnemySpentControlled_scaled',\n",
    "'RedMidTimeEnemySpentControlled_scaled',\n",
    "'RedADCTimeEnemySpentControlled_scaled',\n",
    "'BlueTopTotalDamageDoneToChampions_scaled',\n",
    "'RedSupportTotalDamageDoneToChampions_scaled',\n",
    "'BlueJungleTotalDamageDoneToChampions_scaled',\n",
    "'BlueMidTotalDamageDoneToChampions_scaled',\n",
    "'BlueADCTotalDamageDoneToChampions_scaled',\n",
    "'BlueSupportTotalDamageDoneToChampions_scaled',\n",
    "'RedTopTotalDamageDoneToChampions_scaled',\n",
    "'RedJungleTotalDamageDoneToChampions_scaled',\n",
    "'RedMidTotalDamageDoneToChampions_scaled',\n",
    "'RedADCTotalDamageDoneToChampions_scaled',\n",
    "'BlueTopTotalGold_scaled',\n",
    "'RedSupportTotalGold_scaled',\n",
    "'BlueJungleTotalGold_scaled',\n",
    "'BlueMidTotalGold_scaled',\n",
    "'BlueADCTotalGold_scaled',\n",
    "'BlueSupportTotalGold_scaled',\n",
    "'RedTopTotalGold_scaled',\n",
    "'RedJungleTotalGold_scaled',\n",
    "'RedMidTotalGold_scaled',\n",
    "'RedADCTotalGold_scaled',\n",
    "'BlueTopTrueDamageDoneToChampions_scaled',\n",
    "'RedSupportTrueDamageDoneToChampions_scaled',\n",
    "'BlueJungleTrueDamageDoneToChampions_scaled',\n",
    "'BlueMidTrueDamageDoneToChampions_scaled',\n",
    "'BlueADCTrueDamageDoneToChampions_scaled',\n",
    "'BlueSupportTrueDamageDoneToChampions_scaled',\n",
    "'RedTopTrueDamageDoneToChampions_scaled',\n",
    "'RedJungleTrueDamageDoneToChampions_scaled',\n",
    "'RedMidTrueDamageDoneToChampions_scaled',\n",
    "'RedADCTrueDamageDoneToChampions_scaled',\n",
    "'BlueTopWard_scaled',\n",
    "'RedSupportWard_scaled',\n",
    "'BlueJungleWard_scaled',\n",
    "'BlueMidWard_scaled',\n",
    "'BlueADCWard_scaled',\n",
    "'BlueSupportWard_scaled',\n",
    "'RedTopWard_scaled',\n",
    "'RedJungleWard_scaled',\n",
    "'RedMidWard_scaled',\n",
    "'RedADCWard_scaled',\n",
    "'BlueTopXp_scaled',\n",
    "'RedSupportXp_scaled',\n",
    "'BlueJungleXp_scaled',\n",
    "'BlueMidXp_scaled',\n",
    "'BlueADCXp_scaled',\n",
    "'BlueSupportXp_scaled',\n",
    "'RedTopXp_scaled',\n",
    "'RedJungleXp_scaled',\n",
    "'RedMidXp_scaled',\n",
    "'RedADCXp_scaled',\n",
    "'BlueTeamDeaths_scaled',\n",
    "'RedTeamDeaths_scaled',\n",
    "'BlueTeamGoldPerSec_scaled',\n",
    "'RedTeamGoldPerSec_scaled',\n",
    "'BlueTeamJungleMinionsKilled_scaled',\n",
    "'RedTeamJungleMinionsKilled_scaled',\n",
    "'BlueTeamKills_scaled',\n",
    "'RedTeamKills_scaled',\n",
    "'BlueTeamLevel_scaled',\n",
    "'RedTeamLevel_scaled',\n",
    "'BlueTeamMagicDamageDoneToChampions_scaled',\n",
    "'RedTeamMagicDamageDoneToChampions_scaled',\n",
    "'BlueTeamMinionsKilled_scaled',\n",
    "'RedTeamMinionsKilled_scaled',\n",
    "'BlueTeamPhysicalDamageDoneToChampions_scaled',\n",
    "'RedTeamPhysicalDamageDoneToChampions_scaled',\n",
    "'BlueTeamTimeEnemySpentControlled_scaled',\n",
    "'RedTeamTimeEnemySpentControlled_scaled',\n",
    "'BlueTeamTotalDamageDoneToChampions_scaled',\n",
    "'RedTeamTotalDamageDoneToChampions_scaled',\n",
    "'BlueTeamTotalGold_scaled',\n",
    "'RedTeamTotalGold_scaled',\n",
    "'BlueTeamTrueDamageDoneToChampions_scaled',\n",
    "'RedTeamTrueDamageDoneToChampions_scaled',\n",
    "'BlueTeamWards_scaled',\n",
    "'RedTeamWards_scaled',\n",
    "'BlueTeamAssists_scaled',\n",
    "'RedTeamAssists_scaled',\n",
    "'BlueTeamXp_scaled',\n",
    "'RedTeamXp_scaled',\n",
    "'BlueTeamTotalGoldDifference_scaled',\n",
    "'RedTeamTotalGoldDifference_scaled',\n",
    "'BlueTeamLevelDifference_scaled',\n",
    "'BlueTeamXpDifference_scaled',\n",
    "'BlueTeamWardDifference_scaled',\n",
    "'BlueTeamminionKillDifference_scaled',\n",
    "'BlueTeamDeathsDifference_scaled',\n",
    "'BlueTeamMagicDmgDifference_scaled',\n",
    "'BlueTeamPhysicalDmgDifference_scaled',\n",
    "'BlueTeamTrueDmgDifference_scaled',\n",
    "'BlueTeamTotalDmgDifference_scaled',\n",
    "'BlueTeamTotalMinionsMonstersDifference_scaled',\n",
    "'BlueTeamTimeCCingDifference_scaled',\n",
    "'BlueteamWardDifference_scaled',\n",
    "'BlueteamAssistDifference_scaled',\n",
    "'BlueBotLaneKillDifference_scaled',\n",
    "'BlueJungTopkillDifference_scaled',\n",
    "'BlueTeamWaterDragonDifference_scaled',\n",
    "'BlueTeamAirDragonDifference_scaled',\n",
    "'BlueTeamChemtechDragonDifference_scaled',\n",
    "'BlueTeamFireDragonDifference_scaled',\n",
    "'BlueTeamHextechDragonDifference_scaled',\n",
    "'BlueTeamEarthDragonDifference_scaled',\n",
    "'BlueSupportStats_scaled',\n",
    "'RedSupportStats_scaled',\n",
    "'BlueSupportDifference_scaled',\n",
    "'BlueTopKda_scaled',\n",
    "'BlueJungleKda_scaled',\n",
    "'BlueMidKda_scaled',\n",
    "'BlueBotKda_scaled',\n",
    "'BlueSupportKda_scaled',\n",
    "'RedTopKda_scaled',\n",
    "'RedJungleKda_scaled',\n",
    "'RedMidKda_scaled',\n",
    "'RedBotKda_scaled',\n",
    "'RedSupportKda_scaled',\n",
    "'BlueTeamKdaDifference_scaled',\n",
    "'BlueJungleGankHeavy_scaled',\n",
    "'BlueTeamJungleDiffy_scaled',\n",
    "'RedJungleGankHeavy_scaled']"
   ]
  },
  {
   "cell_type": "code",
   "execution_count": 51,
   "id": "5229f741",
   "metadata": {},
   "outputs": [],
   "source": [
    "train = pd.read_csv(\"final10_train_scaled.csv\")\n",
    "test = pd.read_csv(\"final10_test_scaled.csv\")"
   ]
  },
  {
   "cell_type": "code",
   "execution_count": 52,
   "id": "d9065eb6",
   "metadata": {
    "scrolled": true
   },
   "outputs": [
    {
     "name": "stderr",
     "output_type": "stream",
     "text": [
      "<ipython-input-18-28a934079a2a>:21: SettingWithCopyWarning: \n",
      "A value is trying to be set on a copy of a slice from a DataFrame.\n",
      "Try using .loc[row_indexer,col_indexer] = value instead\n",
      "\n",
      "See the caveats in the documentation: https://pandas.pydata.org/pandas-docs/stable/user_guide/indexing.html#returning-a-view-versus-a-copy\n",
      "  X['cluster'] = kmeans.predict(X)\n"
     ]
    },
    {
     "name": "stdout",
     "output_type": "stream",
     "text": [
      "0    924\n",
      "1    689\n",
      "2    364\n",
      "Name: cluster, dtype: int64\n"
     ]
    },
    {
     "data": {
      "image/png": "[encoded data removed]",
      "text/plain": [
       "<Figure size 648x432 with 1 Axes>"
      ]
     },
     "metadata": {},
     "output_type": "display_data"
    }
   ],
   "source": [
    "df = clusters(features, train, 3)"
   ]
  },
  {
   "cell_type": "code",
   "execution_count": 53,
   "id": "1f84a7c1",
   "metadata": {},
   "outputs": [],
   "source": [
    "train = pd.concat([train, df], axis = 1)\n",
    "boolean_dummy = pd.get_dummies(train['cluster'], drop_first=False)\n",
    "train = pd.concat([train, boolean_dummy], axis = 1)\n",
    "\n",
    "train = train.rename(columns = {\n",
    "            0:'every_cluster_0', \n",
    "            1:'every_cluster_1',\n",
    "            2:'every_cluster_2',\n",
    "            'cluster':'everything_cluster'})"
   ]
  },
  {
   "cell_type": "code",
   "execution_count": 54,
   "id": "44e802a7",
   "metadata": {},
   "outputs": [
    {
     "name": "stdout",
     "output_type": "stream",
     "text": [
      "0.5730905412240769 1 1\n"
     ]
    }
   ],
   "source": [
    "X_train = train[[\n",
    "'every_cluster_0',\n",
    "'every_cluster_1',\n",
    "'every_cluster_2']]\n",
    "\n",
    "y_train = train['winningTeam']\n",
    "\n",
    "high = 0\n",
    "highdepth = 0\n",
    "highleaf = 0\n",
    "for leaf in range(1, 25):\n",
    "    for depth in range(1,25):\n",
    "        rf = RandomForestClassifier(bootstrap=True, \n",
    "                            class_weight=None, \n",
    "                            criterion='gini',\n",
    "                            min_samples_leaf=leaf,\n",
    "                            n_estimators=100,\n",
    "                            max_depth=depth, \n",
    "                            random_state=123)\n",
    "        results = cross_val_score(rf, X_train, y_train, cv=3)\n",
    "        if results.mean() > high:\n",
    "            high = results.mean()\n",
    "            highdepth = depth\n",
    "            highleaf = leaf\n",
    "            print(high, highdepth, highleaf)"
   ]
  },
  {
   "cell_type": "code",
   "execution_count": 55,
   "id": "f416a1df",
   "metadata": {},
   "outputs": [
    {
     "name": "stderr",
     "output_type": "stream",
     "text": [
      "<ipython-input-18-28a934079a2a>:21: SettingWithCopyWarning: \n",
      "A value is trying to be set on a copy of a slice from a DataFrame.\n",
      "Try using .loc[row_indexer,col_indexer] = value instead\n",
      "\n",
      "See the caveats in the documentation: https://pandas.pydata.org/pandas-docs/stable/user_guide/indexing.html#returning-a-view-versus-a-copy\n",
      "  X['cluster'] = kmeans.predict(X)\n"
     ]
    },
    {
     "name": "stdout",
     "output_type": "stream",
     "text": [
      "2    547\n",
      "0    540\n",
      "1    540\n",
      "3    350\n",
      "Name: cluster, dtype: int64\n",
      "0.5725847243297927 1 1\n",
      "0.5948406676783005 2 1\n"
     ]
    },
    {
     "data": {
      "image/png": "[encoded data removed]",
      "text/plain": [
       "<Figure size 648x432 with 1 Axes>"
      ]
     },
     "metadata": {},
     "output_type": "display_data"
    }
   ],
   "source": [
    "train = pd.read_csv(\"final10_train_scaled.csv\")\n",
    "test = pd.read_csv(\"final10_test_scaled.csv\")\n",
    "\n",
    "df = clusters(features, train, 4)\n",
    "\n",
    "train = pd.concat([train, df], axis = 1)\n",
    "boolean_dummy = pd.get_dummies(train['cluster'], drop_first=False)\n",
    "train = pd.concat([train, boolean_dummy], axis = 1)\n",
    "\n",
    "train = train.rename(columns = {\n",
    "            0:'every_cluster_0', \n",
    "            1:'every_cluster_1',\n",
    "            2:'every_cluster_2',\n",
    "            3:'every_cluster_3',\n",
    "            'cluster':'everything_cluster'})\n",
    "\n",
    "X_train = train[[\n",
    "'every_cluster_0',\n",
    "'every_cluster_1',\n",
    "'every_cluster_2',\n",
    "'every_cluster_3']]\n",
    "\n",
    "y_train = train['winningTeam']\n",
    "\n",
    "high = 0\n",
    "highdepth = 0\n",
    "highleaf = 0\n",
    "for leaf in range(1, 25):\n",
    "    for depth in range(1,25):\n",
    "        rf = RandomForestClassifier(bootstrap=True, \n",
    "                            class_weight=None, \n",
    "                            criterion='gini',\n",
    "                            min_samples_leaf=leaf,\n",
    "                            n_estimators=100,\n",
    "                            max_depth=depth, \n",
    "                            random_state=123)\n",
    "        results = cross_val_score(rf, X_train, y_train, cv=3)\n",
    "        if results.mean() > high:\n",
    "            high = results.mean()\n",
    "            highdepth = depth\n",
    "            highleaf = leaf\n",
    "            print(high, highdepth, highleaf)"
   ]
  },
  {
   "cell_type": "code",
   "execution_count": 56,
   "id": "6f4acefb",
   "metadata": {},
   "outputs": [
    {
     "name": "stderr",
     "output_type": "stream",
     "text": [
      "<ipython-input-18-28a934079a2a>:21: SettingWithCopyWarning: \n",
      "A value is trying to be set on a copy of a slice from a DataFrame.\n",
      "Try using .loc[row_indexer,col_indexer] = value instead\n",
      "\n",
      "See the caveats in the documentation: https://pandas.pydata.org/pandas-docs/stable/user_guide/indexing.html#returning-a-view-versus-a-copy\n",
      "  X['cluster'] = kmeans.predict(X)\n"
     ]
    },
    {
     "name": "stdout",
     "output_type": "stream",
     "text": [
      "1    1590\n",
      "0     387\n",
      "Name: cluster, dtype: int64\n",
      "0.5194739504299443 1 1\n"
     ]
    },
    {
     "data": {
      "image/png": "[encoded data removed]",
      "text/plain": [
       "<Figure size 648x432 with 1 Axes>"
      ]
     },
     "metadata": {},
     "output_type": "display_data"
    }
   ],
   "source": [
    "train = pd.read_csv(\"final10_train_scaled.csv\")\n",
    "test = pd.read_csv(\"final10_test_scaled.csv\")\n",
    "\n",
    "df = clusters(features, train, 2)\n",
    "\n",
    "train = pd.concat([train, df], axis = 1)\n",
    "boolean_dummy = pd.get_dummies(train['cluster'], drop_first=False)\n",
    "train = pd.concat([train, boolean_dummy], axis = 1)\n",
    "\n",
    "train = train.rename(columns = {\n",
    "            0:'every_cluster_0', \n",
    "            1:'every_cluster_1',\n",
    "            'cluster':'everything_cluster'})\n",
    "\n",
    "X_train = train[[\n",
    "'every_cluster_0',\n",
    "'every_cluster_1']]\n",
    "\n",
    "y_train = train['winningTeam']\n",
    "\n",
    "high = 0\n",
    "highdepth = 0\n",
    "highleaf = 0\n",
    "for leaf in range(1, 25):\n",
    "    for depth in range(1,25):\n",
    "        rf = RandomForestClassifier(bootstrap=True, \n",
    "                            class_weight=None, \n",
    "                            criterion='gini',\n",
    "                            min_samples_leaf=leaf,\n",
    "                            n_estimators=100,\n",
    "                            max_depth=depth, \n",
    "                            random_state=123)\n",
    "        results = cross_val_score(rf, X_train, y_train, cv=3)\n",
    "        if results.mean() > high:\n",
    "            high = results.mean()\n",
    "            highdepth = depth\n",
    "            highleaf = leaf\n",
    "            print(high, highdepth, highleaf)"
   ]
  },
  {
   "cell_type": "code",
   "execution_count": null,
   "id": "62ffb698",
   "metadata": {},
   "outputs": [],
   "source": []
  }
 ],
 "metadata": {
  "kernelspec": {
   "display_name": "Python 3",
   "language": "python",
   "name": "python3"
  },
  "language_info": {
   "codemirror_mode": {
    "name": "ipython",
    "version": 3
   },
   "file_extension": ".py",
   "mimetype": "text/x-python",
   "name": "python",
   "nbconvert_exporter": "python",
   "pygments_lexer": "ipython3",
   "version": "3.8.8"
  }
 },
 "nbformat": 4,
 "nbformat_minor": 5
}
