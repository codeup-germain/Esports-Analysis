{
 "cells": [
  {
   "cell_type": "code",
   "execution_count": 3,
   "id": "c7f7f8c0",
   "metadata": {},
   "outputs": [],
   "source": [
    "import pandas as pd\n",
    "import requests\n",
    "from bs4 import BeautifulSoup\n",
    "#from sklearn.model_selection import df_test_split\n",
    "from sklearn.preprocessing import MinMaxScaler\n",
    "from sklearn.model_selection import cross_val_score\n",
    "from sklearn.tree import DecisionTreeClassifier\n",
    "from sklearn.cluster import KMeans\n",
    "import matplotlib.pyplot as plt\n",
    "from sklearn.ensemble import RandomForestClassifier\n",
    "\n",
    "import re\n",
    "from acquire import extract, build_extracted_df, get_new_patch_data, get_players\n",
    "from prepare import prepare\n",
    "from env import api_key"
   ]
  },
  {
   "cell_type": "code",
   "execution_count": 4,
   "id": "6ba6a3b1",
   "metadata": {},
   "outputs": [],
   "source": [
    "df = pd.read_csv(\"final_10.csv\")"
   ]
  },
  {
   "cell_type": "code",
   "execution_count": 3,
   "id": "b3ea9d25",
   "metadata": {},
   "outputs": [],
   "source": [
    "# df = df[df.queueId != 850]\n",
    "\n",
    "# df = df[df.queueId != 0]\n",
    "\n",
    "# df = df[df.queueId != 430]\n",
    "\n",
    "# df = df[df.queueId != 400]"
   ]
  },
  {
   "cell_type": "code",
   "execution_count": 5,
   "id": "65d9c157",
   "metadata": {},
   "outputs": [],
   "source": [
    "train, test = prepare(df)"
   ]
  },
  {
   "cell_type": "code",
   "execution_count": 6,
   "id": "025d09f9",
   "metadata": {},
   "outputs": [
    {
     "data": {
      "text/plain": [
       "2440      NaN\n",
       "300     100.0\n",
       "749     100.0\n",
       "2900    100.0\n",
       "3316    200.0\n",
       "        ...  \n",
       "2072    200.0\n",
       "2553    100.0\n",
       "2155      NaN\n",
       "2102      NaN\n",
       "2395      NaN\n",
       "Name: winningTeam, Length: 2900, dtype: float64"
      ]
     },
     "execution_count": 6,
     "metadata": {},
     "output_type": "execute_result"
    }
   ],
   "source": [
    "train.winningTeam"
   ]
  },
  {
   "cell_type": "code",
   "execution_count": 12,
   "id": "cd8e952b",
   "metadata": {},
   "outputs": [],
   "source": [
    "d= {'assistsplayer_10':0, 'assistsplayer_2':0, 'assistsplayer_6':0,'assistsplayer_7':0,'assistsplayer_3':0, 'assistsplayer_4':0, 'assistsplayer_5':0, 'assistsplayer_8':0, 'assistsplayer_9':0, 'assistsplayer_1':0, 'currentGold_1':0, 'currentGold_10':0, 'currentGold_2':0, 'currentGold_3':0, 'currentGold_4':0, 'currentGold_5':0, 'currentGold_6':0, 'currentGold_7':0, 'currentGold_8':0, 'currentGold_9':0, 'deathsplayer_1':0, 'deathsplayer_10':0, 'deathsplayer_2':0, 'deathsplayer_3':0, 'deathsplayer_4':0, 'deathsplayer_5':0, 'deathsplayer_6':0, 'deathsplayer_7':0, 'deathsplayer_8':0, 'deathsplayer_9':0, 'dragon_team100':0, 'dragon_team200':0, 'firedragon_team100':0, 'firedragon_team200':0, 'gameDuration':0, 'gameEndTimestamp':0, 'gameId':0, 'gameMode':0, 'gameName':0, 'gameStartTimestamp':0, 'gameType':0, 'gameVersion':0, 'goldPerSecond_1':0, 'goldPerSecond_10':0, 'goldPerSecond_2':0, 'goldPerSecond_3':0, 'goldPerSecond_4':0, 'goldPerSecond_5':0, 'goldPerSecond_6':0, 'goldPerSecond_7':0, 'goldPerSecond_8':0, 'goldPerSecond_9':0, 'hextechdragon_team200':0, 'inhibs_lost_team200':0, 'jungleMinionsKilled_1':0, 'jungleMinionsKilled_10':0, 'jungleMinionsKilled_2':0, 'jungleMinionsKilled_3':0, 'jungleMinionsKilled_4':0, 'jungleMinionsKilled_5':0, 'jungleMinionsKilled_6':0, 'jungleMinionsKilled_7':0, 'jungleMinionsKilled_8':0, 'jungleMinionsKilled_9':0, 'killsplayer_1':0, 'killsplayer_2':0, 'killsplayer_3':0, 'riftherald_team200':0,'killsplayer_4':0, 'killsplayer_5':0, 'killsplayer_6':0, 'killsplayer_0':0,'killsplayer_7':0, 'killsplayer_8':0, 'killsplayer_9':0, 'killsplayer_10':0, 'level_1':0, 'level_10':0, 'level_2':0, 'level_3':0, 'level_4':0, 'level_5':0, 'level_6':0, 'level_7':0, 'level_8':0, 'level_9':0, 'magicDamageDoneToChampions_1':0, 'magicDamageDoneToChampions_10':0, 'magicDamageDoneToChampions_2':0, 'magicDamageDoneToChampions_3':0, 'magicDamageDoneToChampions_4':0, 'magicDamageDoneToChampions_5':0, 'magicDamageDoneToChampions_6':0, 'magicDamageDoneToChampions_7':0, 'magicDamageDoneToChampions_8':0, 'magicDamageDoneToChampions_9':0, 'matchId':0, 'minionsKilled_1':0, 'minionsKilled_10':0, 'minionsKilled_2':0, 'minionsKilled_3':0, 'minionsKilled_4':0, 'minionsKilled_5':0, 'minionsKilled_6':0, 'minionsKilled_7':0, 'minionsKilled_8':0, 'minionsKilled_9':0, 'physicalDamageDoneToChampions_1':0, 'physicalDamageDoneToChampions_10':0, 'physicalDamageDoneToChampions_2':0, 'physicalDamageDoneToChampions_3':0, 'physicalDamageDoneToChampions_4':0, 'physicalDamageDoneToChampions_5':0, 'physicalDamageDoneToChampions_6':0, 'physicalDamageDoneToChampions_7':0, 'physicalDamageDoneToChampions_8':0, 'physicalDamageDoneToChampions_9':0, 'queueId':0, 'riftherald_team100':0, 'timeEnemySpentControlled_1':0, 'timeEnemySpentControlled_10':0, 'timeEnemySpentControlled_2':0, 'timeEnemySpentControlled_3':0, 'timeEnemySpentControlled_4':0, 'timeEnemySpentControlled_5':0, 'timeEnemySpentControlled_6':0, 'timeEnemySpentControlled_7':0, 'timeEnemySpentControlled_8':0, 'timeEnemySpentControlled_9':0, 'timestamp':0, 'totalDamageDoneToChampions_1':0, 'totalDamageDoneToChampions_10':0, 'totalDamageDoneToChampions_2':0, 'totalDamageDoneToChampions_3':0, 'totalDamageDoneToChampions_4':0, 'totalDamageDoneToChampions_5':0, 'totalDamageDoneToChampions_6':0, 'totalDamageDoneToChampions_7':0, 'totalDamageDoneToChampions_8':0, 'totalDamageDoneToChampions_9':0, 'totalGold_1':0, 'totalGold_10':0, 'totalGold_2':0, 'totalGold_3':0, 'totalGold_4':0, 'totalGold_5':0, 'totalGold_6':0, 'totalGold_7':0, 'totalGold_8':0, 'totalGold_9':0, 'towers_lost_team100':0, 'towers_lost_team200':0, 'trueDamageDoneToChampions_1':0, 'trueDamageDoneToChampions_10':0, 'trueDamageDoneToChampions_2':0, 'trueDamageDoneToChampions_3':0, 'trueDamageDoneToChampions_4':0, 'trueDamageDoneToChampions_5':0, 'trueDamageDoneToChampions_6':0, 'trueDamageDoneToChampions_7':0, 'trueDamageDoneToChampions_8':0, 'trueDamageDoneToChampions_9':0, 'ward_player_1':0, 'ward_player_10':0, 'ward_player_2':0, 'ward_player_3':0, 'ward_player_4':0, 'ward_player_5':0, 'ward_player_6':0, 'ward_player_7':0, 'ward_player_8':0, 'ward_player_9':0, 'waterdragon_team100':0, 'winningTeam':0, 'xp_1':0, 'xp_10':0, 'xp_2':0, 'xp_3':0, 'xp_4':0, 'xp_5':0, 'xp_6':0, 'xp_7':0, 'xp_8':0, 'xp_9':0, 'airdragon_team100':0, 'assistsplayer_7':0, 'chemtechdragon_team100':0, 'earthdragon_team100':0, 'killsplayer_10':0, 'killsplayer_6':0, 'killsplayer_8':0, 'riftherald_team300':0, 'assistsplayer_1':0, 'baron_team100':0, 'earthdragon_team200':0, 'ward_player_0':0}"
   ]
  },
  {
   "cell_type": "code",
   "execution_count": 13,
   "id": "e01913b5",
   "metadata": {},
   "outputs": [
    {
     "data": {
      "text/plain": [
       "0"
      ]
     },
     "execution_count": 13,
     "metadata": {},
     "output_type": "execute_result"
    }
   ],
   "source": [
    "d['riftherald_team200']"
   ]
  },
  {
   "cell_type": "code",
   "execution_count": null,
   "id": "264af4e7",
   "metadata": {},
   "outputs": [],
   "source": []
  }
 ],
 "metadata": {
  "kernelspec": {
   "display_name": "Python 3",
   "language": "python",
   "name": "python3"
  },
  "language_info": {
   "codemirror_mode": {
    "name": "ipython",
    "version": 3
   },
   "file_extension": ".py",
   "mimetype": "text/x-python",
   "name": "python",
   "nbconvert_exporter": "python",
   "pygments_lexer": "ipython3",
   "version": "3.8.8"
  }
 },
 "nbformat": 4,
 "nbformat_minor": 5
}
