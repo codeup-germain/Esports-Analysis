{
 "cells": [
  {
   "cell_type": "code",
   "execution_count": 1,
   "id": "110da257",
   "metadata": {},
   "outputs": [],
   "source": [
    "import pandas as pd\n",
    "import requests\n",
    "from bs4 import BeautifulSoup\n",
    "from sklearn.model_selection import train_test_split\n",
    "import re\n",
    "from acquire import extract, build_extracted_df, get_new_patch_data, get_players\n",
    "from prepare import prepare\n",
    "from env import api_key"
   ]
  },
  {
   "cell_type": "code",
   "execution_count": 2,
   "id": "68c0ca32",
   "metadata": {},
   "outputs": [],
   "source": [
    "df = pd.read_csv('final_15.csv')"
   ]
  },
  {
   "cell_type": "code",
   "execution_count": 3,
   "id": "cf87b0b3",
   "metadata": {},
   "outputs": [],
   "source": [
    "df = df.drop(columns=['Unnamed: 0'])"
   ]
  },
  {
   "cell_type": "code",
   "execution_count": 4,
   "id": "08887e3e",
   "metadata": {},
   "outputs": [],
   "source": [
    "df.reset_index(inplace = True)"
   ]
  },
  {
   "cell_type": "code",
   "execution_count": 5,
   "id": "f4699788",
   "metadata": {},
   "outputs": [],
   "source": [
    "df = df.drop(columns=['index'])"
   ]
  },
  {
   "cell_type": "code",
   "execution_count": 6,
   "id": "b085a434",
   "metadata": {},
   "outputs": [
    {
     "data": {
      "text/plain": [
       "0.3967204443268976"
      ]
     },
     "execution_count": 6,
     "metadata": {},
     "output_type": "execute_result"
    }
   ],
   "source": [
    "df.riftherald_team100.mean()"
   ]
  },
  {
   "cell_type": "code",
   "execution_count": 7,
   "id": "c1eb38d5",
   "metadata": {},
   "outputs": [
    {
     "data": {
      "text/plain": [
       "1.0015003750937734"
      ]
     },
     "execution_count": 7,
     "metadata": {},
     "output_type": "execute_result"
    }
   ],
   "source": [
    "df.riftherald_team200.mean()"
   ]
  },
  {
   "cell_type": "code",
   "execution_count": 8,
   "id": "2046e377",
   "metadata": {},
   "outputs": [
    {
     "data": {
      "text/plain": [
       "0.4443847393874261"
      ]
     },
     "execution_count": 8,
     "metadata": {},
     "output_type": "execute_result"
    }
   ],
   "source": [
    "df[df.winningTeam == 100].riftherald_team100.mean()"
   ]
  },
  {
   "cell_type": "code",
   "execution_count": 9,
   "id": "420b9ba9",
   "metadata": {},
   "outputs": [
    {
     "data": {
      "text/plain": [
       "1.0017094017094017"
      ]
     },
     "execution_count": 9,
     "metadata": {},
     "output_type": "execute_result"
    }
   ],
   "source": [
    "df[df.winningTeam == 100].riftherald_team200.mean()"
   ]
  },
  {
   "cell_type": "code",
   "execution_count": 10,
   "id": "fe72dfa6",
   "metadata": {},
   "outputs": [
    {
     "data": {
      "text/plain": [
       "0.35052083333333334"
      ]
     },
     "execution_count": 10,
     "metadata": {},
     "output_type": "execute_result"
    }
   ],
   "source": [
    "df[df.winningTeam == 200].riftherald_team100.mean()"
   ]
  },
  {
   "cell_type": "code",
   "execution_count": 11,
   "id": "b811e436",
   "metadata": {},
   "outputs": [
    {
     "data": {
      "text/plain": [
       "1.0013368983957218"
      ]
     },
     "execution_count": 11,
     "metadata": {},
     "output_type": "execute_result"
    }
   ],
   "source": [
    "df[df.winningTeam == 200].riftherald_team200.mean()"
   ]
  },
  {
   "cell_type": "code",
   "execution_count": 12,
   "id": "cd26503b",
   "metadata": {},
   "outputs": [],
   "source": [
    "df = pd.read_csv('final_10.csv')"
   ]
  },
  {
   "cell_type": "code",
   "execution_count": 13,
   "id": "cd7be971",
   "metadata": {
    "scrolled": false
   },
   "outputs": [
    {
     "name": "stdout",
     "output_type": "stream",
     "text": [
      "<class 'pandas.core.frame.DataFrame'>\n",
      "RangeIndex: 4863 entries, 0 to 4862\n",
      "Data columns (total 197 columns):\n",
      " #    Column                            Dtype  \n",
      "---   ------                            -----  \n",
      " 0    Unnamed: 0                        int64  \n",
      " 1    airdragon_team100                 float64\n",
      " 2    assistsplayer_1                   float64\n",
      " 3    assistsplayer_10                  float64\n",
      " 4    assistsplayer_2                   float64\n",
      " 5    assistsplayer_3                   float64\n",
      " 6    assistsplayer_4                   float64\n",
      " 7    assistsplayer_5                   float64\n",
      " 8    assistsplayer_6                   float64\n",
      " 9    assistsplayer_7                   float64\n",
      " 10   assistsplayer_8                   float64\n",
      " 11   assistsplayer_9                   float64\n",
      " 12   baron_team100                     float64\n",
      " 13   chemtechdragon_team100            float64\n",
      " 14   currentGold_1                     float64\n",
      " 15   currentGold_10                    float64\n",
      " 16   currentGold_2                     float64\n",
      " 17   currentGold_3                     float64\n",
      " 18   currentGold_4                     float64\n",
      " 19   currentGold_5                     float64\n",
      " 20   currentGold_6                     float64\n",
      " 21   currentGold_7                     float64\n",
      " 22   currentGold_8                     float64\n",
      " 23   currentGold_9                     float64\n",
      " 24   deathsplayer_1                    float64\n",
      " 25   deathsplayer_10                   float64\n",
      " 26   deathsplayer_2                    float64\n",
      " 27   deathsplayer_3                    float64\n",
      " 28   deathsplayer_4                    float64\n",
      " 29   deathsplayer_5                    float64\n",
      " 30   deathsplayer_6                    float64\n",
      " 31   deathsplayer_7                    float64\n",
      " 32   deathsplayer_8                    float64\n",
      " 33   deathsplayer_9                    float64\n",
      " 34   dragon_team100                    float64\n",
      " 35   dragon_team200                    float64\n",
      " 36   earthdragon_team100               float64\n",
      " 37   earthdragon_team200               float64\n",
      " 38   firedragon_team100                float64\n",
      " 39   firedragon_team200                float64\n",
      " 40   gameDuration                      int64  \n",
      " 41   gameEndTimestamp                  int64  \n",
      " 42   gameId                            int64  \n",
      " 43   gameMode                          object \n",
      " 44   gameName                          object \n",
      " 45   gameStartTimestamp                int64  \n",
      " 46   gameType                          object \n",
      " 47   gameVersion                       object \n",
      " 48   goldPerSecond_1                   float64\n",
      " 49   goldPerSecond_10                  float64\n",
      " 50   goldPerSecond_2                   float64\n",
      " 51   goldPerSecond_3                   float64\n",
      " 52   goldPerSecond_4                   float64\n",
      " 53   goldPerSecond_5                   float64\n",
      " 54   goldPerSecond_6                   float64\n",
      " 55   goldPerSecond_7                   float64\n",
      " 56   goldPerSecond_8                   float64\n",
      " 57   goldPerSecond_9                   float64\n",
      " 58   hextechdragon_team100             float64\n",
      " 59   hextechdragon_team200             float64\n",
      " 60   inhibs_lost_team200               float64\n",
      " 61   jungleMinionsKilled_1             float64\n",
      " 62   jungleMinionsKilled_10            float64\n",
      " 63   jungleMinionsKilled_2             float64\n",
      " 64   jungleMinionsKilled_3             float64\n",
      " 65   jungleMinionsKilled_4             float64\n",
      " 66   jungleMinionsKilled_5             float64\n",
      " 67   jungleMinionsKilled_6             float64\n",
      " 68   jungleMinionsKilled_7             float64\n",
      " 69   jungleMinionsKilled_8             float64\n",
      " 70   jungleMinionsKilled_9             float64\n",
      " 71   killsplayer_0                     float64\n",
      " 72   killsplayer_1                     float64\n",
      " 73   killsplayer_10                    float64\n",
      " 74   killsplayer_2                     float64\n",
      " 75   killsplayer_3                     float64\n",
      " 76   killsplayer_4                     float64\n",
      " 77   killsplayer_5                     float64\n",
      " 78   killsplayer_6                     float64\n",
      " 79   killsplayer_7                     float64\n",
      " 80   killsplayer_8                     float64\n",
      " 81   killsplayer_9                     float64\n",
      " 82   level_1                           float64\n",
      " 83   level_10                          float64\n",
      " 84   level_2                           float64\n",
      " 85   level_3                           float64\n",
      " 86   level_4                           float64\n",
      " 87   level_5                           float64\n",
      " 88   level_6                           float64\n",
      " 89   level_7                           float64\n",
      " 90   level_8                           float64\n",
      " 91   level_9                           float64\n",
      " 92   magicDamageDoneToChampions_1      float64\n",
      " 93   magicDamageDoneToChampions_10     float64\n",
      " 94   magicDamageDoneToChampions_2      float64\n",
      " 95   magicDamageDoneToChampions_3      float64\n",
      " 96   magicDamageDoneToChampions_4      float64\n",
      " 97   magicDamageDoneToChampions_5      float64\n",
      " 98   magicDamageDoneToChampions_6      float64\n",
      " 99   magicDamageDoneToChampions_7      float64\n",
      " 100  magicDamageDoneToChampions_8      float64\n",
      " 101  magicDamageDoneToChampions_9      float64\n",
      " 102  matchId                           object \n",
      " 103  minionsKilled_1                   float64\n",
      " 104  minionsKilled_10                  float64\n",
      " 105  minionsKilled_2                   float64\n",
      " 106  minionsKilled_3                   float64\n",
      " 107  minionsKilled_4                   float64\n",
      " 108  minionsKilled_5                   float64\n",
      " 109  minionsKilled_6                   float64\n",
      " 110  minionsKilled_7                   float64\n",
      " 111  minionsKilled_8                   float64\n",
      " 112  minionsKilled_9                   float64\n",
      " 113  physicalDamageDoneToChampions_1   float64\n",
      " 114  physicalDamageDoneToChampions_10  float64\n",
      " 115  physicalDamageDoneToChampions_2   float64\n",
      " 116  physicalDamageDoneToChampions_3   float64\n",
      " 117  physicalDamageDoneToChampions_4   float64\n",
      " 118  physicalDamageDoneToChampions_5   float64\n",
      " 119  physicalDamageDoneToChampions_6   float64\n",
      " 120  physicalDamageDoneToChampions_7   float64\n",
      " 121  physicalDamageDoneToChampions_8   float64\n",
      " 122  physicalDamageDoneToChampions_9   float64\n",
      " 123  queueId                           int64  \n",
      " 124  riftherald_team100                float64\n",
      " 125  riftherald_team300                float64\n",
      " 126  timeEnemySpentControlled_1        float64\n",
      " 127  timeEnemySpentControlled_10       float64\n",
      " 128  timeEnemySpentControlled_2        float64\n",
      " 129  timeEnemySpentControlled_3        float64\n",
      " 130  timeEnemySpentControlled_4        float64\n",
      " 131  timeEnemySpentControlled_5        float64\n",
      " 132  timeEnemySpentControlled_6        float64\n",
      " 133  timeEnemySpentControlled_7        float64\n",
      " 134  timeEnemySpentControlled_8        float64\n",
      " 135  timeEnemySpentControlled_9        float64\n",
      " 136  time_cutoff                       float64\n",
      " 137  timestamp                         float64\n",
      " 138  totalDamageDoneToChampions_1      float64\n",
      " 139  totalDamageDoneToChampions_10     float64\n",
      " 140  totalDamageDoneToChampions_2      float64\n",
      " 141  totalDamageDoneToChampions_3      float64\n",
      " 142  totalDamageDoneToChampions_4      float64\n",
      " 143  totalDamageDoneToChampions_5      float64\n",
      " 144  totalDamageDoneToChampions_6      float64\n",
      " 145  totalDamageDoneToChampions_7      float64\n",
      " 146  totalDamageDoneToChampions_8      float64\n",
      " 147  totalDamageDoneToChampions_9      float64\n",
      " 148  totalGold_1                       float64\n",
      " 149  totalGold_10                      float64\n",
      " 150  totalGold_2                       float64\n",
      " 151  totalGold_3                       float64\n",
      " 152  totalGold_4                       float64\n",
      " 153  totalGold_5                       float64\n",
      " 154  totalGold_6                       float64\n",
      " 155  totalGold_7                       float64\n",
      " 156  totalGold_8                       float64\n",
      " 157  totalGold_9                       float64\n",
      " 158  towers_lost_team100               float64\n",
      " 159  towers_lost_team200               float64\n",
      " 160  trueDamageDoneToChampions_1       float64\n",
      " 161  trueDamageDoneToChampions_10      float64\n",
      " 162  trueDamageDoneToChampions_2       float64\n",
      " 163  trueDamageDoneToChampions_3       float64\n",
      " 164  trueDamageDoneToChampions_4       float64\n",
      " 165  trueDamageDoneToChampions_5       float64\n",
      " 166  trueDamageDoneToChampions_6       float64\n",
      " 167  trueDamageDoneToChampions_7       float64\n",
      " 168  trueDamageDoneToChampions_8       float64\n",
      " 169  trueDamageDoneToChampions_9       float64\n",
      " 170  ward_player_0                     float64\n",
      " 171  ward_player_1                     float64\n",
      " 172  ward_player_10                    float64\n",
      " 173  ward_player_2                     float64\n",
      " 174  ward_player_3                     float64\n",
      " 175  ward_player_4                     float64\n",
      " 176  ward_player_5                     float64\n",
      " 177  ward_player_6                     float64\n",
      " 178  ward_player_7                     float64\n",
      " 179  ward_player_8                     float64\n",
      " 180  ward_player_9                     float64\n",
      " 181  waterdragon_team100               float64\n",
      " 182  winningTeam                       float64\n",
      " 183  xp_1                              float64\n",
      " 184  xp_10                             float64\n",
      " 185  xp_2                              float64\n",
      " 186  xp_3                              float64\n",
      " 187  xp_4                              float64\n",
      " 188  xp_5                              float64\n",
      " 189  xp_6                              float64\n",
      " 190  xp_7                              float64\n",
      " 191  xp_8                              float64\n",
      " 192  xp_9                              float64\n",
      " 193  chemtechdragon_team200            float64\n",
      " 194  riftherald_team200                float64\n",
      " 195  airdragon_team200                 float64\n",
      " 196  waterdragon_team200               float64\n",
      "dtypes: float64(186), int64(6), object(5)\n",
      "memory usage: 7.3+ MB\n"
     ]
    }
   ],
   "source": [
    "df.info(verbose = True)"
   ]
  },
  {
   "cell_type": "code",
   "execution_count": 14,
   "id": "499d39e4",
   "metadata": {},
   "outputs": [
    {
     "data": {
      "text/plain": [
       "0.1281102200287888"
      ]
     },
     "execution_count": 14,
     "metadata": {},
     "output_type": "execute_result"
    }
   ],
   "source": [
    "df.riftherald_team100.mean()"
   ]
  },
  {
   "cell_type": "code",
   "execution_count": 15,
   "id": "2ee0e686",
   "metadata": {},
   "outputs": [
    {
     "data": {
      "text/plain": [
       "1.0"
      ]
     },
     "execution_count": 15,
     "metadata": {},
     "output_type": "execute_result"
    }
   ],
   "source": [
    "df.riftherald_team200.mean()"
   ]
  },
  {
   "cell_type": "code",
   "execution_count": 16,
   "id": "0045d3c0",
   "metadata": {},
   "outputs": [
    {
     "data": {
      "text/plain": [
       "1.0    504\n",
       "Name: riftherald_team200, dtype: int64"
      ]
     },
     "execution_count": 16,
     "metadata": {},
     "output_type": "execute_result"
    }
   ],
   "source": [
    "df.riftherald_team200.value_counts()"
   ]
  },
  {
   "cell_type": "code",
   "execution_count": 17,
   "id": "f9a304a5",
   "metadata": {},
   "outputs": [
    {
     "data": {
      "text/plain": [
       "0.3395023647953938"
      ]
     },
     "execution_count": 17,
     "metadata": {},
     "output_type": "execute_result"
    }
   ],
   "source": [
    "df.dragon_team100.mean()"
   ]
  },
  {
   "cell_type": "code",
   "execution_count": 18,
   "id": "23b943f2",
   "metadata": {},
   "outputs": [
    {
     "data": {
      "text/plain": [
       "0.37610528480361916"
      ]
     },
     "execution_count": 18,
     "metadata": {},
     "output_type": "execute_result"
    }
   ],
   "source": [
    "df.dragon_team200.mean()"
   ]
  },
  {
   "cell_type": "code",
   "execution_count": 19,
   "id": "455913da",
   "metadata": {},
   "outputs": [
    {
     "data": {
      "text/plain": [
       "0.0"
      ]
     },
     "execution_count": 19,
     "metadata": {},
     "output_type": "execute_result"
    }
   ],
   "source": [
    "df.baron_team100.mean()"
   ]
  },
  {
   "cell_type": "code",
   "execution_count": 20,
   "id": "f570f20d",
   "metadata": {},
   "outputs": [
    {
     "data": {
      "text/plain": [
       "(4863, 197)"
      ]
     },
     "execution_count": 20,
     "metadata": {},
     "output_type": "execute_result"
    }
   ],
   "source": [
    "df.shape"
   ]
  },
  {
   "cell_type": "code",
   "execution_count": 26,
   "id": "0ff65f34",
   "metadata": {},
   "outputs": [],
   "source": [
    "train, test = prepare(df)"
   ]
  },
  {
   "cell_type": "code",
   "execution_count": 27,
   "id": "83e833f1",
   "metadata": {},
   "outputs": [
    {
     "data": {
      "text/plain": [
       "0.0    3468\n",
       "1.0     422\n",
       "Name: riftherald_team200, dtype: int64"
      ]
     },
     "execution_count": 27,
     "metadata": {},
     "output_type": "execute_result"
    }
   ],
   "source": [
    "train.riftherald_team200.value_counts()"
   ]
  },
  {
   "cell_type": "code",
   "execution_count": 28,
   "id": "9f5af53c",
   "metadata": {},
   "outputs": [],
   "source": [
    "train.to_csv('final_10_train.csv')"
   ]
  },
  {
   "cell_type": "code",
   "execution_count": 34,
   "id": "333cdfdd",
   "metadata": {},
   "outputs": [
    {
     "data": {
      "text/plain": [
       "200.0    0.518509\n",
       "100.0    0.481491\n",
       "Name: winningTeam, dtype: float64"
      ]
     },
     "execution_count": 34,
     "metadata": {},
     "output_type": "execute_result"
    }
   ],
   "source": [
    "train.winningTeam.value_counts(normalize=True)"
   ]
  },
  {
   "cell_type": "code",
   "execution_count": null,
   "id": "9d9a8ddf",
   "metadata": {},
   "outputs": [],
   "source": []
  }
 ],
 "metadata": {
  "kernelspec": {
   "display_name": "Python 3",
   "language": "python",
   "name": "python3"
  },
  "language_info": {
   "codemirror_mode": {
    "name": "ipython",
    "version": 3
   },
   "file_extension": ".py",
   "mimetype": "text/x-python",
   "name": "python",
   "nbconvert_exporter": "python",
   "pygments_lexer": "ipython3",
   "version": "3.8.8"
  }
 },
 "nbformat": 4,
 "nbformat_minor": 5
}
