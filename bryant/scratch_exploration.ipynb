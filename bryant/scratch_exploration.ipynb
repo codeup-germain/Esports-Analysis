{
 "cells": [
  {
   "cell_type": "code",
   "execution_count": 1,
   "id": "110da257",
   "metadata": {},
   "outputs": [],
   "source": [
    "import pandas as pd\n",
    "import requests\n",
    "from bs4 import BeautifulSoup\n",
    "from sklearn.model_selection import train_test_split\n",
    "import re\n",
    "from acquire import extract, build_extracted_df, get_new_patch_data, get_players\n",
    "from prepare import prepare\n",
    "from env import api_key"
   ]
  },
  {
   "cell_type": "code",
   "execution_count": 2,
   "id": "68c0ca32",
   "metadata": {},
   "outputs": [],
   "source": [
    "df = pd.read_csv('final_15.csv')"
   ]
  },
  {
   "cell_type": "code",
   "execution_count": 3,
   "id": "cf87b0b3",
   "metadata": {},
   "outputs": [],
   "source": [
    "df = df.drop(columns=['Unnamed: 0'])"
   ]
  },
  {
   "cell_type": "code",
   "execution_count": 4,
   "id": "08887e3e",
   "metadata": {},
   "outputs": [],
   "source": [
    "df.reset_index(inplace = True)"
   ]
  },
  {
   "cell_type": "code",
   "execution_count": 5,
   "id": "f4699788",
   "metadata": {},
   "outputs": [],
   "source": [
    "df = df.drop(columns=['index'])"
   ]
  },
  {
   "cell_type": "code",
   "execution_count": 6,
   "id": "b085a434",
   "metadata": {},
   "outputs": [
    {
     "data": {
      "text/plain": [
       "0.3967204443268976"
      ]
     },
     "execution_count": 6,
     "metadata": {},
     "output_type": "execute_result"
    }
   ],
   "source": [
    "df.riftherald_team100.mean()"
   ]
  },
  {
   "cell_type": "code",
   "execution_count": 7,
   "id": "c1eb38d5",
   "metadata": {},
   "outputs": [
    {
     "data": {
      "text/plain": [
       "1.0015003750937734"
      ]
     },
     "execution_count": 7,
     "metadata": {},
     "output_type": "execute_result"
    }
   ],
   "source": [
    "df.riftherald_team200.mean()"
   ]
  },
  {
   "cell_type": "code",
   "execution_count": 8,
   "id": "2046e377",
   "metadata": {},
   "outputs": [
    {
     "data": {
      "text/plain": [
       "0.4443847393874261"
      ]
     },
     "execution_count": 8,
     "metadata": {},
     "output_type": "execute_result"
    }
   ],
   "source": [
    "df[df.winningTeam == 100].riftherald_team100.mean()"
   ]
  },
  {
   "cell_type": "code",
   "execution_count": 9,
   "id": "420b9ba9",
   "metadata": {},
   "outputs": [
    {
     "data": {
      "text/plain": [
       "1.0017094017094017"
      ]
     },
     "execution_count": 9,
     "metadata": {},
     "output_type": "execute_result"
    }
   ],
   "source": [
    "df[df.winningTeam == 100].riftherald_team200.mean()"
   ]
  },
  {
   "cell_type": "code",
   "execution_count": 10,
   "id": "fe72dfa6",
   "metadata": {},
   "outputs": [
    {
     "data": {
      "text/plain": [
       "0.35052083333333334"
      ]
     },
     "execution_count": 10,
     "metadata": {},
     "output_type": "execute_result"
    }
   ],
   "source": [
    "df[df.winningTeam == 200].riftherald_team100.mean()"
   ]
  },
  {
   "cell_type": "code",
   "execution_count": 11,
   "id": "b811e436",
   "metadata": {},
   "outputs": [
    {
     "data": {
      "text/plain": [
       "1.0013368983957218"
      ]
     },
     "execution_count": 11,
     "metadata": {},
     "output_type": "execute_result"
    }
   ],
   "source": [
    "df[df.winningTeam == 200].riftherald_team200.mean()"
   ]
  },
  {
   "cell_type": "code",
   "execution_count": null,
   "id": "cd26503b",
   "metadata": {},
   "outputs": [],
   "source": []
  }
 ],
 "metadata": {
  "kernelspec": {
   "display_name": "Python 3",
   "language": "python",
   "name": "python3"
  },
  "language_info": {
   "codemirror_mode": {
    "name": "ipython",
    "version": 3
   },
   "file_extension": ".py",
   "mimetype": "text/x-python",
   "name": "python",
   "nbconvert_exporter": "python",
   "pygments_lexer": "ipython3",
   "version": "3.8.8"
  }
 },
 "nbformat": 4,
 "nbformat_minor": 5
}
