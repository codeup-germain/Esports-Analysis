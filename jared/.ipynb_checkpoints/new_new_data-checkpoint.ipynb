{
 "cells": [
  {
   "cell_type": "code",
   "execution_count": 1,
   "id": "e401c379",
   "metadata": {},
   "outputs": [],
   "source": [
    "import pandas as pd\n",
    "from prepare import prep\n",
    "\n",
    "import requests\n",
    "\n",
    "from bs4 import BeautifulSoup\n",
    "\n",
    "from env import api_key\n",
    "\n",
    "pd.set_option(\"display.max_rows\", None, \"display.max_columns\", None)\n",
    "\n",
    "pd.reset_option(\"display.max_rows\", \"display.max_columns\")\n",
    "\n",
    "import re"
   ]
  },
  {
   "cell_type": "code",
   "execution_count": 2,
   "id": "4ec6cf6c",
   "metadata": {},
   "outputs": [],
   "source": [
    "game = 'NA1_4108071572'"
   ]
  },
  {
   "cell_type": "code",
   "execution_count": 148,
   "id": "89d81bf1",
   "metadata": {},
   "outputs": [],
   "source": [
    "game = 'NA1_4107000001'"
   ]
  },
  {
   "cell_type": "code",
   "execution_count": 149,
   "id": "4a1eec86",
   "metadata": {},
   "outputs": [
    {
     "data": {
      "text/plain": [
       "<Response [200]>"
      ]
     },
     "execution_count": 149,
     "metadata": {},
     "output_type": "execute_result"
    }
   ],
   "source": [
    "url = 'https://americas.api.riotgames.com/'\n",
    "\n",
    "query = f'lol/match/v5/matches/{game}?api_key={api_key}'\n",
    "response = requests.get(url+query)\n",
    "response"
   ]
  },
  {
   "cell_type": "code",
   "execution_count": 150,
   "id": "044a7f8c",
   "metadata": {},
   "outputs": [
    {
     "data": {
      "text/plain": [
       "'11.23.409.111'"
      ]
     },
     "execution_count": 150,
     "metadata": {},
     "output_type": "execute_result"
    }
   ],
   "source": [
    "response.json()['info']['gameVersion']"
   ]
  },
  {
   "cell_type": "code",
   "execution_count": 5,
   "id": "2d8c2f76",
   "metadata": {},
   "outputs": [
    {
     "name": "stdout",
     "output_type": "stream",
     "text": [
      "MATCHED_GAME\n",
      "MATCHED_GAME\n",
      "MATCHED_GAME\n",
      "MATCHED_GAME\n",
      "MATCHED_GAME\n",
      "MATCHED_GAME\n"
     ]
    }
   ],
   "source": [
    "url = 'https://americas.api.riotgames.com/'\n",
    "\n",
    "\n",
    "game = 4108071572\n",
    "for i in range(1,20):\n",
    "    game += i\n",
    "    \n",
    "    query = f'lol/match/v5/matches/NA1_{game}?api_key={api_key}'\n",
    "    response = requests.get(url+query)\n",
    "    \n",
    "    if response.status_code == 200:\n",
    "        if response.json()['info']['gameMode'] == \"CLASSIC\":\n",
    "            print(response.json()['info']['gameType'])"
   ]
  },
  {
   "cell_type": "code",
   "execution_count": 6,
   "id": "bf285be6",
   "metadata": {},
   "outputs": [],
   "source": [
    "game = 4108071572\n",
    "query = f'lol/match/v5/matches/NA1_{game}?api_key={api_key}'\n",
    "response = requests.get(url+query)\n"
   ]
  },
  {
   "cell_type": "code",
   "execution_count": 7,
   "id": "d7a0f405",
   "metadata": {},
   "outputs": [
    {
     "data": {
      "text/plain": [
       "'IftTZyiAsJ9Jxb5ZQYO4oWqiIAr2Cknptqbzd325XI0TYozTkH47yoqprx1V6-vCx2zwQCWFKXwq0w'"
      ]
     },
     "execution_count": 7,
     "metadata": {},
     "output_type": "execute_result"
    }
   ],
   "source": [
    "response.json()['info']['participants'][0]['puuid']"
   ]
  },
  {
   "cell_type": "code",
   "execution_count": 8,
   "id": "18226672",
   "metadata": {},
   "outputs": [],
   "source": [
    "version = '11.23.409.111'"
   ]
  },
  {
   "cell_type": "code",
   "execution_count": null,
   "id": "d365d447",
   "metadata": {},
   "outputs": [],
   "source": []
  },
  {
   "cell_type": "code",
   "execution_count": null,
   "id": "26df8f04",
   "metadata": {},
   "outputs": [],
   "source": []
  },
  {
   "cell_type": "code",
   "execution_count": 9,
   "id": "2f3665ed",
   "metadata": {},
   "outputs": [],
   "source": [
    "name = 'NoNoYogi'"
   ]
  },
  {
   "cell_type": "code",
   "execution_count": 10,
   "id": "3b4d968e",
   "metadata": {},
   "outputs": [],
   "source": [
    "response = requests.get(f\"https://na1.api.riotgames.com/lol/summoner/v4/summoners/by-name/{name}?api_key={api_key}\")"
   ]
  },
  {
   "cell_type": "code",
   "execution_count": 11,
   "id": "931d524c",
   "metadata": {},
   "outputs": [],
   "source": [
    "puuid =response.json()['puuid']"
   ]
  },
  {
   "cell_type": "code",
   "execution_count": 12,
   "id": "e699fadc",
   "metadata": {},
   "outputs": [
    {
     "data": {
      "text/plain": [
       "'lUUQTY9q0uMlVl8Xvc35KxOBgjK-Iktt1HwDNAoUuNy-lZFRJPcNTa9-4JqPhUliVV9c5edXJDcYaA'"
      ]
     },
     "execution_count": 12,
     "metadata": {},
     "output_type": "execute_result"
    }
   ],
   "source": [
    "puuid"
   ]
  },
  {
   "cell_type": "code",
   "execution_count": 13,
   "id": "fb21213f",
   "metadata": {},
   "outputs": [],
   "source": [
    "url = 'https://americas.api.riotgames.com/'\n",
    "\n",
    "query = f'lol/match/v5/matches/by-puuid/r9_mZslFIqwPMNiko362SeuZS7luHTEXapN_F-hpJv15KjtDipl4Z_b-YD2Mu6FvcI85MswOCXhW7A/ids?start=0&count=20&api_key={api_key}'"
   ]
  },
  {
   "cell_type": "code",
   "execution_count": null,
   "id": "6371462c",
   "metadata": {},
   "outputs": [],
   "source": []
  },
  {
   "cell_type": "code",
   "execution_count": 14,
   "id": "4fa99a1d",
   "metadata": {},
   "outputs": [
    {
     "ename": "NameError",
     "evalue": "name 'of_names' is not defined",
     "output_type": "error",
     "traceback": [
      "\u001b[0;31m---------------------------------------------------------------------------\u001b[0m",
      "\u001b[0;31mNameError\u001b[0m                                 Traceback (most recent call last)",
      "\u001b[0;32m<ipython-input-14-0ae3ff5d6ca1>\u001b[0m in \u001b[0;36m<module>\u001b[0;34m\u001b[0m\n\u001b[0;32m----> 1\u001b[0;31m \u001b[0mlist\u001b[0m\u001b[0;34m(\u001b[0m\u001b[0mof_names\u001b[0m\u001b[0;34m)\u001b[0m\u001b[0;34m\u001b[0m\u001b[0;34m\u001b[0m\u001b[0m\n\u001b[0m",
      "\u001b[0;31mNameError\u001b[0m: name 'of_names' is not defined"
     ]
    }
   ],
   "source": [
    "list(of_names)"
   ]
  },
  {
   "cell_type": "code",
   "execution_count": null,
   "id": "dfdd2aff",
   "metadata": {},
   "outputs": [],
   "source": [
    "go match id's each name in list of names\n",
    "\n",
    "for each match_id\n",
    "    if match < 14011231234\n",
    "        ignore\n",
    "    else\n",
    "        save it\n",
    "    exit loop save requsts\n"
   ]
  },
  {
   "cell_type": "code",
   "execution_count": 29,
   "id": "85654b09",
   "metadata": {},
   "outputs": [],
   "source": [
    "puuid = 'sGLv2FRGM2zyns9meQDl3ptak2BixXPnHHvwKisOncyLBPTacQ6js7VkEY7shVsAXPNPu2y3loYMJw'\n",
    "url = 'https://americas.api.riotgames.com/'\n",
    "query = f'lol/match/v5/matches/by-puuid/{puuid}/ids?start=0&count=5&api_key={api_key}'\n",
    "response = requests.get(url+query)\n",
    "match = response.json()"
   ]
  },
  {
   "cell_type": "code",
   "execution_count": 30,
   "id": "7e9a9efc",
   "metadata": {},
   "outputs": [
    {
     "data": {
      "text/plain": [
       "['NA1_4108956536',\n",
       " 'NA1_4108850585',\n",
       " 'NA1_4108794572',\n",
       " 'NA1_4107628004',\n",
       " 'NA1_4106461934']"
      ]
     },
     "execution_count": 30,
     "metadata": {},
     "output_type": "execute_result"
    }
   ],
   "source": [
    "match"
   ]
  },
  {
   "cell_type": "code",
   "execution_count": 27,
   "id": "acfe239c",
   "metadata": {},
   "outputs": [],
   "source": [
    "match_num = int(match[0].strip('NA1_'))"
   ]
  },
  {
   "cell_type": "code",
   "execution_count": 28,
   "id": "86d3ad7e",
   "metadata": {},
   "outputs": [
    {
     "data": {
      "text/plain": [
       "410504796"
      ]
     },
     "execution_count": 28,
     "metadata": {},
     "output_type": "execute_result"
    }
   ],
   "source": [
    "match_num"
   ]
  },
  {
   "cell_type": "code",
   "execution_count": 35,
   "id": "8ec0ca36",
   "metadata": {},
   "outputs": [],
   "source": [
    "def get_puuid(name):\n",
    "    response = requests.get(f\"https://na1.api.riotgames.com/lol/summoner/v4/summoners/by-name/{name}?api_key={api_key}\")\n",
    "    summoner_info = response.json()\n",
    "    puuid = summoner_info['puuid']\n",
    "    return puuid"
   ]
  },
  {
   "cell_type": "code",
   "execution_count": 37,
   "id": "63b5854e",
   "metadata": {},
   "outputs": [],
   "source": [
    "puuid = get_puuid('Huni')"
   ]
  },
  {
   "cell_type": "code",
   "execution_count": 12,
   "id": "43866723",
   "metadata": {},
   "outputs": [],
   "source": [
    "puuids = ['sGLv2FRGM2zyns9meQDl3ptak2BixXPnHHvwKisOncyLBPTacQ6js7VkEY7shVsAXPNPu2y3loYMJw']"
   ]
  },
  {
   "cell_type": "code",
   "execution_count": 32,
   "id": "be620932",
   "metadata": {},
   "outputs": [],
   "source": [
    "def get_new_match_ids(puuids):\n",
    "    match_list = []\n",
    "    pull_requests = 99\n",
    "    url = 'https://americas.api.riotgames.com/'\n",
    "    for puuid in puuids:\n",
    "        match_list_reseting = []\n",
    "        i = 0\n",
    "        while i < 20:\n",
    "            if pull_requests % 100 == 0:\n",
    "                print('sleeping')\n",
    "                pull_requests += 1\n",
    "            else:\n",
    "                pull_requests += 1\n",
    "                query = f'lol/match/v5/matches/by-puuid/{puuid}/ids?start={i}&count=1&api_key={api_key}'\n",
    "                response = requests.get(url+query)\n",
    "                match = response.json()\n",
    "                match_num = int(match[0].strip('NA1_'))\n",
    "                match_list_reseting.append(match)\n",
    "                if match_num > 4108071572:\n",
    "                    i += 1\n",
    "                    match_list.append(match)\n",
    "                else:\n",
    "                    print(f'{i} match ids pulled')\n",
    "                    #for match_id \n",
    "                    break\n",
    "                    \n",
    "    return match_list\n",
    "                "
   ]
  },
  {
   "cell_type": "code",
   "execution_count": 79,
   "id": "be3ddb28",
   "metadata": {},
   "outputs": [],
   "source": [
    "puuids = []"
   ]
  },
  {
   "cell_type": "code",
   "execution_count": 80,
   "id": "7ad32df6",
   "metadata": {},
   "outputs": [],
   "source": [
    "puuid = get_puuid('Darshan')"
   ]
  },
  {
   "cell_type": "code",
   "execution_count": 81,
   "id": "a192da57",
   "metadata": {},
   "outputs": [
    {
     "data": {
      "text/plain": [
       "'Hh3wEt1ouFUi2_6iRVmysvgEMuoXRwesZzFu3PkdBOY0c1nkoYY7MQEXY6u_tma69GeFCMxX7THjUQ'"
      ]
     },
     "execution_count": 81,
     "metadata": {},
     "output_type": "execute_result"
    }
   ],
   "source": [
    "puuid"
   ]
  },
  {
   "cell_type": "code",
   "execution_count": 85,
   "id": "6a8a9e2b",
   "metadata": {},
   "outputs": [],
   "source": [
    "url = 'https://americas.api.riotgames.com/'\n",
    "query = f'lol/match/v5/matches/by-puuid/{puuid}/ids?start=0&count=10&api_key={api_key}'\n",
    "response = requests.get(url+query)\n",
    "match = response.json()"
   ]
  },
  {
   "cell_type": "code",
   "execution_count": 87,
   "id": "3dfd3b18",
   "metadata": {},
   "outputs": [
    {
     "data": {
      "text/plain": [
       "0"
      ]
     },
     "execution_count": 87,
     "metadata": {},
     "output_type": "execute_result"
    }
   ],
   "source": [
    "len(match)"
   ]
  },
  {
   "cell_type": "code",
   "execution_count": 77,
   "id": "4791cf7c",
   "metadata": {},
   "outputs": [],
   "source": [
    "puuids.append(puuid)"
   ]
  },
  {
   "cell_type": "code",
   "execution_count": 78,
   "id": "37e035e4",
   "metadata": {},
   "outputs": [
    {
     "ename": "IndexError",
     "evalue": "list index out of range",
     "output_type": "error",
     "traceback": [
      "\u001b[0;31m---------------------------------------------------------------------------\u001b[0m",
      "\u001b[0;31mIndexError\u001b[0m                                Traceback (most recent call last)",
      "\u001b[0;32m<ipython-input-78-130aee801c6a>\u001b[0m in \u001b[0;36m<module>\u001b[0;34m\u001b[0m\n\u001b[0;32m----> 1\u001b[0;31m \u001b[0mmatch_list\u001b[0m \u001b[0;34m=\u001b[0m \u001b[0mget_new_match_ids\u001b[0m\u001b[0;34m(\u001b[0m\u001b[0mpuuids\u001b[0m\u001b[0;34m)\u001b[0m\u001b[0;34m\u001b[0m\u001b[0;34m\u001b[0m\u001b[0m\n\u001b[0m",
      "\u001b[0;32m<ipython-input-32-be7878398c41>\u001b[0m in \u001b[0;36mget_new_match_ids\u001b[0;34m(puuids)\u001b[0m\n\u001b[1;32m     15\u001b[0m                 \u001b[0mresponse\u001b[0m \u001b[0;34m=\u001b[0m \u001b[0mrequests\u001b[0m\u001b[0;34m.\u001b[0m\u001b[0mget\u001b[0m\u001b[0;34m(\u001b[0m\u001b[0murl\u001b[0m\u001b[0;34m+\u001b[0m\u001b[0mquery\u001b[0m\u001b[0;34m)\u001b[0m\u001b[0;34m\u001b[0m\u001b[0;34m\u001b[0m\u001b[0m\n\u001b[1;32m     16\u001b[0m                 \u001b[0mmatch\u001b[0m \u001b[0;34m=\u001b[0m \u001b[0mresponse\u001b[0m\u001b[0;34m.\u001b[0m\u001b[0mjson\u001b[0m\u001b[0;34m(\u001b[0m\u001b[0;34m)\u001b[0m\u001b[0;34m\u001b[0m\u001b[0;34m\u001b[0m\u001b[0m\n\u001b[0;32m---> 17\u001b[0;31m                 \u001b[0mmatch_num\u001b[0m \u001b[0;34m=\u001b[0m \u001b[0mint\u001b[0m\u001b[0;34m(\u001b[0m\u001b[0mmatch\u001b[0m\u001b[0;34m[\u001b[0m\u001b[0;36m0\u001b[0m\u001b[0;34m]\u001b[0m\u001b[0;34m.\u001b[0m\u001b[0mstrip\u001b[0m\u001b[0;34m(\u001b[0m\u001b[0;34m'NA1_'\u001b[0m\u001b[0;34m)\u001b[0m\u001b[0;34m)\u001b[0m\u001b[0;34m\u001b[0m\u001b[0;34m\u001b[0m\u001b[0m\n\u001b[0m\u001b[1;32m     18\u001b[0m                 \u001b[0mmatch_list_reseting\u001b[0m\u001b[0;34m.\u001b[0m\u001b[0mappend\u001b[0m\u001b[0;34m(\u001b[0m\u001b[0mmatch\u001b[0m\u001b[0;34m)\u001b[0m\u001b[0;34m\u001b[0m\u001b[0;34m\u001b[0m\u001b[0m\n\u001b[1;32m     19\u001b[0m                 \u001b[0;32mif\u001b[0m \u001b[0mmatch_num\u001b[0m \u001b[0;34m>\u001b[0m \u001b[0;36m4108071572\u001b[0m\u001b[0;34m:\u001b[0m\u001b[0;34m\u001b[0m\u001b[0;34m\u001b[0m\u001b[0m\n",
      "\u001b[0;31mIndexError\u001b[0m: list index out of range"
     ]
    }
   ],
   "source": [
    "match_list = get_new_match_ids(puuids)"
   ]
  },
  {
   "cell_type": "code",
   "execution_count": 73,
   "id": "3612e887",
   "metadata": {},
   "outputs": [
    {
     "data": {
      "text/plain": [
       "[['NA1_4109550067'],\n",
       " ['NA1_4108852879'],\n",
       " ['NA1_4108763084'],\n",
       " ['NA1_4108779827'],\n",
       " ['NA1_4108552716'],\n",
       " ['NA1_4108395728'],\n",
       " ['NA1_4108400397'],\n",
       " ['NA1_4108182773'],\n",
       " ['NA1_4108128493']]"
      ]
     },
     "execution_count": 73,
     "metadata": {},
     "output_type": "execute_result"
    }
   ],
   "source": [
    "match_list"
   ]
  },
  {
   "cell_type": "code",
   "execution_count": null,
   "id": "997b8205",
   "metadata": {},
   "outputs": [],
   "source": []
  }
 ],
 "metadata": {
  "kernelspec": {
   "display_name": "Python 3",
   "language": "python",
   "name": "python3"
  },
  "language_info": {
   "codemirror_mode": {
    "name": "ipython",
    "version": 3
   },
   "file_extension": ".py",
   "mimetype": "text/x-python",
   "name": "python",
   "nbconvert_exporter": "python",
   "pygments_lexer": "ipython3",
   "version": "3.8.8"
  }
 },
 "nbformat": 4,
 "nbformat_minor": 5
}
