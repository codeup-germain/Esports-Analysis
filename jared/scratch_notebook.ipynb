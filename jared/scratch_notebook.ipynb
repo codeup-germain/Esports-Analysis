{
 "cells": [
  {
   "cell_type": "code",
   "execution_count": 14,
   "id": "f7610ffc",
   "metadata": {},
   "outputs": [],
   "source": [
    "#For testing, import the user name\n",
    "from env import api_key\n",
    "import requests\n",
    "import pandas as pd\n",
    "from bs4 import BeautifulSoup\n",
    "from env import api_key\n",
    "from time import sleep\n",
    "import os\n",
    "\n",
    "pd.set_option(\"display.max_rows\", None, \"display.max_columns\", None)\n",
    "\n",
    "pd.reset_option(\"display.max_rows\", \"display.max_columns\")\n",
    "\n",
    "import re"
   ]
  },
  {
   "cell_type": "code",
   "execution_count": 17,
   "id": "1ff23bd4",
   "metadata": {},
   "outputs": [],
   "source": [
    "def build_extracted_df(username, path = './', time = 15):\n",
    "    \"\"\"\n",
    "    This function will take in a path for the json files stored in your directory. \n",
    "    It will then read all of them into a list, convert them to lists of dicts, and feed\n",
    "    them into the extract function. The time variable is for the extract function and determines\n",
    "    at what timeframe the data will be acquired for. The username is only used for naming the\n",
    "    .csv file at the end. Please use your last name to avoid confusion.\n",
    "    \n",
    "    This function returns a dataframe with data extracted for the specified time. \n",
    "    It also automatically saves this dataframe as a .csv.\n",
    "    \n",
    "    The path variable defaults to the current directory.\n",
    "    The time variable defaults to the 15 minute mark.\n",
    "    \n",
    "    You will need to have os imported to run this function.\n",
    "    \"\"\"\n",
    "    \n",
    "    #Gather the names of the timeline json files and sort them\n",
    "    #This will pull all files that start with 'timeline'\n",
    "    timeline_files = [ x for x in os.listdir(path) if x.startswith(\"timeline\") ]\n",
    "    timeline_files.sort()\n",
    "    \n",
    "    #Gather the names of the other game data json files and sort them\n",
    "    #This will pull all files that start with 'other'\n",
    "    other_data_files = [ x for x in os.listdir(path) if x.startswith(\"other\") ]\n",
    "    other_data_files.sort()\n",
    "    \n",
    "    #Will need an empty df to store the final df\n",
    "    extracted_df = pd.DataFrame()\n",
    "    \n",
    "    #Verify that the lists are the same length\n",
    "    if len(timeline_files) != len(other_data_files):\n",
    "        print('Something went wrong! The json lists are not equal!')\n",
    "        print('Stopping function.')\n",
    "        return"
   ]
  },
  {
   "cell_type": "code",
   "execution_count": 18,
   "id": "cbd40485",
   "metadata": {},
   "outputs": [],
   "source": [
    "df_15min = build_extracted_df(username = 'Jared', path = './', time = 15)"
   ]
  },
  {
   "cell_type": "code",
   "execution_count": 20,
   "id": "e5f26fb7",
   "metadata": {},
   "outputs": [
    {
     "data": {
      "text/plain": [
       "NoneType"
      ]
     },
     "execution_count": 20,
     "metadata": {},
     "output_type": "execute_result"
    }
   ],
   "source": [
    "type(df_15min)"
   ]
  },
  {
   "cell_type": "code",
   "execution_count": null,
   "id": "101264e6",
   "metadata": {},
   "outputs": [],
   "source": []
  }
 ],
 "metadata": {
  "kernelspec": {
   "display_name": "Python 3",
   "language": "python",
   "name": "python3"
  },
  "language_info": {
   "codemirror_mode": {
    "name": "ipython",
    "version": 3
   },
   "file_extension": ".py",
   "mimetype": "text/x-python",
   "name": "python",
   "nbconvert_exporter": "python",
   "pygments_lexer": "ipython3",
   "version": "3.8.8"
  }
 },
 "nbformat": 4,
 "nbformat_minor": 5
}
