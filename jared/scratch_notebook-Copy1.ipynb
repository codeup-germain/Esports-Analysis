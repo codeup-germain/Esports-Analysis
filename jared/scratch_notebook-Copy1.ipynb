{
 "cells": [
  {
   "cell_type": "code",
   "execution_count": 2,
   "id": "8765d8f8",
   "metadata": {},
   "outputs": [],
   "source": [
    "#For testing, import the user name\n",
    "from env import api_key\n",
    "import requests\n",
    "import pandas as pd\n",
    "from bs4 import BeautifulSoup\n",
    "from env import api_key\n",
    "from time import sleep\n",
    "import seaborn as sns\n",
    "from scipy import stats\n",
    "import matplotlib.pyplot as plt\n",
    "import os\n",
    "from acquire import *\n",
    "from prepare import *\n",
    "\n",
    "pd.set_option(\"display.max_rows\", None, \"display.max_columns\", None)\n",
    "\n",
    "pd.reset_option(\"display.max_rows\", \"display.max_columns\")\n",
    "\n",
    "import re"
   ]
  },
  {
   "cell_type": "code",
   "execution_count": 3,
   "id": "d73e75b1",
   "metadata": {},
   "outputs": [],
   "source": [
    "df_10 = pd.read_csv('final_10.csv')"
   ]
  },
  {
   "cell_type": "code",
   "execution_count": 4,
   "id": "4bd36184",
   "metadata": {},
   "outputs": [],
   "source": [
    "df_10.drop(columns = ['Unnamed: 0'],inplace = True)"
   ]
  },
  {
   "cell_type": "code",
   "execution_count": 5,
   "id": "5993ce66",
   "metadata": {},
   "outputs": [],
   "source": [
    "df = df_10"
   ]
  },
  {
   "cell_type": "code",
   "execution_count": null,
   "id": "ec07d613",
   "metadata": {},
   "outputs": [],
   "source": [
    "train,test = prepare(df)"
   ]
  },
  {
   "cell_type": "code",
   "execution_count": null,
   "id": "5174f4e8",
   "metadata": {},
   "outputs": [],
   "source": [
    "train['BlueTeamLevelDifference'] = train.BlueTeamLevel - train.RedTeamLevel"
   ]
  },
  {
   "cell_type": "code",
   "execution_count": null,
   "id": "94c402f0",
   "metadata": {},
   "outputs": [],
   "source": [
    "train['BlueTeamLevelDifference'] = train.BlueTeamLevel - train.RedTeamLevel\n",
    "train['BlueTeamXpDifference'] = train.BlueTeamXp - train.RedTeamXp\n",
    "train['BlueTeamWardDifference'] = train.BlueTeamWards - train.RedTeamWards\n",
    "train['blueteam_win'] = train['winningTeam'] == 100"
   ]
  },
  {
   "cell_type": "code",
   "execution_count": null,
   "id": "0adeca52",
   "metadata": {},
   "outputs": [],
   "source": [
    "train['BlueTeamXpDifference'] = train.BlueTeamXp - train.RedTeamXp"
   ]
  },
  {
   "cell_type": "code",
   "execution_count": null,
   "id": "8f9b9b0c",
   "metadata": {},
   "outputs": [],
   "source": [
    "train['BlueTeamWardDifference'] = train.BlueTeamWards - train.RedTeamWards"
   ]
  },
  {
   "cell_type": "code",
   "execution_count": null,
   "id": "16413b7a",
   "metadata": {},
   "outputs": [],
   "source": [
    "train['blueteam_win'] = train['winningTeam'] == 100"
   ]
  },
  {
   "cell_type": "code",
   "execution_count": null,
   "id": "f3f18b5d",
   "metadata": {},
   "outputs": [],
   "source": [
    "train.drop(columns = ['gameMode',\n",
    "                     'gameName',\n",
    "                     'gameStartTimestamp',\n",
    "                     'gameType',\n",
    "                     'gameVersion',\n",
    "                     'matchId',\n",
    "                     'queueId',\n",
    "                     'time_cutoff',\n",
    "                     'timestamp',\n",
    "                     'goldPerSecond_1',\n",
    "                     'goldPerSecond_2',\n",
    "                     'goldPerSecond_3',\n",
    "                     'goldPerSecond_4',\n",
    "                     'goldPerSecond_5',\n",
    "                     'goldPerSecond_6',\n",
    "                     'goldPerSecond_7',\n",
    "                     'goldPerSecond_8',\n",
    "                     'goldPerSecond_9',\n",
    "                     'goldPerSecond_10',\n",
    "                      'level_1',\n",
    "                      'level_2',\n",
    "                      'level_3',\n",
    "                      'level_4',\n",
    "                      'level_5',\n",
    "                      'level_6',\n",
    "                      'level_7',\n",
    "                      'level_8',\n",
    "                      'level_9',\n",
    "                      'level_10',\n",
    "                      'currentGold_1',\n",
    "                      'currentGold_2',\n",
    "                      'currentGold_3',\n",
    "                      'currentGold_4',\n",
    "                      'currentGold_5',\n",
    "                      'currentGold_6',\n",
    "                      'currentGold_7',\n",
    "                      'currentGold_8',\n",
    "                      'currentGold_9',\n",
    "                      'currentGold_10',\n",
    "                     'BlueTeamGoldPerSec',\n",
    "                     'RedTeamGoldPerSec',\n",
    "                     'BlueTeamLevel',\n",
    "                     'RedTeamLevel',\n",
    "                     'inhibs_lost_team200',\n",
    "                     'winningTeam',\n",
    "                     'riftherald_team300',\n",
    "                     'baron_team100'],inplace = True)"
   ]
  },
  {
   "cell_type": "code",
   "execution_count": null,
   "id": "19c3fa61",
   "metadata": {},
   "outputs": [],
   "source": [
    "train"
   ]
  },
  {
   "cell_type": "code",
   "execution_count": null,
   "id": "78f9a6ae",
   "metadata": {},
   "outputs": [],
   "source": [
    "btwin_train = train[train.blueteam_win == True]"
   ]
  },
  {
   "cell_type": "markdown",
   "id": "94c53063",
   "metadata": {},
   "source": [
    "1. Top\n",
    "2. Jungle\n",
    "3. Mid\n",
    "4. Bot\n",
    "5. Support\n",
    "6. Top\n",
    "7. Jungle\n",
    "8. Mid\n",
    "9. Bot\n",
    "10. Support"
   ]
  },
  {
   "cell_type": "code",
   "execution_count": null,
   "id": "d270f3d8",
   "metadata": {},
   "outputs": [],
   "source": [
    "rtwin_train = train[train.blueteam_win == False]"
   ]
  },
  {
   "cell_type": "code",
   "execution_count": null,
   "id": "3fe4fabb",
   "metadata": {
    "scrolled": false
   },
   "outputs": [],
   "source": [
    "# Game duration correlation when blue team wins\n",
    "plt.figure(figsize = (8,60))\n",
    "heatmap = sns.heatmap(btwin_train.corr()[['gameDuration']].sort_values(by = 'gameDuration',ascending = False),vmin = -.5,vmax = .5,annot = True, cmap = 'plasma')\n",
    "heatmap.set_title('Features Correlation With gameDuration')"
   ]
  },
  {
   "cell_type": "code",
   "execution_count": null,
   "id": "3fcf999e",
   "metadata": {
    "scrolled": false
   },
   "outputs": [],
   "source": [
    "# Game duration correlation when red team wins\n",
    "plt.figure(figsize = (8,60))\n",
    "heatmap = sns.heatmap(rtwin_train.corr()[['gameDuration']].sort_values(by = 'gameDuration',ascending = False),vmin = -.5,vmax = .5,annot = True, cmap = 'plasma')\n",
    "heatmap.set_title('Features Correlation With gameDuration')"
   ]
  },
  {
   "cell_type": "code",
   "execution_count": null,
   "id": "eee23f89",
   "metadata": {
    "scrolled": false
   },
   "outputs": [],
   "source": [
    "# game duration correlation for both teams\n",
    "plt.figure(figsize = (8,60))\n",
    "heatmap = sns.heatmap(train.corr()[['gameDuration']].sort_values(by = 'gameDuration',ascending = False),vmin = -.5,vmax = .5,annot = True, cmap = 'plasma')\n",
    "heatmap.set_title('Features Correlation With gameDuration')"
   ]
  },
  {
   "cell_type": "code",
   "execution_count": null,
   "id": "5f04e5d2",
   "metadata": {
    "scrolled": false
   },
   "outputs": [],
   "source": [
    "# blue team gold difference correlation\n",
    "plt.figure(figsize = (8,60))\n",
    "heatmap = sns.heatmap(train.corr()[['BlueTeamTotalGoldDifference']].sort_values(by = 'BlueTeamTotalGoldDifference',ascending = False),vmin = -.5,vmax = .5,annot = True, cmap = 'plasma')\n",
    "heatmap.set_title('Features Correlation With Blue Team Winning')"
   ]
  },
  {
   "cell_type": "code",
   "execution_count": null,
   "id": "57f2ffd6",
   "metadata": {
    "scrolled": false
   },
   "outputs": [],
   "source": [
    "\n",
    "plt.figure(figsize = (8,60))\n",
    "heatmap = sns.heatmap(btwin_train.corr()[['BlueTeamTotalGoldDifference']].sort_values(by = 'BlueTeamTotalGoldDifference',ascending = False),vmin = -.5,vmax = .5,annot = True, cmap = 'plasma')\n",
    "heatmap.set_title('Features Correlation With Blue Team Winning')"
   ]
  },
  {
   "cell_type": "code",
   "execution_count": null,
   "id": "19f3ce3d",
   "metadata": {
    "scrolled": false
   },
   "outputs": [],
   "source": [
    "plt.figure(figsize = (8,60))\n",
    "heatmap = sns.heatmap(train.corr()[['RedTeamTotalGoldDifference']].sort_values(by = 'RedTeamTotalGoldDifference',ascending = False),vmin = -.5,vmax = .5,annot = True, cmap = 'plasma')\n",
    "heatmap.set_title('Features Correlation With Blue Team Winning')"
   ]
  },
  {
   "cell_type": "code",
   "execution_count": null,
   "id": "38715918",
   "metadata": {
    "scrolled": false
   },
   "outputs": [],
   "source": [
    "plt.figure(figsize = (8,60))\n",
    "heatmap = sns.heatmap(rtwin_train.corr()[['RedTeamTotalGoldDifference']].sort_values(by = 'BlueTeamTotalGoldDifference',ascending = False),vmin = -.5,vmax = .5,annot = True, cmap = 'plasma')\n",
    "heatmap.set_title('Features Correlation With Blue Team Winning')"
   ]
  },
  {
   "cell_type": "code",
   "execution_count": null,
   "id": "725fa667",
   "metadata": {
    "scrolled": false
   },
   "outputs": [],
   "source": [
    "plt.figure(figsize = (8,60))\n",
    "heatmap = sns.heatmap(train.corr()[['blueteam_win']].sort_values(by = 'blueteam_win',ascending = False),vmin = -.5,vmax = .5,annot = True, cmap = 'plasma')\n",
    "heatmap.set_title('Features Correlation With Blue Team Winning')"
   ]
  },
  {
   "cell_type": "code",
   "execution_count": null,
   "id": "631bda66",
   "metadata": {
    "scrolled": false
   },
   "outputs": [],
   "source": [
    "plt.figure(figsize = (8,60))\n",
    "heatmap = sns.heatmap(train.corr()[['redteam_win']].sort_values(by = 'redteam_win',ascending = False),vmin = -.5,vmax = .5,annot = True, cmap = 'plasma')\n",
    "heatmap.set_title('Features Correlation With red Team Winning')"
   ]
  },
  {
   "cell_type": "code",
   "execution_count": null,
   "id": "eb5ca744",
   "metadata": {},
   "outputs": [],
   "source": []
  }
 ],
 "metadata": {
  "kernelspec": {
   "display_name": "Python 3",
   "language": "python",
   "name": "python3"
  },
  "language_info": {
   "codemirror_mode": {
    "name": "ipython",
    "version": 3
   },
   "file_extension": ".py",
   "mimetype": "text/x-python",
   "name": "python",
   "nbconvert_exporter": "python",
   "pygments_lexer": "ipython3",
   "version": "3.8.8"
  }
 },
 "nbformat": 4,
 "nbformat_minor": 5
}
