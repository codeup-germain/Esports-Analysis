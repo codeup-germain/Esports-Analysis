{
 "cells": [
  {
   "cell_type": "code",
   "execution_count": null,
   "id": "5ec7fe63",
   "metadata": {},
   "outputs": [],
   "source": [
    "# Standard Data Science Utility Belt\n",
    "import pandas as pd\n",
    "import numpy as np\n",
    "import seaborn as sns\n",
    "import matplotlib.pyplot as plt\n",
    "from matplotlib.pyplot import figure\n",
    "\n",
    "# User defined methods\n",
    "#from wrangle import wrangle, wrangle_explore\n",
    "from acquire import acquire,team_data_list\n",
    "import prepare\n",
    "import model\n",
    "import env\n",
    "#from functions import get_data_dictionary\n",
    "\n",
    "# Stats\n",
    "from scipy.stats import mannwhitneyu, wilcoxon\n",
    "from scipy.stats import levene\n",
    "\n",
    "# Sklearn Modeling\n",
    "from sklearn.model_selection import train_test_split\n",
    "from sklearn.tree import DecisionTreeClassifier\n",
    "from sklearn.tree import export_graphviz\n",
    "from sklearn.metrics import classification_report\n",
    "from sklearn.metrics import confusion_matrix\n",
    "from sklearn.ensemble import RandomForestClassifier\n",
    "from sklearn.neighbors import KNeighborsClassifier\n",
    "from sklearn.linear_model import LogisticRegression\n",
    "\n",
    "# Viewing Options\n",
    "pd.set_option(\"display.max_rows\", None, \"display.max_columns\", None) \n",
    "pd.reset_option(\"display.max_rows\", \"display.max_columns\")\n",
    "\n",
    "# Ignore Warnings\n",
    "import warnings\n",
    "warnings.filterwarnings(\"ignore\")"
   ]
  },
  {
   "cell_type": "markdown",
   "id": "39efb88c",
   "metadata": {},
   "source": [
    "# Project Planning"
   ]
  },
  {
   "cell_type": "markdown",
   "id": "bdc2db64",
   "metadata": {},
   "source": [
    "### Project and Goals\n",
    "\n",
    "        Create a machine learning model that can accuratly predict the win/loss outcome of a professional League of Legends match by the 10 minute mark."
   ]
  },
  {
   "cell_type": "markdown",
   "id": "53854e12",
   "metadata": {},
   "source": [
    "### Original Hypothesis\n",
    "\n",
    "    The biggest driver for predicting win rates will be the data on 'Towers lost'."
   ]
  },
  {
   "cell_type": "markdown",
   "id": "8689068a",
   "metadata": {},
   "source": [
    "### Domain Knowledge Quick Tip\n",
    "\n",
    "\n",
    "    League of Legends is a multiplayer online battle arena (MOBA) game in which the player controls a character (\"champion\") with a set of unique abilities from an isometric perspective.  As of April 2021, there are 155 champions available to play. Over the course of a match, champions gain levels by accruing experience points (XP) through killing enemies. Items also increase champions' strength, and are bought with gold, which players accrue passively over time and earn actively by defeating the opposing team's minions, champions, or defensive structures. In the main game mode, Summoner's Rift, items are purchased through a shop menu available to players only when their champion is in the team's base. Each match is discrete; levels and items do not transfer from one match to another."
   ]
  },
  {
   "cell_type": "markdown",
   "id": "63570dc9",
   "metadata": {},
   "source": [
    "### The Plan\n",
    "\n",
    "    Setup the environment, create a new repository, update the .gitignore, create a README.md with the data and common termonology dictionaries, create a trello board, come up with an original hypothesis and setup a morning standup living document.\n",
    "    \n",
    "    Acquire the data using the riot API.\n",
    "    \n",
    "    Clean the data, drop any useless features, remove duplicate observations, double check data-types, find any null values, decide what do with null values, and encode the features.\n",
    "    \n",
    "    Split the Data, into three data sets named train and test.\n",
    "    \n",
    "    Explore the data, look through the graphs and evaluate each feature to find drivers of predicting win rates.  Exploration will also include two hypotheses, setting of alpha, statistical tests, rejecting or failing to reject the null hypothesis, and documentation of the findings and takeaways.\n",
    "    \n",
    "    Create Models, create three machine learning models plus a baseline model.  Will be using a DecisionTreeClassifier, RandomForestClassifier, and KNeighborsClassifier.  Evaluate models on train and validate datasets.  Pick the model with highest validate accuracy to run on my final test data.\n",
    "    \n",
    "    Wrap it up, document conclusions, recommendations, and take aways in the final report notebook.  Create a presentation. "
   ]
  },
  {
   "cell_type": "markdown",
   "id": "73c3fa61",
   "metadata": {},
   "source": [
    "# Executive Summary - Conclusions & Next Steps"
   ]
  },
  {
   "cell_type": "markdown",
   "id": "efa9f7e8",
   "metadata": {},
   "source": [
    "### Conclusion\n",
    "\n",
    "    Our random forest classifier model accuracy average using cross validation was roughly 97% beating our baseline accuracy by 42%.\n",
    "    \n",
    "    Our model confirmed that our original hypothesis of 'TeamWards' being the biggest driver of win rates was incorrect.  Our models feature importance concluded that 'towers_lost' was the biggest driver in predicting win rates. \n",
    "    \n",
    "    Our model identified the most important features as:\n",
    "        \n",
    "        'towers_lost_'\n",
    "        'inhibs_lost_team200'\n",
    "        'baron_team100'\n",
    "        'dragon_team100'\n",
    "        'team_totalGold_100'\n",
    "        'team_xp_100'\n",
    "        \n",
    "    If we had more time we would have liked to:\n",
    "    \n",
    "        - run our model on non-pro games & see if 'towers_lost' is still the biggest driver for predicting win rates\n",
    "        - dive deeper into what are the drivers for gaining towers\n",
    "        - engineer more features\n",
    "        - predict a winner at a much earlier time than 20 min into a game\n",
    "        "
   ]
  },
  {
   "cell_type": "markdown",
   "id": "bd56099b",
   "metadata": {},
   "source": [
    "### Recommendations\n",
    "\n",
    "    The data suggests:  \n",
    "    \n",
    "    - If you are a coach, revolving your team stragety around objectives can lead to more wins. \n",
    "    \n",
    "    - If you are player, encouraging memebers of ones team to work around objectives can lead to more wins. "
   ]
  },
  {
   "cell_type": "markdown",
   "id": "b58d503d",
   "metadata": {},
   "source": [
    "### Key Takeaways\n",
    "\n",
    "    We used event data from the Riot API to calcuate what the value of each oberservation was at the 10 min marker.\n",
    "    \n",
    "    The only 'gameType' used was \"classic\".  Which means all the data is from the most popular game mode and on the same map.\n",
    "\n",
    "    Games were pulled from various game patches to include:\n",
    "\n",
    "        '11.10.376.4811'\n",
    "        '11.11.377.6311'\n",
    "        '11.12.379.4946'\n",
    "        '11.13.382.1241'\n",
    "        '11.14.384.6677'\n",
    "        '11.14.385.9967'\n",
    "        '11.15.388.2387'\n",
    "        '11.15.389.2308'\n",
    "        '11.16.390.1945'\n",
    "        '11.17.393.607'\n",
    "        '11.17.394.4489'\n",
    "        '11.18.395.7538'\n",
    "        '11.19.398.2521'\n",
    "        '11.19.398.9466'\n",
    "        '11.20.400.7328'\n",
    "        '11.21.403.3002'\n",
    "        '11.22.406.3587'\n",
    "        '11.23.409.111'"
   ]
  },
  {
   "cell_type": "markdown",
   "id": "0d8820ed",
   "metadata": {},
   "source": [
    "# Data Acquisition (Jared)"
   ]
  },
  {
   "cell_type": "code",
   "execution_count": null,
   "id": "33814176",
   "metadata": {},
   "outputs": [],
   "source": [
    "df = pd.read_csv('final_10.csv')"
   ]
  },
  {
   "cell_type": "markdown",
   "id": "40a46cbb",
   "metadata": {},
   "source": [
    "# Preparation"
   ]
  },
  {
   "cell_type": "code",
   "execution_count": null,
   "id": "58b003b5",
   "metadata": {},
   "outputs": [],
   "source": [
    "df = prepare.clean(df)"
   ]
  },
  {
   "cell_type": "code",
   "execution_count": null,
   "id": "9b1bcda9",
   "metadata": {
    "scrolled": false
   },
   "outputs": [],
   "source": [
    "### .info(), .head(), .describe()\n",
    "df.info(verbose=True)"
   ]
  },
  {
   "cell_type": "code",
   "execution_count": null,
   "id": "58bc754d",
   "metadata": {},
   "outputs": [],
   "source": [
    "df.head()"
   ]
  },
  {
   "cell_type": "code",
   "execution_count": null,
   "id": "08f61035",
   "metadata": {},
   "outputs": [],
   "source": [
    "df.describe().T"
   ]
  },
  {
   "cell_type": "markdown",
   "id": "62c2301a",
   "metadata": {},
   "source": [
    "### Distribution - \"Team Data Stats\""
   ]
  },
  {
   "cell_type": "markdown",
   "id": "b6dd2c33",
   "metadata": {},
   "source": [
    "    We will only be graphing team data stats for 'blue team' due to the amount of features in the this df.  \n",
    "    \n",
    "    These features are:\n",
    "    \n",
    "         'riftherald_team100',\n",
    "         'inhibs_lost_team100',\n",
    "         'team_totalGold_100',\n",
    "         'team_trueDamageDoneToChampions_100',\n",
    "         'team_ward_player_100',\n",
    "         'team_assistsplayer_100',\n",
    "         'team_xp_100',\n",
    "         'team_deathsplayer_100',\n",
    "         'team_jungleMinionsKilled_100',\n",
    "         'team_killsplayer_100',\n",
    "         'team_level_100',\n",
    "         'team_magicDamageDoneToChampions_100',\n",
    "         'team_minionsKilled_100',\n",
    "         'team_physicalDamageDoneToChampions_100',\n",
    "         'team_timeEnemySpentControlled_100']"
   ]
  },
  {
   "cell_type": "code",
   "execution_count": null,
   "id": "2ed814ed",
   "metadata": {
    "scrolled": false
   },
   "outputs": [],
   "source": [
    "# data distributions for blue team.\n",
    "fig, axs = plt.subplots(5,3, sharey = False, figsize = (25,20))\n",
    "axe = axs.ravel()\n",
    "sns.set(font_scale = 1.25)\n",
    "for i,col in enumerate(team_data_list):\n",
    "    p = df[col].plot.hist(ax = axe[i],title = col, ec = 'black',bins = 10)\n",
    "    p.set_title(col,fontsize = 20)\n",
    "    plt.tight_layout()"
   ]
  },
  {
   "cell_type": "markdown",
   "id": "37509ed8",
   "metadata": {},
   "source": [
    "### Data Dictionary\n",
    "| Feature                    | Datatype                | Definition   |\n",
    "|:----------------------|:------------------------|:-------------|\n",
    "| RedTeamKills|int64|Gives a total of the red teams kills.|\n",
    "| BlueTeamKills|int64|Gives a total of the blue teams kills|\n",
    "| RedTeamTowerKills|int64|Gives a total of the number of towers taken by the red team|\n",
    "| BlueTeamTowerKills|int64|Gives a total of the number of towers taken by the blue team|\n",
    "| RedTeamTowerAssists|int64|Gives the total number of assists on the red team|\n",
    "| BlueTeamTowerAssists|int64|Gives the total number of assists on the blue team|\n",
    "| RedTeamAvgLvl|int64|Takes the mean level of all the players on the red team|\n",
    "| BlueTeamAvgLvl|int64|Takes the mean level of all the players on the blue team|\n",
    "| RedTeamGoldSpent|int64|Gives a total amount of gold spent by the red team|\n",
    "| BlueTeamGoldSpent|int64|Gives a total amount of gold spent by the blue team|\n",
    "| RedTeamDragons|int64|Gives a total number of dragons killed by the red team|\n",
    "| BlueTeamDragons|int64|Gives a total number of dragons killed by the blue team|\n",
    "| RedTeamHeralds|int64|Gives a total number of heralds killed by the red team|\n",
    "| BlueTeamHeralds|int64|Gives a total number of heralds killed by the blue team|\n",
    "| RedTeamBarons|int64|Gives a total number of barons killed by the red team|\n",
    "| BlueTeamBarons|int64|Gives a total number of barons killed by the blue team|\n",
    "| RedTeamInhibTaken|int64|Gives a total number of inhibitors taken by the red team|\n",
    "| BlueTeamInhibTaken|int64|Gives a total number of inhibitors taken by the blue team|"
   ]
  },
  {
   "cell_type": "markdown",
   "id": "205d57da",
   "metadata": {},
   "source": [
    "## Target Feature - 'winningTeam"
   ]
  },
  {
   "cell_type": "markdown",
   "id": "6aee9c84",
   "metadata": {},
   "source": [
    "    Riot API's code convention\n",
    "    \n",
    "        BlueTeam = 100.0\n",
    "    \n",
    "        RedTeam = 200.0"
   ]
  },
  {
   "cell_type": "code",
   "execution_count": null,
   "id": "8176f2b9",
   "metadata": {},
   "outputs": [],
   "source": [
    "# Target feature was engineered from total.Cup.Points\n",
    "df['winningTeam'].value_counts()"
   ]
  },
  {
   "cell_type": "markdown",
   "id": "a5ac00de",
   "metadata": {},
   "source": [
    "### Target Distribution"
   ]
  },
  {
   "cell_type": "code",
   "execution_count": null,
   "id": "c71ea46b",
   "metadata": {},
   "outputs": [],
   "source": [
    "# Graphing the Distribution\n",
    "sns.set(font_scale = 1)\n",
    "df.winningTeam.hist()\n",
    "plt.title(\"Target 'winningTeam' distribution\")\n",
    "plt.show()"
   ]
  },
  {
   "cell_type": "markdown",
   "id": "d8dfb880",
   "metadata": {},
   "source": [
    "### Acquire takeaway\n",
    "\n",
    "    Summoner names were webscraped from popular sites:\n",
    "    \n",
    "        https://na.op.gg/ranking/ladder/\n",
    "        https://www.trackingthepros.com/players/na/\n",
    "        \n",
    "    Only selected the data from the top 3000 playes in the North American server.\n",
    "    \n",
    "    Includes only skill levels of: \n",
    "    \n",
    "        - masters\n",
    "        - grandmasters\n",
    "        - challenger\n",
    "        - professionals\n",
    "    \n",
    "    Riot api was used to get puuid numbers from players.\n",
    "    \n",
    "    Puuid numbers are used to get match lists from the players match histories.\n",
    "    \n",
    "    The match lists of games that were longer than 10 min were used to get json files that were prepared into the nice tidy dataframe."
   ]
  },
  {
   "cell_type": "markdown",
   "id": "a3f5675b",
   "metadata": {},
   "source": [
    "# Prepare"
   ]
  },
  {
   "cell_type": "markdown",
   "id": "2b8a48fc",
   "metadata": {},
   "source": [
    "#### Dropped Columns\n",
    "\n",
    "    The following column got dropped because it didn't offer any value:\n",
    "    \n",
    "        - killsplayer_0\n",
    "\n",
    "    It represents how many kills were made by game objects, not players, and contains several null values."
   ]
  },
  {
   "cell_type": "markdown",
   "id": "a772612d",
   "metadata": {},
   "source": [
    "#### Handle Nulls\n",
    "    \n",
    "    Filled in all missing values with a 0. \n",
    "    \n",
    "    Nans were given when a player didn't have any value for any particular feature.  "
   ]
  },
  {
   "cell_type": "markdown",
   "id": "773e43bf",
   "metadata": {},
   "source": [
    "#### Convert Data Types\n",
    "\n",
    "    No data types were converted"
   ]
  },
  {
   "cell_type": "markdown",
   "id": "b099adfa",
   "metadata": {},
   "source": [
    "#### Rename\n",
    "\n",
    "    Changed the following columns names to something with more readability: \n",
    "    \n",
    "    BlueTeam\n",
    "    \n",
    "        - deathsplayer_100 -> BlueTeamDeaths\n",
    "        \n",
    "        - goldPerSecond_100 -> BlueTeamGoldPerSecond\n",
    "        \n",
    "        - jungleMinionsKilled_100 -> BlueTeamJungleMinionsKilled\n",
    "        \n",
    "        - killsplayer_100 -> BlueTeamKills\n",
    "        \n",
    "        - level_100 -> BlueTeamLevel\n",
    "        \n",
    "        - magicDamageDoneToChampions100 -> BlueTeamMagicDamageDoneToChampions\n",
    "        \n",
    "        - minionsKilled_100 -> BlueTeamMinionsKilled\n",
    "        \n",
    "        - physicalDamageDoneToChampions_100 -> BlueTeamPhysicalDamageDoneToChampions\n",
    "        \n",
    "        - timeEnemySpentControlled_100 -> BlueTeamTimeEnemySpentControlled\n",
    "        \n",
    "        - totalDamageDoneToChampions_100 -> BlueTeamTotalDamageDoneToChampions\n",
    "        \n",
    "        - totalGold_100 -> BlueTeamTotalGold\n",
    "        \n",
    "        - trueDamageDoneToChampions_100 -> BlueTeamTrueDamageDoneToChampions\n",
    "        \n",
    "        - ward_player_100 -> BlueTeamWard_player\n",
    "        \n",
    "        - assistsplayer_100 -> BlueTeamAssistsplayer\n",
    "        \n",
    "        - xp_100 -> BlueTeamXP\n",
    "        \n",
    "        \n",
    "    RedTeam\n",
    "    \n",
    "        - deathsplayer_200 -> RedTeamDeaths\n",
    "        \n",
    "        - goldPerSecond_200 -> RedTeamGoldPerSecond\n",
    "        \n",
    "        - jungleMinionsKilled_200 -> RedTeamJungleMinionsKilled\n",
    "        \n",
    "        - killsplayer_200 -> RedTeamKills\n",
    "        \n",
    "        - level_200 -> RedTeamLevel\n",
    "        \n",
    "        - magicDamageDoneToChampions200 -> RedTeamMagicDamageDoneToChampions\n",
    "        \n",
    "        - minionsKilled_200 -> RedTeamMinionsKilled\n",
    "        \n",
    "        - physicalDamageDoneToChampions_200 -> RedTeamPhysicalDamageDoneToChampions\n",
    "        \n",
    "        - timeEnemySpentControlled_200 -> RedTeamTimeEnemySpentControlled\n",
    "        \n",
    "        - totalDamageDoneToChampions_200 -> RedTeamTotalDamageDoneToChampions\n",
    "        \n",
    "        - totalGold_200 -> RedTeamTotalGold\n",
    "        \n",
    "        - trueDamageDoneToChampions_200 -> RedTeamTrueDamageDoneToChampions\n",
    "        \n",
    "        - ward_player_200 -> RedTeamWard_player\n",
    "        \n",
    "        - assistsplayer_200 -> RedTeamAssistsplayer\n",
    "        \n",
    "        - xp_200 -> RedTeamXP"
   ]
  },
  {
   "cell_type": "markdown",
   "id": "2c888255",
   "metadata": {},
   "source": [
    "#### Engineered Features\n",
    "\n",
    "    - BlueTeamTotalGoldDifference = BlueTeamTotalGold - RedTeamTotalGold\n",
    "    \n",
    "    - RedTeamTotalGoldDifference = RedTeamTotalGold - BlueTeamTotalGold\n",
    "    \n",
    "    - BlueTeamMVPKills = Blue teams highest individual kill count \n",
    "    \n",
    "    - RedTeamMVPKills = Red teams highest individual kill count "
   ]
  },
  {
   "cell_type": "markdown",
   "id": "56ca89dd",
   "metadata": {},
   "source": [
    "#### Removed Outliers\n",
    "    \n",
    "    No outliers were removed."
   ]
  },
  {
   "cell_type": "markdown",
   "id": "b48397ca",
   "metadata": {},
   "source": [
    "#### Scaling\n",
    "    No scaling was done."
   ]
  },
  {
   "cell_type": "markdown",
   "id": "c65fa42c",
   "metadata": {},
   "source": [
    "#### Encode\n",
    "\n",
    "    Created dummy columns for:\n",
    "    \n",
    "        - gameVersion\n",
    "        "
   ]
  },
  {
   "cell_type": "markdown",
   "id": "3875fb06",
   "metadata": {},
   "source": [
    "#### Split\n",
    "\n",
    "    Split data into three data frames:\n",
    "    \n",
    "        - train\n",
    "        - test\n",
    "        \n",
    "    Used a random_state of 123"
   ]
  },
  {
   "cell_type": "markdown",
   "id": "2cdaf87c",
   "metadata": {},
   "source": [
    "### Prepare Takeaway\n",
    "    \n",
    "    - All features and observations have no null or empty values.\n",
    "    \n",
    "    - Most of the data was already prepped the way we needed it because we pulled the data off of JSON files ourselves."
   ]
  },
  {
   "cell_type": "markdown",
   "id": "c2aa4bf2",
   "metadata": {},
   "source": [
    "# Exploration"
   ]
  },
  {
   "cell_type": "code",
   "execution_count": null,
   "id": "bb6bcc40",
   "metadata": {
    "scrolled": false
   },
   "outputs": [],
   "source": [
    "# Using wrangle_explore because the values wont be scaled or encoded\n",
    "train, test = prep(acquire())"
   ]
  },
  {
   "cell_type": "markdown",
   "id": "dbc92ef9",
   "metadata": {},
   "source": [
    "### Original Hypothesis\n",
    "\n",
    "    The biggest driver for predicting win rates will be the data on ''."
   ]
  },
  {
   "cell_type": "markdown",
   "id": "2d7b2476",
   "metadata": {},
   "source": [
    "### Questions\n",
    "    \n",
    "    Ward score affects the outcome?\n",
    "    \n",
    "    Assists affects the outcome?\n",
    "    \n",
    "    Damage by magic affects the outcome?\n",
    "    \n",
    "    Towers lost affect the outcome?\n",
    "    \n",
    "    XP gained affects the outcome?\n",
    "    \n",
    "    Number of inhibitors lost affects the outcome?\n",
    "    \n",
    "    Team dragon kills affects the outcome of the game?"
   ]
  },
  {
   "cell_type": "markdown",
   "id": "f1cfd4e3",
   "metadata": {},
   "source": [
    "# Exploration"
   ]
  },
  {
   "cell_type": "markdown",
   "id": "54c43226",
   "metadata": {},
   "source": [
    "## What key drivers effect the outcome of winning a match?"
   ]
  },
  {
   "cell_type": "code",
   "execution_count": null,
   "id": "f0afc248",
   "metadata": {},
   "outputs": [],
   "source": [
    "# Heatmap\n",
    "sns.set()\n",
    "plt.figure(figsize=(20,28))\n",
    "heatmap = sns.heatmap(train.corr()[['winningTeam']].sort_values(by='winningTeam', ascending=False), vmin=-.50, vmax=.50, annot=True)\n",
    "heatmap.set_title('Feautures Correlating with winningTeam')"
   ]
  },
  {
   "cell_type": "markdown",
   "id": "fa77f25b",
   "metadata": {},
   "source": [
    "### Question 1\n",
    "- Is there a correlation between Blue team's gold and team levels that could effect outcome of the game"
   ]
  },
  {
   "cell_type": "markdown",
   "id": "7def1eea",
   "metadata": {},
   "source": [
    "# univariate study"
   ]
  },
  {
   "cell_type": "code",
   "execution_count": null,
   "id": "375c5500",
   "metadata": {},
   "outputs": [],
   "source": [
    "# univariate study\n",
    "univariate_study = ['BlueTeamTotalGoldDifference','BlueTeamLevelDifference']\n",
    "\n",
    "for i in univariate_study:\n",
    "    explore_univariate(train, i)\n",
    "    print(f'Summary Statistics for {i}\\n{train[i].describe()}')"
   ]
  },
  {
   "cell_type": "markdown",
   "id": "6c66ab0c",
   "metadata": {},
   "source": [
    " - Blue team had less then average gold and almost average levels at the 10 min mark"
   ]
  },
  {
   "cell_type": "markdown",
   "id": "221ea6c5",
   "metadata": {},
   "source": [
    "# Man Whitney U"
   ]
  },
  {
   "cell_type": "markdown",
   "id": "b1b8f5ba",
   "metadata": {},
   "source": [
    "# Stats\n",
    "from scipy.stats import mannwhitneyu, wilcoxon\n",
    "from scipy.stats import levene"
   ]
  },
  {
   "cell_type": "code",
   "execution_count": null,
   "id": "e8b7eb09",
   "metadata": {},
   "outputs": [],
   "source": [
    "# Stats\n",
    "from scipy.stats import mannwhitneyu, wilcoxon\n",
    "from scipy.stats import levene\n",
    "# From the scypi stats library, im going to use the levene test to check variance.\n",
    "# It will test the null hypothesis that all input samples are from populations with equal variances.\n",
    "stats, p = levene(train.BlueTeamTotalGoldDifference, train.BlueTeamLevelDifference)\n",
    "print(stats, p)\n",
    "alpha = .05\n",
    "if p < alpha:\n",
    "    print(\"blue and red populations do not have equal variances\")\n",
    "else:\n",
    "    print(\"blue and red populations do have equal variances\")\n"
   ]
  },
  {
   "cell_type": "code",
   "execution_count": null,
   "id": "a79193ae",
   "metadata": {},
   "outputs": [],
   "source": [
    "plt.figure(figsize=(10,5))\n",
    "sns.scatterplot(x='BlueTeamTotalGoldDifference',y='BlueTeamLevelDifference',data=train,hue='winningTeam', palette='colorblind')\n",
    "plt.title('Blue Team Gold and Level difference based on winning team', fontsize = 20)\n",
    "plt.show()"
   ]
  },
  {
   "cell_type": "markdown",
   "id": "e5a00b70",
   "metadata": {},
   "source": [
    "# Hypothesis Testing"
   ]
  },
  {
   "cell_type": "markdown",
   "id": "0f6b5c9e",
   "metadata": {},
   "source": [
    "## $H_0$: Blue team's gold difference over 40 and blue team's level difference over 1  is not significant\n",
    "\n",
    "## $H_a$: Blue team's gold difference over 40 and blue team's level difference over 1  is not significant"
   ]
  },
  {
   "cell_type": "code",
   "execution_count": null,
   "id": "8e45dd3c",
   "metadata": {},
   "outputs": [],
   "source": [
    "import scipy.stats as stats\n",
    "# hypothesis testing\n",
    "\n",
    "null_hypothesis = \"Blue team's gold difference over 40 and blue team's level difference over 1  is not significant\"\n",
    "alternative_hypothesis = \"Blue team's gold difference under 40 and blue team's level difference under 1 is significant\"\n",
    "a = 0.05 #a for alpha \n",
    "\n",
    "big_loss = train[train.BlueTeamTotalGoldDifference > 40]\n",
    "little_loss = train[train.BlueTeamLevelDifference >= 1]\n",
    "t, p = stats.ttest_ind(big_loss.winningTeam, little_loss.winningTeam)\n",
    "print(p)\n",
    "if p < a:\n",
    "    print(f'Reject null hypothesis that: {null_hypothesis}')\n",
    "    print (f'There is evidence to suggest: {alternative_hypothesis}')\n",
    "else:\n",
    "    print(f'Fail to reject null hypothesis that: {null_hypothesis} There is not sufficient evidence to reject it.')"
   ]
  },
  {
   "cell_type": "markdown",
   "id": "06c03206",
   "metadata": {},
   "source": [
    "### Hypothesis Results:\n",
    "\n",
    "- There is no difference if the blue teams gold difference is over 40 and blue team's level difference is greater then or equal to 1 that could impact the results of game"
   ]
  },
  {
   "cell_type": "markdown",
   "id": "53afb87b",
   "metadata": {},
   "source": [
    "### Takeaways\n",
    "\n",
    "- I have a 95% confidence level that there is no difference in outcome when blue team gold difference is over 40 and team level difference is over 1\n",
    "    "
   ]
  },
  {
   "cell_type": "markdown",
   "id": "e1838407",
   "metadata": {},
   "source": [
    "### Question 2\n",
    "- Is there a correlation between 'Blue Team Physical Damage Difference and Blue Team Kda Difference"
   ]
  },
  {
   "cell_type": "markdown",
   "id": "fe5ab545",
   "metadata": {},
   "source": [
    "# Univariate Study"
   ]
  },
  {
   "cell_type": "code",
   "execution_count": null,
   "id": "042a5134",
   "metadata": {},
   "outputs": [],
   "source": [
    "# univariate study\n",
    "univariate_study = ['BlueTeamPhysicalDmgDifference','BlueTeamKdaDifference']\n",
    "\n",
    "for i in univariate_study:\n",
    "    explore_univariate(train, i)\n",
    "    print(f'Summary Statistics for {i}\\n{train[i].describe()}')"
   ]
  },
  {
   "cell_type": "markdown",
   "id": "ec11d1aa",
   "metadata": {},
   "source": [
    "# Man Whitney U"
   ]
  },
  {
   "cell_type": "code",
   "execution_count": null,
   "id": "a3eea38b",
   "metadata": {},
   "outputs": [],
   "source": [
    "# From the scypi stats library, im going to use the levene test to check variance.\n",
    "# It will test the null hypothesis that all input samples are from populations with equal variances.\n",
    "stats, p = levene(train.BlueTeamPhysicalDmgDifference, train.BlueTeamKdaDifference)\n",
    "print(stats, p)\n",
    "alpha = .05\n",
    "if p < alpha:\n",
    "    print(\"blue and red populations do not have equal variances\")\n",
    "else:\n",
    "    print(\"blue and red populations do have equal variances\")\n"
   ]
  },
  {
   "cell_type": "markdown",
   "id": "312246b4",
   "metadata": {},
   "source": [
    "# Hypothesis Testing"
   ]
  },
  {
   "cell_type": "markdown",
   "id": "ab2b0ed6",
   "metadata": {},
   "source": [
    "## $H_0$: Blue team's physical damage difference over -85 and blue team's kda difference over 0  is not significant\n",
    "\n",
    "## $H_a$: Blue team's physical damage difference under -85 and blue team's kda difference under 0  is not significant"
   ]
  },
  {
   "cell_type": "code",
   "execution_count": null,
   "id": "ed0fc6e4",
   "metadata": {},
   "outputs": [],
   "source": [
    "# hypothesis testing\n",
    "import scipy.stats as stats\n",
    "null_hypothesis = \"Blue team's physical damage difference under -85 and blue team's kda difference under 0 is not significant\"\n",
    "alternative_hypothesis = \"Blue team's physical damage difference over -85 and blue team's kda difference over 0 is significant\"\n",
    "a = 0.05 #a for alpha \n",
    "\n",
    "big_xp = train[train.BlueTeamPhysicalDmgDifference > -85]\n",
    "little_xp = train[train.BlueTeamKdaDifference >= 0]\n",
    "t, p = stats.ttest_ind(big_xp.winningTeam, little_xp.winningTeam)\n",
    "print(p)\n",
    "if p < a:\n",
    "    print(f'Reject null hypothesis that: {null_hypothesis}')\n",
    "    print (f'There is evidence to suggest: {alternative_hypothesis}')\n",
    "else:\n",
    "    print(f'Fail to reject null hypothesis that: {null_hypothesis} There is not sufficient evidence to reject it.')"
   ]
  },
  {
   "cell_type": "code",
   "execution_count": null,
   "id": "0903ab39",
   "metadata": {},
   "outputs": [],
   "source": [
    "plt.figure(figsize=(10,5))\n",
    "sns.scatterplot(x='BlueTeamPhysicalDmgDifference',y='BlueTeamKdaDifference',data=train,hue='winningTeam', palette='colorblind')\n",
    "plt.title('Blue Team physical damage and kda difference based on winning team', fontsize = 20)\n",
    "plt.show()"
   ]
  },
  {
   "cell_type": "markdown",
   "id": "a79bdc90",
   "metadata": {},
   "source": [
    "### Hypothesis Results:\n",
    "    Blue team's physical damage difference over -85 and blue team's kda difference over 0 is significant"
   ]
  },
  {
   "cell_type": "markdown",
   "id": "263beb23",
   "metadata": {},
   "source": [
    "### Takeaways\n",
    "\n",
    "    I have a 95% confidence level that there is a difference in outcome when Blue team's physical damage difference is over -85 and blue team's kda difference over 0 is significant"
   ]
  },
  {
   "cell_type": "markdown",
   "id": "dd27893c",
   "metadata": {},
   "source": [
    "## Question 3\n",
    "- Is there a correlation between Blue team ward difference and blue team's minion kill difference that will effect the outcome of the game"
   ]
  },
  {
   "cell_type": "code",
   "execution_count": null,
   "id": "3f4dc01a",
   "metadata": {},
   "outputs": [],
   "source": [
    "# univariate study\n",
    "univariate_study = ['BlueTeamWardDifference',\n",
    "       'BlueTeamminionKillDifference']\n",
    "\n",
    "for i in univariate_study:\n",
    "    explore_univariate(train, i)\n",
    "    print(f'Summary Statistics for {i}\\n{train[i].describe()}')"
   ]
  },
  {
   "cell_type": "markdown",
   "id": "26fad2c1",
   "metadata": {},
   "source": [
    "- blue team wards and minion kill difference are normally distributed\n",
    "- blue team ward and minion kill difference are averaging the same"
   ]
  },
  {
   "cell_type": "markdown",
   "id": "6c302249",
   "metadata": {},
   "source": [
    "# Man Whitney U"
   ]
  },
  {
   "cell_type": "code",
   "execution_count": null,
   "id": "e9873bf5",
   "metadata": {},
   "outputs": [],
   "source": [
    "# From the scypi stats library, im going to use the levene test to check variance.\n",
    "# It will test the null hypothesis that all input samples are from populations with equal variances.\n",
    "stats, p = levene(train.BlueTeamWardDifference, train.BlueTeamminionKillDifference)\n",
    "print(stats, p)\n",
    "alpha = .05\n",
    "if p < alpha:\n",
    "    print(\"blue and red populations do not have equal variances\")\n",
    "else:\n",
    "    print(\"blue and red populations do have equal variances\")\n"
   ]
  },
  {
   "cell_type": "markdown",
   "id": "ebbaed94",
   "metadata": {},
   "source": [
    "# Hypothesis Testing"
   ]
  },
  {
   "cell_type": "markdown",
   "id": "8ab44180",
   "metadata": {},
   "source": [
    "## $H_0$: Blue team's ward difference over 0 and blue team's minion kills difference over 0  is not significant\n",
    "\n",
    "## $H_a$: Blue team's gold difference under 0 and blue team's minion kills difference under 0  is not significant"
   ]
  },
  {
   "cell_type": "code",
   "execution_count": null,
   "id": "b4fc2099",
   "metadata": {},
   "outputs": [],
   "source": [
    "# hypothesis testing\n",
    "import scipy.stats as stats\n",
    "null_hypothesis = \"Blue team's ward difference over 0 and blue team's minion kills difference over 0  is not significant\"\n",
    "alternative_hypothesis = \"Blue team's gold difference under 0 and blue team's minion kills difference under 0  is not significant\"\n",
    "a = 0.05 #a for alpha \n",
    "\n",
    "big_xp = train[train.BlueTeamWardDifference > 0]\n",
    "little_xp = train[train.BlueTeamminionKillDifference >= 0]\n",
    "t, p = stats.ttest_ind(big_xp.winningTeam, little_xp.winningTeam)\n",
    "print(p)\n",
    "if p < a:\n",
    "    print(f'Reject null hypothesis that: {null_hypothesis}')\n",
    "    print (f'There is evidence to suggest: {alternative_hypothesis}')\n",
    "else:\n",
    "    print(f'Fail to reject null hypothesis that: {null_hypothesis} There is not sufficient evidence to reject it.')"
   ]
  },
  {
   "cell_type": "markdown",
   "id": "63049979",
   "metadata": {},
   "source": [
    "### Hypothesis Results:\n",
    "- with a p value of .06 there maybe some reason to believe that the blue team's wards difference and minion kill difference over 0 maybe significant"
   ]
  },
  {
   "cell_type": "markdown",
   "id": "c9d5942e",
   "metadata": {},
   "source": [
    "# Exploration Take Away"
   ]
  },
  {
   "cell_type": "markdown",
   "id": "f2985b75",
   "metadata": {},
   "source": [
    "    - Features I am predicting to do reasonably well in my model.  I will try them in the modeling stage and document the process.\n",
    "    \n",
    "        'Assists'\n",
    "        'Barons'\n",
    "        'Inhibitors'\n",
    "        'Towers'"
   ]
  },
  {
   "cell_type": "markdown",
   "id": "0adba489",
   "metadata": {},
   "source": [
    "# Modeling\n",
    "\n",
    "\n",
    "    - Create a baseline\n",
    "    - Split the data into X and y groups\n",
    "    - No need for validate, using cross-validation in place of\n",
    "    - Build RandomForestClassifier models\n",
    "    - Evaluate the best one to use on our the test dataset."
   ]
  },
  {
   "cell_type": "code",
   "execution_count": null,
   "id": "e7639999",
   "metadata": {},
   "outputs": [],
   "source": [
    "train, test = prep(acquire())"
   ]
  },
  {
   "cell_type": "markdown",
   "id": "ba989fca",
   "metadata": {},
   "source": [
    "### Create a Baseline\n",
    "\n",
    "    Since this is a classification problem, we will set the baseline to whichever team has the most wins in our training set."
   ]
  },
  {
   "cell_type": "code",
   "execution_count": null,
   "id": "7bf8339b",
   "metadata": {},
   "outputs": [],
   "source": [
    "# Which team has the most wins? Team 200.0\n",
    "y_train.value_counts()"
   ]
  },
  {
   "cell_type": "code",
   "execution_count": null,
   "id": "98245c69",
   "metadata": {},
   "outputs": [],
   "source": [
    "# The following function call creates the baseline, returns the model, and prints the accuracy\n",
    "baseline_model = model.baseline_acc(X_train, y_train)"
   ]
  },
  {
   "cell_type": "markdown",
   "id": "83218d21",
   "metadata": {},
   "source": [
    "### Split Into X and y Groups"
   ]
  },
  {
   "cell_type": "code",
   "execution_count": null,
   "id": "1051722d",
   "metadata": {},
   "outputs": [],
   "source": [
    "#X group = features, y group = target\n",
    "X_train, y_train = train.drop(columns = ['winningTeam']), train.winningTeam"
   ]
  },
  {
   "cell_type": "code",
   "execution_count": null,
   "id": "815a613a",
   "metadata": {},
   "outputs": [],
   "source": [
    "#X group = features, y group = target\n",
    "X_test, y_test = train.drop(columns = ['winningTeam']), test.winningTeam"
   ]
  },
  {
   "cell_type": "code",
   "execution_count": null,
   "id": "308b82d3",
   "metadata": {},
   "outputs": [],
   "source": [
    "#Verify they are the same length\n",
    "X_train.shape, y_train.shape"
   ]
  },
  {
   "cell_type": "markdown",
   "id": "549a4868",
   "metadata": {},
   "source": [
    "### Create Train and Test Sets\n",
    "\n",
    "    We will not need a validate dataset since we are utilizing cross-validation. The following line of code will set aside 20% of the data for testing."
   ]
  },
  {
   "cell_type": "code",
   "execution_count": null,
   "id": "1046469d",
   "metadata": {},
   "outputs": [],
   "source": [
    "train.shape, test.shape"
   ]
  },
  {
   "cell_type": "markdown",
   "id": "10b6e97a",
   "metadata": {},
   "source": [
    "### Random Forest Classifier\n",
    "\n",
    "    To use the function we wrote, you must first create a dicitonary keyed with hyperparameters and a range of values for each. It will be used to find and return an optimized Random Forest Classifier model."
   ]
  },
  {
   "cell_type": "code",
   "execution_count": null,
   "id": "47b952c4",
   "metadata": {},
   "outputs": [],
   "source": [
    "#Create the dictionary of hyperparameters we want to optimize across\n",
    "param_dict = {\n",
    "    'max_depth': range(1, 16),\n",
    "    'min_samples_leaf': range(1, 16)\n",
    "}"
   ]
  },
  {
   "cell_type": "code",
   "execution_count": null,
   "id": "de963f48",
   "metadata": {},
   "outputs": [],
   "source": [
    "#The following function call will find and return an optimized Random Forest Classifier\n",
    "#and print out that model's mean cross-validated accuracy and its hyperparameters.\n",
    "best_model = model.get_random_forest_models(X_train, y_train, param_dict)"
   ]
  },
  {
   "cell_type": "markdown",
   "id": "66770832",
   "metadata": {},
   "source": [
    "__Best Model Takeaways__\n",
    "\n",
    "    - Random Forest Classifier\n",
    "    - Mean Cross-Validated Accuracy: 96.64%\n",
    "    - Outperformed Baseline by 42%\n",
    "    - Max Depth: 8\n",
    "    - Minimum Samples Per Leaf: 3"
   ]
  },
  {
   "cell_type": "markdown",
   "id": "3e1143e7",
   "metadata": {},
   "source": [
    "__Top 10 Features__"
   ]
  },
  {
   "cell_type": "code",
   "execution_count": null,
   "id": "ce761af1",
   "metadata": {},
   "outputs": [],
   "source": [
    "best_features = pd.DataFrame(best_model.feature_importances_, X_train.columns)\n",
    "best_features.sort_values(by = 0, ascending = False).head(10)"
   ]
  },
  {
   "cell_type": "markdown",
   "id": "8605c979",
   "metadata": {},
   "source": [
    "# Evaluation\n",
    "\n",
    "    - Refit on train data before using it on the test data. \n",
    "    \n",
    "    - This needs to be done because cross-validation fits models on a small subset of the given data which means that our best model has only been trained on a fraction of the actual training data set."
   ]
  },
  {
   "cell_type": "markdown",
   "id": "606ad427",
   "metadata": {},
   "source": [
    "__Fit Best Model on All Train Data__"
   ]
  },
  {
   "cell_type": "code",
   "execution_count": null,
   "id": "da2d02a9",
   "metadata": {},
   "outputs": [],
   "source": [
    "#The following line of code will fit our best model to all of the training data\n",
    "best_model.fit(X_train, y_train)"
   ]
  },
  {
   "cell_type": "markdown",
   "id": "fa949436",
   "metadata": {},
   "source": [
    "__Evaluate On Test__"
   ]
  },
  {
   "cell_type": "code",
   "execution_count": null,
   "id": "889a1061",
   "metadata": {},
   "outputs": [],
   "source": [
    "#The following code will score our best model on the unseen test data\n",
    "\n",
    "#Remove this comment and uncomment the following line of code only when ready for testing!\n",
    "\n",
    "#best_model.score(X_test, y_test)"
   ]
  },
  {
   "cell_type": "markdown",
   "id": "d744ef64",
   "metadata": {},
   "source": [
    "### Conclusion\n",
    "\n",
    "    Our random forest classifier model accuracy average using cross validation was roughly 97% beating our baseline accuracy by 42%.\n",
    "    \n",
    "    Our model confirmed that our original hypothesis of 'TeamWards' being the biggest driver of win rates was incorrect.  Our models feature importance concluded that 'towers_lost' was the biggest driver in predicting win rates. \n",
    "    \n",
    "    Our model identified the most important features as:\n",
    "        \n",
    "        'towers_lost_'\n",
    "        'inhibs_lost_team200'\n",
    "        'baron_team100'\n",
    "        'dragon_team100'\n",
    "        'team_totalGold_100'\n",
    "        'team_xp_100'\n",
    "        \n",
    "    If we had more time we would have liked to:\n",
    "    \n",
    "        - run our model on non-pro games & see if 'towers_lost' is still the biggest driver for predicting win rates\n",
    "        - dive deeper into what are the drivers for gaining towers\n",
    "        - engineer more features\n",
    "        - predict a winner at a much earlier time than 10 min into a game\n",
    "        "
   ]
  },
  {
   "cell_type": "markdown",
   "id": "76c49894",
   "metadata": {},
   "source": [
    "### Recommendations\n",
    "\n",
    "    The data suggests:  \n",
    "    \n",
    "    - If you are a coach, revolving your team stragety around objectives can lead to more wins. \n",
    "    \n",
    "    - If you are player, encouraging memebers of ones team to work around objectives can lead to more wins. "
   ]
  },
  {
   "cell_type": "markdown",
   "id": "a471aec2",
   "metadata": {},
   "source": [
    "### Key Takeaways\n",
    "\n",
    "    We used event data from the Riot API to calcuate what the value of each oberservation was at the 10 min marker.\n",
    "    \n",
    "    The only 'gameType' used was \"classic\".  Which means all the data is from the most popular game mode and on the same map.\n",
    "\n",
    "    Games were pulled from various game patches to include:\n",
    "\n",
    "        '11.10.376.4811'\n",
    "        '11.11.377.6311'\n",
    "        '11.12.379.4946'\n",
    "        '11.13.382.1241'\n",
    "        '11.14.384.6677'\n",
    "        '11.14.385.9967'\n",
    "        '11.15.388.2387'\n",
    "        '11.15.389.2308'\n",
    "        '11.16.390.1945'\n",
    "        '11.17.393.607'\n",
    "        '11.17.394.4489'\n",
    "        '11.18.395.7538'\n",
    "        '11.19.398.2521'\n",
    "        '11.19.398.9466'\n",
    "        '11.20.400.7328'\n",
    "        '11.21.403.3002'\n",
    "        '11.22.406.3587'\n",
    "        '11.23.409.111'"
   ]
  },
  {
   "cell_type": "markdown",
   "id": "f55c7b25",
   "metadata": {},
   "source": [
    "# Thank you"
   ]
  },
  {
   "cell_type": "code",
   "execution_count": null,
   "id": "3745a3fe",
   "metadata": {},
   "outputs": [],
   "source": []
  }
 ],
 "metadata": {
  "kernelspec": {
   "display_name": "Python 3",
   "language": "python",
   "name": "python3"
  },
  "language_info": {
   "codemirror_mode": {
    "name": "ipython",
    "version": 3
   },
   "file_extension": ".py",
   "mimetype": "text/x-python",
   "name": "python",
   "nbconvert_exporter": "python",
   "pygments_lexer": "ipython3",
   "version": "3.8.8"
  }
 },
 "nbformat": 4,
 "nbformat_minor": 5
}
